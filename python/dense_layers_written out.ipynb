{
 "cells": [
  {
   "cell_type": "code",
   "execution_count": 25,
   "metadata": {
    "collapsed": true,
    "ExecuteTime": {
     "end_time": "2024-03-11T11:30:00.013678Z",
     "start_time": "2024-03-11T11:30:00.009550Z"
    }
   },
   "outputs": [],
   "source": [
    "import numpy as np\n",
    "import matplotlib.pyplot as plt"
   ]
  },
  {
   "cell_type": "code",
   "outputs": [],
   "source": [
    "def one_hot_encode(y, num_classes):\n",
    "    return np.eye(num_classes)[y]"
   ],
   "metadata": {
    "collapsed": false,
    "ExecuteTime": {
     "end_time": "2024-03-11T11:30:00.264617Z",
     "start_time": "2024-03-11T11:30:00.261778Z"
    }
   },
   "execution_count": 26
  },
  {
   "cell_type": "code",
   "outputs": [],
   "source": [
    "# read mnist data\n",
    "def read_mnist_images(filename):\n",
    "    with open(filename, 'rb') as f:\n",
    "        data = f.read()\n",
    "        assert int.from_bytes(data[:4], byteorder='big') == 2051\n",
    "        n_images = int.from_bytes(data[4:8], byteorder='big')\n",
    "        n_rows = int.from_bytes(data[8:12], byteorder='big')\n",
    "        n_cols = int.from_bytes(data[12:16], byteorder='big')\n",
    "        images = np.frombuffer(data, dtype=np.uint8, offset=16).reshape(n_images, n_rows, n_cols)\n",
    "        return images, n_images\n",
    "\n",
    "\n",
    "def read_mnist_labels(filename):\n",
    "    with open(filename, 'rb') as f:\n",
    "        data = f.read()\n",
    "        assert int.from_bytes(data[:4], byteorder='big') == 2049\n",
    "        labels = np.frombuffer(data, dtype=np.uint8, offset=8)\n",
    "        return labels\n",
    "\n",
    "\n",
    "x, num_inputs = read_mnist_images('mnist/train-images.idx3-ubyte')\n",
    "x = x.reshape(-1, 784)\n",
    "x = x / 255.\n",
    "y = one_hot_encode(read_mnist_labels('mnist/train-labels.idx1-ubyte'), 10)"
   ],
   "metadata": {
    "collapsed": false,
    "ExecuteTime": {
     "end_time": "2024-03-11T11:30:00.583095Z",
     "start_time": "2024-03-11T11:30:00.498363Z"
    }
   },
   "execution_count": 27
  },
  {
   "cell_type": "code",
   "outputs": [],
   "source": [
    "w1 = np.random.rand(784, 10) - 0.5 # column per neuron, row per input\n",
    "b1 = np.zeros((1, 10))\n",
    "w2 = np.random.rand(10, 10) - 0.5\n",
    "b2 = np.zeros((1, 10))"
   ],
   "metadata": {
    "collapsed": false,
    "ExecuteTime": {
     "end_time": "2024-03-05T20:41:37.850428Z",
     "start_time": "2024-03-05T20:41:37.848295Z"
    }
   },
   "execution_count": 106
  },
  {
   "cell_type": "code",
   "outputs": [],
   "source": [
    "def relu(x):\n",
    "    return np.maximum(0, x)"
   ],
   "metadata": {
    "collapsed": false,
    "ExecuteTime": {
     "end_time": "2024-03-05T20:41:40.303555Z",
     "start_time": "2024-03-05T20:41:40.301884Z"
    }
   },
   "execution_count": 107
  },
  {
   "cell_type": "code",
   "outputs": [],
   "source": [
    "def softmax(x):\n",
    "    exp_values = np.exp(x - np.max(x, axis=1, keepdims=True))\n",
    "    return exp_values / np.sum(exp_values, axis=1, keepdims=True)"
   ],
   "metadata": {
    "collapsed": false,
    "ExecuteTime": {
     "end_time": "2024-03-05T20:41:42.065879Z",
     "start_time": "2024-03-05T20:41:42.063222Z"
    }
   },
   "execution_count": 108
  },
  {
   "cell_type": "code",
   "outputs": [],
   "source": [
    "def forward_propagation(x_batch, y_batch, w1, b1, w2, b2):\n",
    "    z1 = np.dot(x_batch, w1) + b1\n",
    "    a1 = relu(z1)\n",
    "    z2 = np.dot(a1, w2) + b2\n",
    "    a2 = softmax(z2)\n",
    "    loss = np.sum(-np.log(a2) * y_batch)\n",
    "    return z1, a1, z2, a2, loss\n",
    "\n",
    "\n",
    "def backward_propagation(x_batch, y_batch, z1, a1, a2, w2):\n",
    "    samples = len(x_batch)\n",
    "    dZ2 = a2 - y_batch\n",
    "    dW2 = np.dot(a1.T, dZ2) / samples\n",
    "    db2 = np.sum(dZ2, axis=0, keepdims=True) / samples\n",
    "    dZ1 = np.dot(dZ2, w2.T) / samples\n",
    "    dZ1[z1 <= 0] = 0\n",
    "    dW1 = np.dot(x_batch.T, dZ1) / samples\n",
    "    db1 = np.sum(dZ1, axis=0, keepdims=True) / samples\n",
    "    return dW1, db1, dW2, db2\n",
    "\n",
    "\n",
    "def update_params(w1, b1, w2, b2, dW1, db1, dW2, db2, learning_rate):\n",
    "    w1 -= learning_rate * dW1\n",
    "    b1 -= learning_rate * db1\n",
    "    w2 -= learning_rate * dW2\n",
    "    b2 -= learning_rate * db2.reshape(1, -1)\n",
    "    return w1, b1, w2, b2\n",
    "\n",
    "\n",
    "def run_network(x, y, w1, b1, w2, b2, learning_rate, epochs, batch_size):\n",
    "    for i in range(epochs):\n",
    "        for j in range(0, len(x), batch_size):\n",
    "            x_batch = x[j:j+batch_size]\n",
    "            y_batch = y[j:j+batch_size]\n",
    "            z1, a1, z2, a2, loss = forward_propagation(x_batch, y_batch, w1, b1, w2, b2)\n",
    "            dW1, db1, dW2, db2 = backward_propagation(x_batch, y_batch, z1, a1, a2, w2)\n",
    "            w1, b1, w2, b2 = update_params(w1, b1, w2, b2, dW1, db1, dW2, db2, learning_rate)\n",
    "            accuracy = np.mean(np.argmax(a2, axis=1) == np.argmax(y_batch, axis=1))\n",
    "        print(f'epoch: {i}, loss: {loss}', f'acc: {accuracy:.3f}')\n",
    "    return w1, b1, w2, b2"
   ],
   "metadata": {
    "collapsed": false,
    "ExecuteTime": {
     "end_time": "2024-03-05T20:43:08.836278Z",
     "start_time": "2024-03-05T20:43:08.831212Z"
    }
   },
   "execution_count": 111
  },
  {
   "cell_type": "code",
   "outputs": [
    {
     "name": "stdout",
     "output_type": "stream",
     "text": [
      "epoch: 0, loss: 68.62185684134681 acc: 0.567\n",
      "epoch: 1, loss: 59.39637096106717 acc: 0.633\n",
      "epoch: 2, loss: 51.84373862034248 acc: 0.667\n",
      "epoch: 3, loss: 46.03141379764037 acc: 0.717\n",
      "epoch: 4, loss: 41.46035877464296 acc: 0.767\n",
      "epoch: 5, loss: 37.82684784554139 acc: 0.767\n",
      "epoch: 6, loss: 34.965843232417456 acc: 0.783\n",
      "epoch: 7, loss: 32.68150227276578 acc: 0.833\n",
      "epoch: 8, loss: 30.746798050016114 acc: 0.833\n",
      "epoch: 9, loss: 29.130516186253864 acc: 0.850\n",
      "epoch: 10, loss: 27.745920228753654 acc: 0.850\n",
      "epoch: 11, loss: 26.564351500067822 acc: 0.850\n",
      "epoch: 12, loss: 25.492075590127577 acc: 0.883\n",
      "epoch: 13, loss: 24.567553706978007 acc: 0.900\n",
      "epoch: 14, loss: 23.75885541506846 acc: 0.917\n",
      "epoch: 15, loss: 23.034006104923268 acc: 0.917\n",
      "epoch: 16, loss: 22.392860634561696 acc: 0.917\n",
      "epoch: 17, loss: 21.83225351845656 acc: 0.917\n",
      "epoch: 18, loss: 21.33625148443803 acc: 0.917\n",
      "epoch: 19, loss: 20.889520643183893 acc: 0.933\n",
      "epoch: 20, loss: 20.487947262436258 acc: 0.933\n",
      "epoch: 21, loss: 20.129031910655073 acc: 0.933\n",
      "epoch: 22, loss: 19.80883391707792 acc: 0.933\n",
      "epoch: 23, loss: 19.527547461693395 acc: 0.933\n",
      "epoch: 24, loss: 19.281158046131004 acc: 0.933\n",
      "epoch: 25, loss: 19.066095770011252 acc: 0.933\n",
      "epoch: 26, loss: 18.87740046155399 acc: 0.933\n",
      "epoch: 27, loss: 18.70593314016238 acc: 0.933\n",
      "epoch: 28, loss: 18.54908665618435 acc: 0.933\n",
      "epoch: 29, loss: 18.401477840734373 acc: 0.933\n",
      "epoch: 30, loss: 18.255279537035822 acc: 0.933\n",
      "epoch: 31, loss: 18.106928130829267 acc: 0.933\n",
      "epoch: 32, loss: 17.9615142441483 acc: 0.933\n",
      "epoch: 33, loss: 17.8267798954265 acc: 0.933\n",
      "epoch: 34, loss: 17.694912686611488 acc: 0.933\n",
      "epoch: 35, loss: 17.572887426032903 acc: 0.917\n",
      "epoch: 36, loss: 17.458169869391774 acc: 0.917\n",
      "epoch: 37, loss: 17.35524038149886 acc: 0.933\n",
      "epoch: 38, loss: 17.251889423874786 acc: 0.933\n",
      "epoch: 39, loss: 17.152469468772182 acc: 0.933\n",
      "epoch: 40, loss: 17.065667981951442 acc: 0.933\n",
      "epoch: 41, loss: 16.964747841663595 acc: 0.933\n",
      "epoch: 42, loss: 16.86035318996846 acc: 0.933\n",
      "epoch: 43, loss: 16.75462140151774 acc: 0.933\n",
      "epoch: 44, loss: 16.655966102310355 acc: 0.933\n",
      "epoch: 45, loss: 16.557418554378284 acc: 0.933\n",
      "epoch: 46, loss: 16.465160640415434 acc: 0.933\n",
      "epoch: 47, loss: 16.377651412034382 acc: 0.933\n",
      "epoch: 48, loss: 16.294596873147345 acc: 0.933\n",
      "epoch: 49, loss: 16.208164864232977 acc: 0.933\n",
      "epoch: 50, loss: 16.12155930104873 acc: 0.933\n",
      "epoch: 51, loss: 16.040306371960323 acc: 0.933\n",
      "epoch: 52, loss: 15.952193488724502 acc: 0.933\n",
      "epoch: 53, loss: 15.865850593555251 acc: 0.933\n",
      "epoch: 54, loss: 15.786746885653555 acc: 0.933\n",
      "epoch: 55, loss: 15.717791773749886 acc: 0.933\n",
      "epoch: 56, loss: 15.650178836121508 acc: 0.933\n",
      "epoch: 57, loss: 15.590206273352836 acc: 0.933\n",
      "epoch: 58, loss: 15.527830385859362 acc: 0.933\n",
      "epoch: 59, loss: 15.465684070408471 acc: 0.933\n",
      "epoch: 60, loss: 15.402326993632443 acc: 0.933\n",
      "epoch: 61, loss: 15.33600493171159 acc: 0.933\n",
      "epoch: 62, loss: 15.273040439422157 acc: 0.933\n",
      "epoch: 63, loss: 15.210372456203588 acc: 0.933\n",
      "epoch: 64, loss: 15.151923697615416 acc: 0.933\n",
      "epoch: 65, loss: 15.101732037219037 acc: 0.933\n",
      "epoch: 66, loss: 15.0525747837164 acc: 0.933\n",
      "epoch: 67, loss: 15.009733984815206 acc: 0.933\n",
      "epoch: 68, loss: 14.965121347595044 acc: 0.933\n",
      "epoch: 69, loss: 14.918220349710857 acc: 0.933\n",
      "epoch: 70, loss: 14.87084042358681 acc: 0.933\n",
      "epoch: 71, loss: 14.819290207446212 acc: 0.933\n",
      "epoch: 72, loss: 14.76270128815748 acc: 0.933\n",
      "epoch: 73, loss: 14.714474456207402 acc: 0.933\n",
      "epoch: 74, loss: 14.662836814346868 acc: 0.917\n",
      "epoch: 75, loss: 14.603587622953732 acc: 0.917\n",
      "epoch: 76, loss: 14.54807961178748 acc: 0.917\n",
      "epoch: 77, loss: 14.497320723463236 acc: 0.917\n",
      "epoch: 78, loss: 14.451941861469146 acc: 0.917\n",
      "epoch: 79, loss: 14.410676240545696 acc: 0.917\n",
      "epoch: 80, loss: 14.363730333027071 acc: 0.917\n",
      "epoch: 81, loss: 14.315934028031194 acc: 0.917\n",
      "epoch: 82, loss: 14.26707186835639 acc: 0.917\n",
      "epoch: 83, loss: 14.21806619415905 acc: 0.917\n",
      "epoch: 84, loss: 14.168762394897783 acc: 0.917\n",
      "epoch: 85, loss: 14.119227077794477 acc: 0.933\n",
      "epoch: 86, loss: 14.06214531430283 acc: 0.933\n",
      "epoch: 87, loss: 14.00311084937288 acc: 0.917\n",
      "epoch: 88, loss: 13.941505498892996 acc: 0.917\n",
      "epoch: 89, loss: 13.879517454324873 acc: 0.917\n",
      "epoch: 90, loss: 13.819152332638202 acc: 0.917\n",
      "epoch: 91, loss: 13.754501977969712 acc: 0.917\n",
      "epoch: 92, loss: 13.696367378289287 acc: 0.917\n",
      "epoch: 93, loss: 13.640536185448365 acc: 0.933\n",
      "epoch: 94, loss: 13.58087441902618 acc: 0.933\n",
      "epoch: 95, loss: 13.525314949035366 acc: 0.933\n",
      "epoch: 96, loss: 13.460028993104498 acc: 0.933\n",
      "epoch: 97, loss: 13.401421262595308 acc: 0.933\n",
      "epoch: 98, loss: 13.349969531371876 acc: 0.933\n",
      "epoch: 99, loss: 13.299884288785178 acc: 0.933\n"
     ]
    },
    {
     "data": {
      "text/plain": "(array([[-0.30568667,  0.08216111,  0.24655292, ..., -0.24389695,\n          0.36517454, -0.47602579],\n        [-0.37954433,  0.28976872,  0.37714034, ..., -0.28089931,\n          0.17805563, -0.27208733],\n        [-0.36769763,  0.0375225 , -0.28643863, ...,  0.33290355,\n         -0.20914793, -0.28010473],\n        ...,\n        [ 0.32508396,  0.30507554,  0.15377305, ...,  0.39468545,\n          0.07197811, -0.29339456],\n        [ 0.36273376,  0.38368134,  0.0333614 , ..., -0.3117535 ,\n          0.45396944, -0.03874367],\n        [-0.21313943, -0.4697434 , -0.09562315, ...,  0.00748295,\n          0.49913972, -0.34847776]]),\n array([[ 0.27953097,  0.43484602,  0.08679978,  0.07027574, -0.09009629,\n          0.07789391, -0.19920855,  0.08838469,  0.08312816,  0.06898432]]),\n array([[-0.6326944 ,  0.07711258, -0.90100539,  0.01713515,  1.26211373,\n         -0.18753318, -0.89020279,  0.66083651,  0.11662644,  1.19524407],\n        [-0.6001226 ,  0.62052728,  0.34386664,  0.4895087 , -0.12442423,\n         -0.89815215,  0.18338565, -0.01289862, -0.52491357, -0.13265872],\n        [ 0.64175739, -0.32789323, -0.36246657,  0.32310896, -0.28886746,\n         -0.57093445,  0.13132661,  0.14317518, -0.22553466, -0.05531925],\n        [ 0.79383047, -0.89103693,  0.12224273,  0.08188056,  0.72594403,\n          0.6760425 ,  1.04901414, -0.4207129 ,  0.13971517,  0.05582847],\n        [ 0.69738134, -0.19919831,  0.9436685 ,  0.76197759, -1.73157235,\n         -0.10336957, -1.06333152,  0.28789746, -0.05595437, -0.28313691],\n        [ 0.45368774, -0.77314506,  0.19986843,  0.49141733, -0.80649379,\n         -0.00815707, -1.37123749,  1.16911452, -0.06929721,  0.27846809],\n        [ 0.45253337,  0.25258024,  0.27316838, -0.12951764, -1.78914865,\n          0.79695406,  0.71255713, -1.05693676,  0.45732553, -0.79365327],\n        [ 0.00307493, -0.49649041,  0.35961876, -0.45217669,  0.11712298,\n         -0.64331477,  0.183978  , -0.37215568,  0.27402164,  0.18630281],\n        [-0.52686991,  0.20901413,  0.34361418, -0.82398589, -0.0151827 ,\n         -0.2986964 ,  0.4788852 ,  0.30943471,  0.00618494, -0.64113574],\n        [-0.67641529,  0.49248605, -0.24465001,  0.37368178, -0.38693088,\n          0.19969265, -0.21823212, -0.73812101,  0.76871207,  0.03400273]]),\n array([[-0.18537236,  0.83113443, -1.32529583, -0.66332747,  0.46530353,\n          3.56677149, -0.9257315 ,  0.65807638, -2.03920123, -0.38235746]]))"
     },
     "execution_count": 112,
     "metadata": {},
     "output_type": "execute_result"
    }
   ],
   "source": [
    "run_network(x, y, w1, b1, w2, b2, 0.1, 100, 60)"
   ],
   "metadata": {
    "collapsed": false,
    "ExecuteTime": {
     "end_time": "2024-03-05T20:44:19.646859Z",
     "start_time": "2024-03-05T20:43:12.192391Z"
    }
   },
   "execution_count": 112
  },
  {
   "cell_type": "code",
   "outputs": [
    {
     "name": "stdout",
     "output_type": "stream",
     "text": [
      "2\n",
      "2\n"
     ]
    }
   ],
   "source": [
    "test_sample_num = 9893\n",
    "x_test, num_inputs = read_mnist_images('mnist/t10k-images.idx3-ubyte')\n",
    "x_test_flat = x_test.reshape(-1, 784) / 255.\n",
    "y_test = one_hot_encode(read_mnist_labels('mnist/t10k-labels.idx1-ubyte'), 10)\n",
    "network.forward_propagation(x_test_flat, y_test)\n",
    "print(np.argmax(network.layers[-1].output[test_sample_num]))\n",
    "print(np.argmax(y_test[test_sample_num]))\n"
   ],
   "metadata": {
    "collapsed": false,
    "ExecuteTime": {
     "end_time": "2024-03-11T11:32:51.992597Z",
     "start_time": "2024-03-11T11:32:51.955311Z"
    }
   },
   "execution_count": 38
  },
  {
   "cell_type": "code",
   "outputs": [
    {
     "data": {
      "text/plain": "<matplotlib.image.AxesImage at 0x132ff0d50>"
     },
     "execution_count": 39,
     "metadata": {},
     "output_type": "execute_result"
    },
    {
     "data": {
      "text/plain": "<Figure size 640x480 with 1 Axes>",
      "image/png": "[encoded data removed]"
     },
     "metadata": {},
     "output_type": "display_data"
    }
   ],
   "source": [
    "plt.imshow(x_test[9893], cmap='gray')"
   ],
   "metadata": {
    "collapsed": false,
    "ExecuteTime": {
     "end_time": "2024-03-11T11:32:55.976609Z",
     "start_time": "2024-03-11T11:32:55.910725Z"
    }
   },
   "execution_count": 39
  }
 ],
 "metadata": {
  "kernelspec": {
   "display_name": "Python 3 (ipykernel)",
   "language": "python",
   "name": "python3"
  },
  "language_info": {
   "codemirror_mode": {
    "name": "ipython",
    "version": 3
   },
   "file_extension": ".py",
   "mimetype": "text/x-python",
   "name": "python",
   "nbconvert_exporter": "python",
   "pygments_lexer": "ipython3",
   "version": "3.11.7"
  }
 },
 "nbformat": 4,
 "nbformat_minor": 0
}
