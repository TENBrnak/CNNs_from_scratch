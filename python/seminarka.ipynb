{
 "cells": [
  {
   "cell_type": "code",
   "execution_count": 1,
   "metadata": {
    "collapsed": true,
    "ExecuteTime": {
     "end_time": "2024-04-02T19:27:29.012267Z",
     "start_time": "2024-04-02T19:27:28.635476Z"
    }
   },
   "outputs": [],
   "source": [
    "import json\n",
    "import numpy as np\n",
    "import scipy as sp\n",
    "import matplotlib.pyplot as plt"
   ]
  },
  {
   "cell_type": "markdown",
   "source": [
    "# Notes for users\n",
    "## Installation\n",
    "- all packages required are listed above, namely numpy, scipy and matplotlib (visualization - optional)\n",
    "- I recommend running in a Jupyter notebook\n",
    "- pulling the entire repository is also required to get all the accompanying files such as model saves and datasets\n",
    "## User Guide\n",
    "- run this notebook mostly sequentially, I recommend skipping the training stages as they take quite long and using the saved models instead\n",
    "- this notebook is intended for people who are able to read code, it is a proof-of-concept and in no way, shape or form intended for any actual use\n",
    "# Inspiration/Source\n",
    "- heavy inspiration for this work has been taken from the Neural Networks from Scratch by Harrison Kinsley and Daniel Kukiela available at https://nnfs.io/, code for the LayerDense, ActivationReLU, ActivationSoftmaxLossCategoricalCrossentropy and OptimizerSGD classes were taken directly from the book with some but often only limited modifications\n",
    "- the LayerConvolutional, LayerMaxPooling, LayerFlatten and Network classes were written entirely by me"
   ],
   "metadata": {
    "collapsed": false
   }
  },
  {
   "cell_type": "code",
   "outputs": [],
   "source": [
    "def one_hot_encode(y, num_classes):\n",
    "    return np.eye(num_classes)[y]"
   ],
   "metadata": {
    "collapsed": false,
    "ExecuteTime": {
     "end_time": "2024-04-02T19:27:29.626300Z",
     "start_time": "2024-04-02T19:27:29.624470Z"
    }
   },
   "execution_count": 2
  },
  {
   "cell_type": "code",
   "outputs": [],
   "source": [
    "# read mnist data\n",
    "def read_mnist_images(filename):\n",
    "    with open(filename, 'rb') as f:\n",
    "        data = f.read()\n",
    "        assert int.from_bytes(data[:4], byteorder='big') == 2051\n",
    "        n_images = int.from_bytes(data[4:8], byteorder='big')\n",
    "        n_rows = int.from_bytes(data[8:12], byteorder='big')\n",
    "        n_cols = int.from_bytes(data[12:16], byteorder='big')\n",
    "        images = np.frombuffer(data, dtype=np.uint8, offset=16).reshape(n_images, n_rows, n_cols)\n",
    "        return images, n_images\n",
    "\n",
    "\n",
    "def read_mnist_labels(filename):\n",
    "    with open(filename, 'rb') as f:\n",
    "        data = f.read()\n",
    "        assert int.from_bytes(data[:4], byteorder='big') == 2049\n",
    "        labels = np.frombuffer(data, dtype=np.uint8, offset=8)\n",
    "        return labels\n",
    "\n",
    "\n",
    "x, num_inputs = read_mnist_images('../mnist/train-images.idx3-ubyte')\n",
    "x = x.reshape((-1, 1, 28, 28))\n",
    "x = x / 255.\n",
    "y = one_hot_encode(read_mnist_labels('../mnist/train-labels.idx1-ubyte'), 10)"
   ],
   "metadata": {
    "collapsed": false,
    "ExecuteTime": {
     "end_time": "2024-04-02T19:27:50.801732Z",
     "start_time": "2024-04-02T19:27:50.724724Z"
    }
   },
   "execution_count": 4
  },
  {
   "cell_type": "code",
   "execution_count": 5,
   "metadata": {
    "collapsed": false,
    "ExecuteTime": {
     "end_time": "2024-04-02T19:27:54.342813Z",
     "start_time": "2024-04-02T19:27:54.337230Z"
    }
   },
   "outputs": [],
   "source": [
    "class LayerDense:\n",
    "    def __init__(self, n_inputs, n_neurons):\n",
    "        rng = np.random.default_rng()\n",
    "        variance = np.sqrt(6/(n_inputs + n_neurons))\n",
    "        self.weights = (rng.standard_normal(size=(n_inputs, n_neurons))) * variance # xavier initialization from tensorflow\n",
    "        self.biases = np.zeros((1, n_neurons))\n",
    "        self.n_inputs = n_inputs\n",
    "        self.n_neurons = n_neurons\n",
    "\n",
    "    def __getitem__(self, item):\n",
    "        if item == 'weights':\n",
    "            return self.weights\n",
    "        elif item == 'biases':\n",
    "            return self.biases\n",
    "        elif item == 'n_inputs':\n",
    "            return self.n_inputs\n",
    "        elif item == 'n_neurons':\n",
    "            return self.n_neurons\n",
    "\n",
    "    def __setitem__(self, key, value):\n",
    "        if key == 'weights':\n",
    "            self.weights = value\n",
    "        elif key == 'biases':\n",
    "            self.biases = value\n",
    "        elif key == 'n_neurons':\n",
    "            self.n_neurons = value\n",
    "        elif key == 'n_inputs':\n",
    "            self.n_inputs = value\n",
    "\n",
    "    def forward(self, inputs):\n",
    "        self.output = np.dot(inputs, self.weights) + self.biases\n",
    "        self.inputs = inputs\n",
    "\n",
    "\n",
    "    def backward(self, d_values):\n",
    "        self.dweights = np.dot(self.inputs.T, d_values) / len(self.inputs)\n",
    "        self.dbiases = np.sum(d_values, axis=0, keepdims=True) / len(self.inputs)\n",
    "        self.dinputs = np.dot(d_values, self.weights.T) / len(self.inputs)"
   ]
  },
  {
   "cell_type": "code",
   "outputs": [],
   "source": [
    "class LayerConvolutional:\n",
    "    def __init__(self, num_kernels, num_channels, kernel_size):\n",
    "        rng = np.random.default_rng()\n",
    "        variance = np.sqrt(6/(2*num_kernels*num_channels*kernel_size*kernel_size))\n",
    "        self.weights = (2*rng.standard_normal(size=(num_kernels, num_channels, kernel_size, kernel_size))) * variance\n",
    "        self.biases = np.zeros(num_kernels)\n",
    "        self.kernel_size = kernel_size\n",
    "        self.num_kernels = num_kernels\n",
    "        self.num_channels = num_channels\n",
    "\n",
    "    def __getitem__(self, item):\n",
    "        if item == 'weights':\n",
    "            return self.weights\n",
    "        elif item == 'biases':\n",
    "            return self.biases\n",
    "        elif item == 'num_kernels':\n",
    "            return self.num_kernels\n",
    "        elif item == 'num_channels':\n",
    "            return self.num_channels\n",
    "        elif item == 'kernel_size':\n",
    "            return self.kernel_size\n",
    "\n",
    "    def __setitem__(self, key, value):\n",
    "        if key == 'weights':\n",
    "            self.weights = value\n",
    "        elif key == 'biases':\n",
    "            self.biases = value\n",
    "        elif key == 'num_kernels':\n",
    "            self.num_kernels = value\n",
    "        elif key == 'num_channels':\n",
    "            self.num_channels = value\n",
    "        elif key == 'kernel_size':\n",
    "            self.kernel_size = value\n",
    "    \n",
    "    def forward(self, inputs):\n",
    "        if hasattr(self, 'output'):\n",
    "            delattr(self, 'output')\n",
    "        self.pad_size_rows = inputs.shape[-2] - (inputs.shape[-2] - self.kernel_size + 1)\n",
    "        self.pad_size_cols = inputs.shape[-1] - (inputs.shape[-1] - self.kernel_size + 1)\n",
    "        self.inputs = inputs\n",
    "        self.padded_inputs = np.pad(inputs, ((0, 0), (0, 0), (0, self.pad_size_rows), (0, self.pad_size_cols)))\n",
    "        if self.num_channels != self.inputs.shape[1]:\n",
    "            raise Exception('Error: number of filter and image channels does not match.')\n",
    "        for kernel, bias in zip(self.weights, self.biases):\n",
    "            if not hasattr(self, 'output'):\n",
    "                self.output = sp.signal.convolve(self.padded_inputs, [kernel], mode='valid') + bias\n",
    "            else:\n",
    "                self.output = np.append(self.output, sp.signal.convolve(self.padded_inputs, [kernel], mode='valid') + bias, axis=1)\n",
    "    \n",
    "    def backward(self, d_values):\n",
    "        self.dbiases = np.zeros_like(self.biases)\n",
    "        self.dinputs = np.zeros_like(self.inputs)\n",
    "        if hasattr(self, 'dweights'):\n",
    "            delattr(self, 'dweights')\n",
    "        for kernel_id in range(self.num_kernels):\n",
    "            kernel = self.weights[kernel_id]\n",
    "            rotated_kernel = np.rot90(kernel, k=2, axes=(1, 2))\n",
    "            per_kernel_dvalues = d_values[:, kernel_id:(kernel_id+1), :, :]\n",
    "            for channel_id in range(self.num_channels):\n",
    "                channel_rot_kernel = rotated_kernel[channel_id]\n",
    "                channel_inputs = self.padded_inputs[:, channel_id:channel_id+1, :, :]\n",
    "                if channel_id == 0:\n",
    "                    cur_dfilter = sp.signal.convolve(channel_inputs, per_kernel_dvalues, mode='valid').reshape((-1, 1, self.kernel_size, self.kernel_size))\n",
    "                else:\n",
    "                    cur_dfilter = np.append(cur_dfilter, sp.signal.convolve(channel_inputs, per_kernel_dvalues, mode='valid').reshape((-1, 1, self.kernel_size, self.kernel_size)), axis=1)\n",
    "                self.dinputs[:, channel_id:channel_id+1, :, :] += sp.signal.convolve(per_kernel_dvalues, [[channel_rot_kernel]], mode='full')[:, :, (self.pad_size_rows//2):-(self.pad_size_rows//2), (self.pad_size_cols//2):-(self.pad_size_cols//2)]\n",
    "            if not hasattr(self, 'dweights'):\n",
    "                self.dweights = cur_dfilter\n",
    "            else:\n",
    "                self.dweights = np.append(self.dweights, cur_dfilter, axis=0)\n",
    "            self.dbiases[kernel_id] += np.sum(per_kernel_dvalues)\n",
    "            \n",
    "            self.dbiases /= len(self.inputs)\n",
    "            self.dinputs /= len(self.inputs)\n",
    "            self.dweights /= len(self.inputs)"
   ],
   "metadata": {
    "collapsed": false,
    "ExecuteTime": {
     "end_time": "2024-04-02T19:27:56.703835Z",
     "start_time": "2024-04-02T19:27:56.696445Z"
    }
   },
   "execution_count": 6
  },
  {
   "cell_type": "code",
   "outputs": [],
   "source": [
    "class LayerMaxPooling:\n",
    "    def __init__(self, kernel_size=2, stride=2):\n",
    "        self.kernel_size = kernel_size\n",
    "        self.stride = stride\n",
    "        \n",
    "    def __getitem__(self, item):\n",
    "        if item == 'stride':\n",
    "            return self.stride\n",
    "        elif item == 'kernel_size':\n",
    "            return self.kernel_size\n",
    "\n",
    "    def __setitem__(self, key, value):\n",
    "        if key == 'stride':\n",
    "            self.stride = value\n",
    "        elif key == 'kernel_size':\n",
    "            self.kernel_size = value\n",
    "    \n",
    "    def forward(self, inputs):\n",
    "        self.inputs = inputs\n",
    "        pad_cols = self.inputs.shape[-1] % self.stride if self.inputs.shape[-1] % self.stride != 0 else 0\n",
    "        pad_rows = self.inputs.shape[-2] % self.stride if self.inputs.shape[-2] % self.stride != 0 else 0\n",
    "        self.padded_inputs = np.pad(inputs, ((0, 0), (0, 0), (0, pad_rows), (0, pad_cols))) if pad_cols or pad_rows else inputs\n",
    "        self.windowed_padded_inputs = np.lib.stride_tricks.sliding_window_view(self.padded_inputs, (self.kernel_size, self.kernel_size), axis=(2, 3))[:, :, ::self.stride, ::self.stride]\n",
    "        self.output = self.windowed_padded_inputs.max(axis=(4, 5))\n",
    "        \n",
    "    def backward(self, d_values):\n",
    "        self.dinputs = np.zeros_like(self.inputs)\n",
    "        samples, channels, rows, cols, window_rows, window_cols = self.windowed_padded_inputs.shape\n",
    "        for sample in range(samples):\n",
    "            for channel_id in range(channels):\n",
    "                for row in range(rows):\n",
    "                    for col in range(cols):\n",
    "                        window = self.windowed_padded_inputs[sample, channel_id, row, col]\n",
    "                        max_id = np.argmax(window)\n",
    "                        row_placement_in_block = max_id // window_cols\n",
    "                        col_placement_in_block = max_id % window_cols\n",
    "                        self.dinputs[sample, channel_id, window_rows*row + row_placement_in_block, window_cols*col + col_placement_in_block] = d_values[sample, channel_id, row, col]"
   ],
   "metadata": {
    "collapsed": false,
    "ExecuteTime": {
     "end_time": "2024-04-02T19:27:58.162485Z",
     "start_time": "2024-04-02T19:27:58.157931Z"
    }
   },
   "execution_count": 7
  },
  {
   "cell_type": "code",
   "outputs": [],
   "source": [
    "class LayerFlatten:\n",
    "    def forward(self, inputs):\n",
    "        self.n_samples, self.n_channels, self.num_rows, self.num_cols = inputs.shape\n",
    "        self.output = inputs.reshape((self.n_samples, self.n_channels * self.num_rows * self.num_cols))\n",
    "    \n",
    "    def backward(self, d_values):\n",
    "        self.dinputs = d_values.reshape((self.n_samples, self.n_channels, self.num_rows, self.num_cols))"
   ],
   "metadata": {
    "collapsed": false,
    "ExecuteTime": {
     "end_time": "2024-04-02T20:30:22.657767Z",
     "start_time": "2024-04-02T20:30:22.654711Z"
    }
   },
   "execution_count": 50
  },
  {
   "cell_type": "code",
   "execution_count": 9,
   "metadata": {
    "collapsed": false,
    "ExecuteTime": {
     "end_time": "2024-04-02T19:27:59.098425Z",
     "start_time": "2024-04-02T19:27:59.096440Z"
    }
   },
   "outputs": [],
   "source": [
    "class ActivationReLU:\n",
    "    def forward(self, inputs):\n",
    "        self.output = np.maximum(0, inputs)\n",
    "        self.inputs = inputs\n",
    "\n",
    "    def backward(self, d_values):\n",
    "        self.dinputs = d_values.copy()\n",
    "        self.dinputs[self.inputs <= 0] = 0"
   ]
  },
  {
   "cell_type": "code",
   "execution_count": 10,
   "metadata": {
    "collapsed": false,
    "ExecuteTime": {
     "end_time": "2024-04-02T19:27:59.660332Z",
     "start_time": "2024-04-02T19:27:59.657937Z"
    }
   },
   "outputs": [],
   "source": [
    "class ActivationSoftmaxLossCategoricalCrossentropy:\n",
    "    def forward(self, inputs, correct_labels):\n",
    "        exp_values = np.exp(inputs - np.max(inputs, axis=1, keepdims=True)) # -np.max(...) for numerical stability with big number\n",
    "        self.output = exp_values / np.sum(exp_values, axis=1, keepdims=True)\n",
    "        predictions = np.clip(self.output, 1e-7, 1 - 1e-7)\n",
    "        loss = np.sum(-np.log(predictions) * correct_labels)\n",
    "        return loss\n",
    "\n",
    "    def backward(self, dvalues, correct_labels):\n",
    "        self.dinputs = dvalues - correct_labels"
   ]
  },
  {
   "cell_type": "code",
   "execution_count": 11,
   "metadata": {
    "collapsed": false,
    "ExecuteTime": {
     "end_time": "2024-04-02T19:28:00.210931Z",
     "start_time": "2024-04-02T19:28:00.206540Z"
    }
   },
   "outputs": [],
   "source": [
    "class OptimizerSGD:\n",
    "    def __init__(self, learning_rate=1.0, decay=0., momentum=0.):\n",
    "        self.learning_rate = learning_rate\n",
    "        self.current_learning_rate = learning_rate \n",
    "        self.decay = decay \n",
    "        self.iterations = 0 \n",
    "        self.momentum = momentum\n",
    "    \n",
    "    def __setitem__(self, key, value):\n",
    "        if key == 'learning_rate':\n",
    "            self.learning_rate = value\n",
    "        elif key == 'decay':\n",
    "            self.decay = value\n",
    "        elif key == 'current_learning_rate':\n",
    "            self.current_learning_rate = value\n",
    "        elif key == 'iterations':\n",
    "            self.iterations = value\n",
    "        elif key == 'momentum':\n",
    "            self.momentum = value\n",
    "    \n",
    "    def __getitem__(self, item):\n",
    "        if item == 'learning_rate':\n",
    "            return self.learning_rate\n",
    "        elif item == 'decay':\n",
    "            return self.decay\n",
    "        elif item == 'current_learning_rate':\n",
    "            return self.current_learning_rate\n",
    "        elif item == 'iterations':\n",
    "            return self.iterations\n",
    "        elif item == 'momentum':\n",
    "            return self.momentum\n",
    "\n",
    "    def pre_update_params(self): \n",
    "        if self.decay: \n",
    "            self.current_learning_rate = self.learning_rate * (1. / (1. + self.decay * self.iterations))\n",
    "\n",
    "    def update_params(self, layer):\n",
    "        if self.momentum: \n",
    "            if not hasattr(layer, 'weight_momentums'): \n",
    "                layer.weight_momentums = np.zeros_like(layer.weights) \n",
    "                layer.bias_momentums = np.zeros_like(layer.biases)\n",
    "            \n",
    "            weight_updates = self.momentum * layer.weight_momentums - self.current_learning_rate * layer.dweights \n",
    "            layer.weight_momentums = weight_updates \n",
    "            bias_updates = self.momentum * layer.bias_momentums - self.current_learning_rate * layer.dbiases \n",
    "            layer.bias_momentums = bias_updates\n",
    "        else:\n",
    "            weight_updates = -self.learning_rate * layer.dweights\n",
    "            bias_updates = -self.learning_rate * layer.dbiases\n",
    "        \n",
    "        layer.weights += weight_updates\n",
    "        layer.biases += bias_updates\n",
    "\n",
    "    def post_update_params(self):\n",
    "        self.iterations += 1"
   ]
  },
  {
   "cell_type": "code",
   "outputs": [],
   "source": [
    "class Network:\n",
    "    def __init__(self, layers=[], optimizer=None):\n",
    "        self.layers = layers\n",
    "        self.optimizer = optimizer\n",
    "    \n",
    "    def add(self, layer):\n",
    "        self.layers.append(layer)\n",
    "    \n",
    "    def forward_propagation(self, x_batch, y_batch):\n",
    "        prev_layer = None\n",
    "        for layer in self.layers:\n",
    "            layer_input = x_batch if prev_layer is None else prev_layer.output\n",
    "            if isinstance(layer, ActivationSoftmaxLossCategoricalCrossentropy):\n",
    "                loss = layer.forward(layer_input, y_batch)\n",
    "            else:\n",
    "                layer.forward(layer_input)\n",
    "            prev_layer = layer\n",
    "        return loss\n",
    "    \n",
    "    def back_propagation(self, y_batch):\n",
    "        layers_reversed = self.layers[::-1]\n",
    "        prev_layer = None\n",
    "        adjustable_layers = (LayerDense, LayerConvolutional)\n",
    "        for layer in layers_reversed:\n",
    "            if isinstance(layer, ActivationSoftmaxLossCategoricalCrossentropy):\n",
    "                layer.backward(layer.output, y_batch)\n",
    "            else:\n",
    "                layer.backward(prev_layer.dinputs)\n",
    "            prev_layer = layer\n",
    "        self.optimizer.pre_update_params()\n",
    "        for layer in self.layers:\n",
    "            if isinstance(layer, adjustable_layers):\n",
    "                self.optimizer.update_params(layer)\n",
    "        self.optimizer.post_update_params()\n",
    "    \n",
    "    def train(self, x, y, epochs, batch_size):\n",
    "        for i in range(epochs):\n",
    "            for j in range(0, len(x), batch_size):\n",
    "                x_batch = x[j:j+batch_size]\n",
    "                y_batch = y[j:j+batch_size]\n",
    "                loss = self.forward_propagation(x_batch, y_batch)\n",
    "                self.back_propagation(y_batch)\n",
    "                predictions = np.argmax(self.layers[-1].output, axis=1)\n",
    "                accuracy = np.mean(predictions == np.argmax(y_batch, axis=1))\n",
    "            print(f'epoch: {i}, ' + f'acc: {accuracy:.3f}, ' + f'loss: {loss:.3f}')\n",
    "    \n",
    "    def save_to(self, directory):\n",
    "        relevant_fields = set(['weights', 'biases', 'kernel_size', 'num_kernels', 'num_channels', 'stride', 'n_inputs', 'n_neurons'])\n",
    "        network_dict = {'network':{}, 'optimizer':{}}\n",
    "        for count, layer in enumerate(self.layers):\n",
    "            network_dict['network'][f'{layer.__class__.__name__}-{count}'] = {}\n",
    "            curr_layer_dict = network_dict['network'][f'{layer.__class__.__name__}-{count}']\n",
    "            for field in vars(layer):\n",
    "                if field in relevant_fields:\n",
    "                    if isinstance(layer[field], np.ndarray):\n",
    "                        curr_layer_dict[field] = layer[field].tolist()\n",
    "                    else:\n",
    "                        curr_layer_dict[field] = layer[field]\n",
    "        network_dict['optimizer'][f'{self.optimizer.__class__.__name__}'] = {}\n",
    "        for optimizer_param in vars(self.optimizer):\n",
    "            network_dict['optimizer'][f'{self.optimizer.__class__.__name__}'][optimizer_param] = self.optimizer[optimizer_param]\n",
    "        \n",
    "        jsonified_dict = json.dumps(network_dict, indent=4)\n",
    "        with open(directory, 'w') as fw:\n",
    "            fw.write(jsonified_dict)\n",
    "        \n",
    "            \n",
    "    \n",
    "    def load_from(self, directory):\n",
    "        with open(directory, 'r') as rf:\n",
    "            network_dict = json.load(rf)\n",
    "        \n",
    "        layers = network_dict['network']\n",
    "        optimizer_name = list(network_dict['optimizer'].keys())[0]\n",
    "        \n",
    "        if optimizer_name == 'OptimizerSGD':\n",
    "            self.optimizer = OptimizerSGD()\n",
    "        else:\n",
    "            raise Exception('Not a currently supported optimizer')\n",
    "        \n",
    "        for optimizer_param in network_dict['optimizer'][optimizer_name]:\n",
    "            self.optimizer[optimizer_param] = optimizer_param\n",
    "        \n",
    "        for layer_name in layers:\n",
    "            layer_params = layers[layer_name]\n",
    "            if layer_name.startswith('LayerDense'):\n",
    "                layer = LayerDense(layer_params['n_inputs'], layer_params['n_neurons'])\n",
    "            elif layer_name.startswith('LayerConvolutional'):\n",
    "                layer = LayerConvolutional(layer_params['num_kernels'], layer_params['num_channels'], layer_params['kernel_size'])\n",
    "            elif layer_name.startswith('LayerFlatten'):\n",
    "                layer = LayerFlatten()\n",
    "            elif layer_name.startswith('LayerMaxPooling'):\n",
    "                layer = LayerMaxPooling()\n",
    "            elif layer_name.startswith('ActivationReLU'):\n",
    "                layer = ActivationReLU()\n",
    "            elif layer_name.startswith('ActivationSoftmaxLossCategoricalCrossentropy'):\n",
    "                layer = ActivationSoftmaxLossCategoricalCrossentropy()\n",
    "            else:\n",
    "                raise Exception('Not a currently supported layer type')\n",
    "            \n",
    "            for layer_param in layer_params:\n",
    "                if isinstance(layer_params[layer_param], list):\n",
    "                    layer[layer_param] = np.asarray(layer_params[layer_param])\n",
    "                else:\n",
    "                    layer[layer_param] = layer_params[layer_param]\n",
    "            self.layers.append(layer)"
   ],
   "metadata": {
    "collapsed": false,
    "ExecuteTime": {
     "end_time": "2024-04-02T19:28:01.525180Z",
     "start_time": "2024-04-02T19:28:01.508520Z"
    }
   },
   "execution_count": 12
  },
  {
   "cell_type": "markdown",
   "source": [
    "# MNIST Model - Dense layers"
   ],
   "metadata": {
    "collapsed": false
   }
  },
  {
   "cell_type": "code",
   "outputs": [],
   "source": [
    "x, num_inputs = read_mnist_images('../mnist/train-images.idx3-ubyte')\n",
    "x = x.reshape(-1, 784) / 255.\n",
    "y = one_hot_encode(read_mnist_labels('../mnist/train-labels.idx1-ubyte'), 10)"
   ],
   "metadata": {
    "collapsed": false,
    "ExecuteTime": {
     "end_time": "2024-04-02T19:28:11.869143Z",
     "start_time": "2024-04-02T19:28:11.787481Z"
    }
   },
   "execution_count": 14
  },
  {
   "cell_type": "code",
   "outputs": [
    {
     "name": "stdout",
     "output_type": "stream",
     "text": [
      "epoch: 0, acc: 0.933, loss: 12.326\n",
      "epoch: 1, acc: 0.967, loss: 8.724\n",
      "epoch: 2, acc: 0.967, loss: 7.285\n",
      "epoch: 3, acc: 0.967, loss: 6.950\n",
      "epoch: 4, acc: 0.983, loss: 6.791\n",
      "epoch: 5, acc: 0.950, loss: 6.874\n",
      "epoch: 6, acc: 0.950, loss: 7.065\n",
      "epoch: 7, acc: 0.950, loss: 7.067\n",
      "epoch: 8, acc: 0.950, loss: 6.838\n",
      "epoch: 9, acc: 0.950, loss: 6.464\n",
      "epoch: 10, acc: 0.950, loss: 6.182\n",
      "epoch: 11, acc: 0.967, loss: 6.111\n",
      "epoch: 12, acc: 0.967, loss: 6.060\n",
      "epoch: 13, acc: 0.967, loss: 5.972\n",
      "epoch: 14, acc: 0.967, loss: 5.883\n",
      "epoch: 15, acc: 0.967, loss: 5.913\n",
      "epoch: 16, acc: 0.967, loss: 5.873\n",
      "epoch: 17, acc: 0.967, loss: 5.894\n",
      "epoch: 18, acc: 0.967, loss: 5.823\n",
      "epoch: 19, acc: 0.967, loss: 5.729\n"
     ]
    }
   ],
   "source": [
    "# train the network yourself\n",
    "network_mnist_dense = Network([\n",
    "    LayerDense(784, 10),\n",
    "    ActivationReLU(),\n",
    "    LayerDense(10, 10),\n",
    "    ActivationSoftmaxLossCategoricalCrossentropy()\n",
    "], OptimizerSGD())\n",
    "epochs = 20\n",
    "batch_size = 60\n",
    "network_mnist_dense.train(x, y, epochs, batch_size)"
   ],
   "metadata": {
    "collapsed": false,
    "ExecuteTime": {
     "end_time": "2024-04-02T19:29:51.265021Z",
     "start_time": "2024-04-02T19:29:23.284227Z"
    }
   },
   "execution_count": 17
  },
  {
   "cell_type": "code",
   "outputs": [],
   "source": [
    "# load network from a file\n",
    "network_mnist_dense = Network()\n",
    "network_mnist_dense.load_from('../saved_models/mnist_dense.json')"
   ],
   "metadata": {
    "collapsed": false
   }
  },
  {
   "cell_type": "code",
   "outputs": [],
   "source": [
    "# save the network to a file\n",
    "network_mnist_dense.save_to('../saved_models/mnist_dense.json')"
   ],
   "metadata": {
    "collapsed": false,
    "ExecuteTime": {
     "end_time": "2024-04-02T19:31:32.700250Z",
     "start_time": "2024-04-02T19:31:32.685494Z"
    }
   },
   "execution_count": 20
  },
  {
   "cell_type": "code",
   "outputs": [
    {
     "name": "stdout",
     "output_type": "stream",
     "text": [
      "Accuracy on eval dataset: 93.01%\n"
     ]
    }
   ],
   "source": [
    "count = 0\n",
    "x_test, num_inputs = read_mnist_images('../mnist/t10k-images.idx3-ubyte')\n",
    "y_test = one_hot_encode(read_mnist_labels('../mnist/t10k-labels.idx1-ubyte'), 10)\n",
    "x_test_flat = x_test.reshape(-1, 784) / 255.\n",
    "for test_sample_num in range(num_inputs):\n",
    "    network_mnist_dense.forward_propagation(x_test_flat[test_sample_num:test_sample_num+1, :], y_test[test_sample_num:test_sample_num+1])\n",
    "    pred = np.argmax(network_mnist_dense.layers[-1].output)\n",
    "    correct = np.argmax(y_test[test_sample_num])\n",
    "    if pred != correct:\n",
    "        count += 1\n",
    "print(f'Accuracy on eval dataset: {100 - count/num_inputs * 100}%')\n"
   ],
   "metadata": {
    "collapsed": false,
    "ExecuteTime": {
     "end_time": "2024-04-02T19:37:27.466624Z",
     "start_time": "2024-04-02T19:37:27.228554Z"
    }
   },
   "execution_count": 34
  },
  {
   "cell_type": "markdown",
   "source": [
    "# Fashion MNIST model - Dense layers"
   ],
   "metadata": {
    "collapsed": false
   }
  },
  {
   "cell_type": "code",
   "outputs": [],
   "source": [
    "x_fashion, num_inputs_fashion = read_mnist_images('../fashion_mnist/train-images-idx3-ubyte')\n",
    "x_fashion_flat = x_fashion.reshape(-1, 784) / 255.\n",
    "y_fashion = one_hot_encode(read_mnist_labels('../fashion_mnist/train-labels-idx1-ubyte'), 10)"
   ],
   "metadata": {
    "collapsed": false,
    "ExecuteTime": {
     "end_time": "2024-04-02T19:32:02.767949Z",
     "start_time": "2024-04-02T19:32:02.688903Z"
    }
   },
   "execution_count": 22
  },
  {
   "cell_type": "code",
   "outputs": [
    {
     "name": "stdout",
     "output_type": "stream",
     "text": [
      "epoch: 0, acc: 0.700, loss: 10.211\n",
      "epoch: 1, acc: 0.700, loss: 7.105\n",
      "epoch: 2, acc: 0.700, loss: 6.009\n",
      "epoch: 3, acc: 0.700, loss: 5.568\n",
      "epoch: 4, acc: 0.700, loss: 5.217\n",
      "epoch: 5, acc: 0.700, loss: 4.836\n",
      "epoch: 6, acc: 0.700, loss: 4.591\n",
      "epoch: 7, acc: 0.700, loss: 4.415\n",
      "epoch: 8, acc: 0.700, loss: 4.259\n",
      "epoch: 9, acc: 0.700, loss: 4.121\n",
      "epoch: 10, acc: 0.800, loss: 4.016\n",
      "epoch: 11, acc: 0.900, loss: 3.943\n",
      "epoch: 12, acc: 0.900, loss: 3.776\n",
      "epoch: 13, acc: 0.900, loss: 3.654\n",
      "epoch: 14, acc: 0.900, loss: 3.524\n",
      "epoch: 15, acc: 0.900, loss: 3.398\n",
      "epoch: 16, acc: 0.900, loss: 3.284\n",
      "epoch: 17, acc: 0.900, loss: 3.202\n",
      "epoch: 18, acc: 0.900, loss: 3.135\n",
      "epoch: 19, acc: 0.900, loss: 3.079\n",
      "epoch: 20, acc: 0.900, loss: 3.020\n",
      "epoch: 21, acc: 1.000, loss: 2.976\n",
      "epoch: 22, acc: 1.000, loss: 2.944\n",
      "epoch: 23, acc: 1.000, loss: 2.908\n",
      "epoch: 24, acc: 1.000, loss: 2.875\n",
      "epoch: 25, acc: 1.000, loss: 2.842\n",
      "epoch: 26, acc: 1.000, loss: 2.815\n",
      "epoch: 27, acc: 1.000, loss: 2.789\n",
      "epoch: 28, acc: 1.000, loss: 2.767\n",
      "epoch: 29, acc: 1.000, loss: 2.748\n"
     ]
    }
   ],
   "source": [
    "# train the network yourself\n",
    "network_fashion_dense = Network([\n",
    "    LayerDense(784, 10),\n",
    "    ActivationReLU(),\n",
    "    LayerDense(10, 10),\n",
    "    ActivationReLU(),\n",
    "    LayerDense(10, 10),\n",
    "    ActivationSoftmaxLossCategoricalCrossentropy()\n",
    "], OptimizerSGD(learning_rate=0.01))\n",
    "\n",
    "epochs = 30\n",
    "batch_size = 10\n",
    "\n",
    "network_fashion_dense.train(x_fashion_flat, y_fashion, epochs, batch_size)"
   ],
   "metadata": {
    "collapsed": false,
    "ExecuteTime": {
     "end_time": "2024-04-02T19:32:45.728148Z",
     "start_time": "2024-04-02T19:32:30.122675Z"
    }
   },
   "execution_count": 24
  },
  {
   "cell_type": "code",
   "outputs": [],
   "source": [
    "# load network from file\n",
    "network_fashion_dense = Network()\n",
    "network_fashion_dense.load_from('../saved_models/fashion_dense.json')"
   ],
   "metadata": {
    "collapsed": false
   }
  },
  {
   "cell_type": "code",
   "outputs": [],
   "source": [
    "# save network to file\n",
    "network_fashion_dense.save_to('../saved_models/fashion_dense.json')"
   ],
   "metadata": {
    "collapsed": false,
    "ExecuteTime": {
     "end_time": "2024-04-02T19:38:15.433732Z",
     "start_time": "2024-04-02T19:38:15.424344Z"
    }
   },
   "execution_count": 38
  },
  {
   "cell_type": "code",
   "outputs": [],
   "source": [
    "fashion_interpretation_dict = {\n",
    "    0: 'T-shirt/top',\n",
    "    1:'Trouser',\n",
    "    2: 'Pullover',\n",
    "    3: 'Dress',\n",
    "    4: 'Coat',\n",
    "    5: 'Sandal',\n",
    "    6: 'Shirt',\n",
    "    7: 'Sneaker',\n",
    "    8: 'Bag',\n",
    "    9: 'Ankle boot'\n",
    "}"
   ],
   "metadata": {
    "collapsed": false,
    "ExecuteTime": {
     "end_time": "2024-04-02T19:35:38.641173Z",
     "start_time": "2024-04-02T19:35:38.637441Z"
    }
   },
   "execution_count": 30
  },
  {
   "cell_type": "code",
   "outputs": [
    {
     "name": "stdout",
     "output_type": "stream",
     "text": [
      "Network Prediction: 3 - Dress\n",
      "Correct Prediction: 3 - Dress\n"
     ]
    },
    {
     "data": {
      "text/plain": "<matplotlib.image.AxesImage at 0x15c9c9350>"
     },
     "execution_count": 31,
     "metadata": {},
     "output_type": "execute_result"
    },
    {
     "data": {
      "text/plain": "<Figure size 640x480 with 1 Axes>",
      "image/png": "[encoded data removed]"
     },
     "metadata": {},
     "output_type": "display_data"
    }
   ],
   "source": [
    "# Specific Sample Testing\n",
    "test_sample_num = 301\n",
    "x_test_fashion, num_inputs_test_fashion = read_mnist_images('../fashion_mnist/t10k-images-idx3-ubyte')\n",
    "x_test_fashion_flat = x_test_fashion.reshape(-1, 784) / 255.\n",
    "y_test_fashion = one_hot_encode(read_mnist_labels('../fashion_mnist/t10k-labels-idx1-ubyte'), 10)\n",
    "network_fashion_dense.forward_propagation(x_test_fashion_flat[test_sample_num:test_sample_num+1, :], y_test_fashion)\n",
    "print(f'Network Prediction: {np.argmax(network_fashion_dense.layers[-1].output)} - {fashion_interpretation_dict[np.argmax(network_fashion_dense.layers[-1].output)]}')\n",
    "print(f'Correct Prediction: {np.argmax(y_test_fashion[test_sample_num])} - {fashion_interpretation_dict[np.argmax(y_test_fashion[test_sample_num])]}')\n",
    "plt.imshow(x_test_fashion[test_sample_num], cmap='gray')\n"
   ],
   "metadata": {
    "collapsed": false,
    "ExecuteTime": {
     "end_time": "2024-04-02T19:36:23.974859Z",
     "start_time": "2024-04-02T19:36:23.887080Z"
    }
   },
   "execution_count": 31
  },
  {
   "cell_type": "code",
   "outputs": [
    {
     "name": "stdout",
     "output_type": "stream",
     "text": [
      "Accuracy on eval dataset: 81.24000000000001%\n"
     ]
    }
   ],
   "source": [
    "# General Evaluation\n",
    "count = 0\n",
    "for test_sample_num in range(num_inputs_test_fashion):\n",
    "    network_fashion_dense.forward_propagation(x_test_fashion_flat[test_sample_num:test_sample_num+1, :], y_test_fashion[test_sample_num:test_sample_num+1])\n",
    "    pred = np.argmax(network_fashion_dense.layers[-1].output)\n",
    "    correct = np.argmax(y_test_fashion[test_sample_num])\n",
    "    if pred != correct:\n",
    "        count += 1\n",
    "print(f'Accuracy on eval dataset: {100 - count/num_inputs * 100}%')\n"
   ],
   "metadata": {
    "collapsed": false,
    "ExecuteTime": {
     "end_time": "2024-04-02T19:37:36.204185Z",
     "start_time": "2024-04-02T19:37:35.955131Z"
    }
   },
   "execution_count": 35
  },
  {
   "cell_type": "markdown",
   "source": [
    "# Fashion MNIST model - CNN Architecture"
   ],
   "metadata": {
    "collapsed": false
   }
  },
  {
   "cell_type": "code",
   "outputs": [],
   "source": [
    "x_fashion_image_reshaped = x_fashion.reshape(-1, 1, 28, 28) / 255."
   ],
   "metadata": {
    "collapsed": false,
    "ExecuteTime": {
     "end_time": "2024-04-02T19:38:40.301371Z",
     "start_time": "2024-04-02T19:38:40.177341Z"
    }
   },
   "execution_count": 39
  },
  {
   "cell_type": "code",
   "outputs": [
    {
     "name": "stdout",
     "output_type": "stream",
     "text": [
      "epoch: 0, acc: 0.900, loss: 5.808\n",
      "epoch: 1, acc: 0.900, loss: 5.000\n",
      "epoch: 2, acc: 0.900, loss: 4.624\n",
      "epoch: 3, acc: 0.900, loss: 4.365\n",
      "epoch: 4, acc: 0.900, loss: 4.214\n",
      "epoch: 5, acc: 0.900, loss: 4.132\n",
      "epoch: 6, acc: 0.900, loss: 4.061\n",
      "epoch: 7, acc: 0.900, loss: 4.022\n",
      "epoch: 8, acc: 0.900, loss: 3.992\n",
      "epoch: 9, acc: 0.900, loss: 3.968\n",
      "epoch: 10, acc: 0.900, loss: 3.939\n",
      "epoch: 11, acc: 0.800, loss: 3.918\n",
      "epoch: 12, acc: 0.800, loss: 3.896\n",
      "epoch: 13, acc: 0.800, loss: 3.870\n",
      "epoch: 14, acc: 0.800, loss: 3.837\n",
      "epoch: 15, acc: 0.800, loss: 3.791\n",
      "epoch: 16, acc: 0.800, loss: 3.743\n",
      "epoch: 17, acc: 0.800, loss: 3.694\n",
      "epoch: 18, acc: 0.800, loss: 3.645\n",
      "epoch: 19, acc: 0.800, loss: 3.606\n",
      "epoch: 20, acc: 0.800, loss: 3.568\n",
      "epoch: 21, acc: 0.800, loss: 3.536\n",
      "epoch: 22, acc: 0.800, loss: 3.504\n",
      "epoch: 23, acc: 0.800, loss: 3.470\n",
      "epoch: 24, acc: 0.800, loss: 3.437\n"
     ]
    }
   ],
   "source": [
    "# train the network yourself (TRAINING THIS NETWORK IS EXTREMELY SLOW)\n",
    "network_fashion_cnn = Network([\n",
    "    LayerConvolutional(2, 1, 3),\n",
    "    LayerMaxPooling(),\n",
    "    LayerConvolutional(3, 2, 3),\n",
    "    LayerMaxPooling(),\n",
    "    LayerFlatten(),\n",
    "    LayerDense(147, 10),\n",
    "    ActivationReLU(),\n",
    "    LayerDense(10, 10),\n",
    "    ActivationSoftmaxLossCategoricalCrossentropy()\n",
    "], OptimizerSGD(learning_rate=0.01))\n",
    "\n",
    "epochs = 25\n",
    "batch_size = 10\n",
    "\n",
    "network_fashion_cnn.train(x_fashion_image_reshaped, y_fashion, epochs, batch_size)"
   ],
   "metadata": {
    "collapsed": false,
    "ExecuteTime": {
     "end_time": "2024-04-02T21:06:00.204056Z",
     "start_time": "2024-04-02T20:30:47.398690Z"
    }
   },
   "execution_count": 53
  },
  {
   "cell_type": "code",
   "outputs": [],
   "source": [
    "# load network from file\n",
    "network_fashion_cnn = Network()\n",
    "network_fashion_cnn.load_from('../saved_models/fashion_cnn.json')"
   ],
   "metadata": {
    "collapsed": false
   }
  },
  {
   "cell_type": "code",
   "outputs": [],
   "source": [
    "# save network to file\n",
    "network_fashion_cnn.save_to('../saved_models/fashion_cnn.json')"
   ],
   "metadata": {
    "collapsed": false,
    "ExecuteTime": {
     "end_time": "2024-04-02T21:06:33.670920Z",
     "start_time": "2024-04-02T21:06:33.664054Z"
    }
   },
   "execution_count": 55
  },
  {
   "cell_type": "code",
   "outputs": [
    {
     "name": "stdout",
     "output_type": "stream",
     "text": [
      "Accuracy on eval dataset: 80.57%\n"
     ]
    }
   ],
   "source": [
    "# General Evaluation\n",
    "count = 0\n",
    "x_test_fashion_reshaped = x_test_fashion.reshape(-1, 1, 28, 28) / 255.\n",
    "for test_sample_num in range(num_inputs_test_fashion):\n",
    "    network_fashion_cnn.forward_propagation(x_test_fashion_reshaped[test_sample_num:test_sample_num+1, :, :, :], y_test_fashion[test_sample_num:test_sample_num+1])\n",
    "    pred = np.argmax(network_fashion_cnn.layers[-1].output)\n",
    "    correct = np.argmax(y_test_fashion[test_sample_num])\n",
    "    if pred != correct:\n",
    "        count += 1\n",
    "print(f'Accuracy on eval dataset: {100 - count/num_inputs * 100}%')\n"
   ],
   "metadata": {
    "collapsed": false,
    "ExecuteTime": {
     "end_time": "2024-04-02T21:06:28.433741Z",
     "start_time": "2024-04-02T21:06:23.981181Z"
    }
   },
   "execution_count": 54
  },
  {
   "cell_type": "code",
   "outputs": [
    {
     "name": "stdout",
     "output_type": "stream",
     "text": [
      "Network Prediction: 1 - Trouser\n",
      "Correct Prediction: 1 - Trouser\n"
     ]
    },
    {
     "data": {
      "text/plain": "<matplotlib.image.AxesImage at 0x175f65a50>"
     },
     "execution_count": 57,
     "metadata": {},
     "output_type": "execute_result"
    },
    {
     "data": {
      "text/plain": "<Figure size 640x480 with 1 Axes>",
      "image/png": "[encoded data removed]"
     },
     "metadata": {},
     "output_type": "display_data"
    }
   ],
   "source": [
    "# Specific Sample Testing\n",
    "test_sample_num = 345\n",
    "network_fashion_cnn.forward_propagation(x_test_fashion_reshaped[test_sample_num:test_sample_num+1, :, :, :], y_test_fashion)\n",
    "print(f'Network Prediction: {np.argmax(network_fashion_cnn.layers[-1].output)} - {fashion_interpretation_dict[np.argmax(network_fashion_cnn.layers[-1].output)]}')\n",
    "print(f'Correct Prediction: {np.argmax(y_test_fashion[test_sample_num])} - {fashion_interpretation_dict[np.argmax(y_test_fashion[test_sample_num])]}')\n",
    "plt.imshow(x_test_fashion_reshaped[test_sample_num, 0], cmap='gray')"
   ],
   "metadata": {
    "collapsed": false,
    "ExecuteTime": {
     "end_time": "2024-04-02T21:06:50.569480Z",
     "start_time": "2024-04-02T21:06:50.488824Z"
    }
   },
   "execution_count": 57
  },
  {
   "cell_type": "code",
   "outputs": [],
   "source": [],
   "metadata": {
    "collapsed": false
   }
  }
 ],
 "metadata": {
  "kernelspec": {
   "display_name": "Python 3 (ipykernel)",
   "language": "python",
   "name": "python3"
  },
  "language_info": {
   "codemirror_mode": {
    "name": "ipython",
    "version": 3
   },
   "file_extension": ".py",
   "mimetype": "text/x-python",
   "name": "python",
   "nbconvert_exporter": "python",
   "pygments_lexer": "ipython3",
   "version": "3.11.7"
  }
 },
 "nbformat": 4,
 "nbformat_minor": 0
}
