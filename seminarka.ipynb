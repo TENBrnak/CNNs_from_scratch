{
 "cells": [
  {
   "cell_type": "code",
   "execution_count": 1,
   "metadata": {
    "collapsed": true,
    "ExecuteTime": {
     "end_time": "2024-03-31T16:38:31.492929Z",
     "start_time": "2024-03-31T16:38:30.984569Z"
    }
   },
   "outputs": [],
   "source": [
    "import numpy as np\n",
    "import scipy as sp\n",
    "import matplotlib.pyplot as plt"
   ]
  },
  {
   "cell_type": "code",
   "outputs": [],
   "source": [
    "def one_hot_encode(y, num_classes):\n",
    "    return np.eye(num_classes)[y]"
   ],
   "metadata": {
    "collapsed": false,
    "ExecuteTime": {
     "end_time": "2024-03-31T16:38:31.899097Z",
     "start_time": "2024-03-31T16:38:31.897100Z"
    }
   },
   "execution_count": 2
  },
  {
   "cell_type": "code",
   "outputs": [],
   "source": [
    "# read mnist data\n",
    "def read_mnist_images(filename):\n",
    "    with open(filename, 'rb') as f:\n",
    "        data = f.read()\n",
    "        assert int.from_bytes(data[:4], byteorder='big') == 2051\n",
    "        n_images = int.from_bytes(data[4:8], byteorder='big')\n",
    "        n_rows = int.from_bytes(data[8:12], byteorder='big')\n",
    "        n_cols = int.from_bytes(data[12:16], byteorder='big')\n",
    "        images = np.frombuffer(data, dtype=np.uint8, offset=16).reshape(n_images, n_rows, n_cols)\n",
    "        return images, n_images\n",
    "\n",
    "\n",
    "def read_mnist_labels(filename):\n",
    "    with open(filename, 'rb') as f:\n",
    "        data = f.read()\n",
    "        assert int.from_bytes(data[:4], byteorder='big') == 2049\n",
    "        labels = np.frombuffer(data, dtype=np.uint8, offset=8)\n",
    "        return labels\n",
    "\n",
    "\n",
    "x, num_inputs = read_mnist_images('mnist/train-images.idx3-ubyte')\n",
    "x = x.reshape((-1, 1, 28, 28))\n",
    "x = x / 255.\n",
    "y = one_hot_encode(read_mnist_labels('mnist/train-labels.idx1-ubyte'), 10)"
   ],
   "metadata": {
    "collapsed": false,
    "ExecuteTime": {
     "end_time": "2024-03-31T16:38:32.665081Z",
     "start_time": "2024-03-31T16:38:32.592957Z"
    }
   },
   "execution_count": 3
  },
  {
   "cell_type": "code",
   "execution_count": 80,
   "metadata": {
    "collapsed": false,
    "ExecuteTime": {
     "end_time": "2024-03-31T17:25:12.447651Z",
     "start_time": "2024-03-31T17:25:12.442256Z"
    }
   },
   "outputs": [],
   "source": [
    "class LayerDense:\n",
    "    def __init__(self, n_inputs, n_neurons):\n",
    "        rng = np.random.default_rng()\n",
    "        variance = 1/num_inputs\n",
    "        self.weights = (2*rng.standard_normal(size=(n_inputs, n_neurons))) * variance\n",
    "        self.biases = np.zeros((1, n_neurons))\n",
    "\n",
    "    def forward(self, inputs):\n",
    "        self.output = np.dot(inputs, self.weights) + self.biases\n",
    "        self.inputs = inputs\n",
    "\n",
    "\n",
    "    def backward(self, d_values):\n",
    "        self.dweights = np.dot(self.inputs.T, d_values) / len(self.inputs)\n",
    "        self.dbiases = np.sum(d_values, axis=0, keepdims=True) / len(self.inputs)\n",
    "        self.dinputs = np.dot(d_values, self.weights.T) / len(self.inputs)"
   ]
  },
  {
   "cell_type": "code",
   "outputs": [],
   "source": [
    "class LayerConvolutional:\n",
    "    def __init__(self, num_kernels, num_channels, kernel_size):\n",
    "        rng = np.random.default_rng()\n",
    "        variance = 1/10\n",
    "        #self.weights =  0.1 * rng.standard_normal(size=(num_kernels, num_channels, kernel_size, kernel_size))\n",
    "        self.weights = (2*rng.standard_normal(size=(num_kernels, num_channels, kernel_size, kernel_size))) * variance\n",
    "        self.biases = np.zeros(num_kernels)\n",
    "        self.kernel_size = kernel_size\n",
    "        self.num_kernels = num_kernels\n",
    "        self.num_channels = num_channels\n",
    "    \n",
    "    def forward(self, inputs):\n",
    "        if hasattr(self, 'output'):\n",
    "            delattr(self, 'output')\n",
    "        self.pad_size_rows = inputs.shape[-2] - (inputs.shape[-2] - self.kernel_size + 1)\n",
    "        self.pad_size_cols = inputs.shape[-1] - (inputs.shape[-1] - self.kernel_size + 1)\n",
    "        self.inputs = inputs\n",
    "        self.padded_inputs = np.pad(inputs, ((0, 0), (0, 0), (0, self.pad_size_rows), (0, self.pad_size_cols)))\n",
    "        if self.num_channels != self.inputs.shape[1]:\n",
    "            raise Exception('Error: number of filter and image channels does not match.')\n",
    "        for kernel, bias in zip(self.weights, self.biases):\n",
    "            if not hasattr(self, 'output'):\n",
    "                self.output = sp.signal.convolve(self.padded_inputs, [kernel], mode='valid') + bias\n",
    "            else:\n",
    "                self.output = np.append(self.output, sp.signal.convolve(self.padded_inputs, [kernel], mode='valid') + bias, axis=1)\n",
    "    \n",
    "    def backward(self, d_values):\n",
    "        self.dbiases = np.zeros_like(self.biases)\n",
    "        self.dinputs = np.zeros_like(self.inputs)\n",
    "        if hasattr(self, 'dweights'):\n",
    "            delattr(self, 'dweights')\n",
    "        for kernel_id in range(self.num_kernels):\n",
    "            kernel = self.weights[kernel_id]\n",
    "            rotated_kernel = np.rot90(kernel, k=2, axes=(1, 2))\n",
    "            per_kernel_dvalues = d_values[:, kernel_id:(kernel_id+1), :, :]\n",
    "            for channel_id in range(self.num_channels):\n",
    "                channel_rot_kernel = rotated_kernel[channel_id]\n",
    "                channel_inputs = self.padded_inputs[:, channel_id:channel_id+1, :, :]\n",
    "                if channel_id == 0:\n",
    "                    cur_dfilter = sp.signal.convolve(channel_inputs, per_kernel_dvalues, mode='valid').reshape((-1, 1, self.kernel_size, self.kernel_size))\n",
    "                else:\n",
    "                    cur_dfilter = np.append(cur_dfilter, sp.signal.convolve(channel_inputs, per_kernel_dvalues, mode='valid').reshape((-1, 1, self.kernel_size, self.kernel_size)), axis=1)\n",
    "                self.dinputs[:, channel_id:channel_id+1, :, :] += sp.signal.convolve(per_kernel_dvalues, [[channel_rot_kernel]], mode='full')[:, :, (self.pad_size_rows//2):-(self.pad_size_rows//2), (self.pad_size_cols//2):-(self.pad_size_cols//2)]\n",
    "            if not hasattr(self, 'dweights'):\n",
    "                self.dweights = cur_dfilter\n",
    "            else:\n",
    "                self.dweights = np.append(self.dweights, cur_dfilter, axis=0)\n",
    "            self.dbiases[kernel_id] += np.sum(per_kernel_dvalues)\n",
    "            \n",
    "            self.dbiases /= len(self.inputs)\n",
    "            self.dinputs /= len(self.inputs)\n",
    "            self.dweights /= len(self.inputs)"
   ],
   "metadata": {
    "collapsed": false,
    "ExecuteTime": {
     "end_time": "2024-03-31T18:57:10.024248Z",
     "start_time": "2024-03-31T18:57:10.017414Z"
    }
   },
   "execution_count": 149
  },
  {
   "cell_type": "code",
   "outputs": [],
   "source": [
    "class LayerMaxPooling:\n",
    "    def __init__(self, kernel_size=2, stride=2):\n",
    "        self.kernel_size = kernel_size\n",
    "        self.stride = stride\n",
    "    \n",
    "    def forward(self, inputs):\n",
    "        self.inputs = inputs\n",
    "        pad_cols = self.inputs.shape[-1] % self.stride if self.inputs.shape[-1] % self.stride != 0 else 0\n",
    "        pad_rows = self.inputs.shape[-2] % self.stride if self.inputs.shape[-2] % self.stride != 0 else 0\n",
    "        self.padded_inputs = np.pad(inputs, ((0, 0), (0, 0), (0, pad_rows), (0, pad_cols))) if pad_cols or pad_rows else inputs\n",
    "        self.windowed_padded_inputs = np.lib.stride_tricks.sliding_window_view(self.padded_inputs, (self.kernel_size, self.kernel_size), axis=(2, 3))[:, :, ::self.stride, ::self.stride]\n",
    "        self.output = self.windowed_padded_inputs.max(axis=(4, 5))\n",
    "        \n",
    "    def backward(self, d_values):\n",
    "        self.dinputs = np.zeros_like(self.inputs)\n",
    "        samples, channels, rows, cols, window_rows, window_cols = self.windowed_padded_inputs.shape\n",
    "        for sample in range(samples):\n",
    "            for channel_id in range(channels):\n",
    "                for row in range(rows):\n",
    "                    for col in range(cols):\n",
    "                        window = self.windowed_padded_inputs[sample, channel_id, row, col]\n",
    "                        max_id = np.argmax(window)\n",
    "                        row_placement_in_block = max_id // window_cols\n",
    "                        col_placement_in_block = max_id % window_cols\n",
    "                        self.dinputs[sample, channel_id, window_rows*row + row_placement_in_block, window_cols*col + col_placement_in_block] = d_values[sample, channel_id, row, col]"
   ],
   "metadata": {
    "collapsed": false,
    "ExecuteTime": {
     "end_time": "2024-03-31T17:07:30.863833Z",
     "start_time": "2024-03-31T17:07:30.859564Z"
    }
   },
   "execution_count": 59
  },
  {
   "cell_type": "code",
   "outputs": [],
   "source": [
    "class LayerFlatten:\n",
    "    def forward(self, inputs):\n",
    "        self.num_samples, self.num_channels, self.num_rows, self.num_cols = inputs.shape\n",
    "        self.output = inputs.reshape((self.num_samples, self.num_channels * self.num_rows * self.num_cols))\n",
    "    \n",
    "    def backward(self, d_values):\n",
    "        self.dinputs = d_values.reshape((self.num_samples, self.num_channels, self.num_rows, self.num_cols))"
   ],
   "metadata": {
    "collapsed": false,
    "ExecuteTime": {
     "end_time": "2024-03-31T16:38:35.779432Z",
     "start_time": "2024-03-31T16:38:35.777179Z"
    }
   },
   "execution_count": 7
  },
  {
   "cell_type": "code",
   "execution_count": 8,
   "metadata": {
    "collapsed": false,
    "ExecuteTime": {
     "end_time": "2024-03-31T16:38:37.126417Z",
     "start_time": "2024-03-31T16:38:37.124001Z"
    }
   },
   "outputs": [],
   "source": [
    "class ActivationReLU:\n",
    "    def forward(self, inputs):\n",
    "        self.output = np.maximum(0, inputs)\n",
    "        self.inputs = inputs\n",
    "\n",
    "    def backward(self, d_values):\n",
    "        self.dinputs = d_values.copy()\n",
    "        self.dinputs[self.inputs <= 0] = 0"
   ]
  },
  {
   "cell_type": "code",
   "execution_count": 9,
   "metadata": {
    "collapsed": false,
    "ExecuteTime": {
     "end_time": "2024-03-31T16:38:37.489480Z",
     "start_time": "2024-03-31T16:38:37.486328Z"
    }
   },
   "outputs": [],
   "source": [
    "class ActivationSoftmaxLossCategoricalCrossentropy:\n",
    "    def forward(self, inputs, correct_labels):\n",
    "        exp_values = np.exp(inputs - np.max(inputs, axis=1, keepdims=True)) # -np.max(...) for numerical stability with big number\n",
    "        self.output = exp_values / np.sum(exp_values, axis=1, keepdims=True)\n",
    "        predictions = np.clip(self.output, 1e-7, 1 - 1e-7)\n",
    "        loss = np.sum(-np.log(predictions) * correct_labels)\n",
    "        return loss\n",
    "\n",
    "    def backward(self, dvalues, correct_labels):\n",
    "        self.dinputs = dvalues - correct_labels"
   ]
  },
  {
   "cell_type": "code",
   "execution_count": 39,
   "metadata": {
    "collapsed": false,
    "ExecuteTime": {
     "end_time": "2024-03-31T16:57:18.744275Z",
     "start_time": "2024-03-31T16:57:18.737414Z"
    }
   },
   "outputs": [],
   "source": [
    "class OptimizerSGD:\n",
    "    def __init__(self, learning_rate=1.0, decay=0., momentum=0.):\n",
    "        self.learning_rate = learning_rate\n",
    "        self.current_learning_rate = learning_rate \n",
    "        self.decay = decay \n",
    "        self.iterations = 0 \n",
    "        self.momentum = momentum\n",
    "\n",
    "    def pre_update_params(self): \n",
    "        if self.decay: \n",
    "            self.current_learning_rate = self.learning_rate * (1. / (1. + self.decay * self.iterations))\n",
    "\n",
    "    def update_params(self, layer):\n",
    "        if self.momentum: \n",
    "            if not hasattr(layer, 'weight_momentums'): \n",
    "                layer.weight_momentums = np.zeros_like(layer.weights) \n",
    "                layer.bias_momentums = np.zeros_like(layer.biases)\n",
    "            \n",
    "            weight_updates = self.momentum * layer.weight_momentums - self.current_learning_rate * layer.dweights \n",
    "            layer.weight_momentums = weight_updates \n",
    "            bias_updates = self.momentum * layer.bias_momentums - self.current_learning_rate * layer.dbiases \n",
    "            layer.bias_momentums = bias_updates\n",
    "        else:\n",
    "            weight_updates = -self.learning_rate * layer.dweights\n",
    "            bias_updates = -self.learning_rate * layer.dbiases\n",
    "        \n",
    "        layer.weights += weight_updates\n",
    "        layer.biases += bias_updates\n",
    "\n",
    "    def post_update_params(self):\n",
    "        self.iterations += 1"
   ]
  },
  {
   "cell_type": "code",
   "outputs": [],
   "source": [
    "class Network:\n",
    "    def __init__(self, layers=[], optimizer=None):\n",
    "        self.layers = layers\n",
    "        self.optimizer = optimizer\n",
    "    \n",
    "    def add(self, layer):\n",
    "        self.layers.append(layer)\n",
    "    \n",
    "    def forward_propagation(self, x_batch, y_batch):\n",
    "        prev_layer = None\n",
    "        for layer in self.layers:\n",
    "            layer_input = x_batch if prev_layer is None else prev_layer.output\n",
    "            if isinstance(layer, ActivationSoftmaxLossCategoricalCrossentropy):\n",
    "                loss = layer.forward(layer_input, y_batch)\n",
    "            else:\n",
    "                layer.forward(layer_input)\n",
    "            prev_layer = layer\n",
    "        return loss\n",
    "    \n",
    "    def back_propagation(self, y_batch):\n",
    "        layers_reversed = self.layers[::-1]\n",
    "        prev_layer = None\n",
    "        adjustable_layers = (LayerDense, LayerConvolutional)\n",
    "        for layer in layers_reversed:\n",
    "            if isinstance(layer, ActivationSoftmaxLossCategoricalCrossentropy):\n",
    "                layer.backward(layer.output, y_batch)\n",
    "            else:\n",
    "                layer.backward(prev_layer.dinputs)\n",
    "            prev_layer = layer\n",
    "        self.optimizer.pre_update_params()\n",
    "        for layer in self.layers:\n",
    "            if isinstance(layer, adjustable_layers):\n",
    "                self.optimizer.update_params(layer)\n",
    "        self.optimizer.post_update_params()\n",
    "    \n",
    "    def train(self, x, y, epochs, batch_size):\n",
    "        for i in range(epochs):\n",
    "            for j in range(0, len(x), batch_size):\n",
    "                x_batch = x[j:j+batch_size]\n",
    "                y_batch = y[j:j+batch_size]\n",
    "                loss = self.forward_propagation(x_batch, y_batch)\n",
    "                self.back_propagation(y_batch)\n",
    "                predictions = np.argmax(self.layers[-1].output, axis=1)\n",
    "                accuracy = np.mean(predictions == np.argmax(y_batch, axis=1))\n",
    "            print(f'epoch: {i}, ' + f'acc: {accuracy:.3f}, ' + f'loss: {loss:.3f}')"
   ],
   "metadata": {
    "collapsed": false,
    "ExecuteTime": {
     "end_time": "2024-03-31T16:57:20.070417Z",
     "start_time": "2024-03-31T16:57:20.065942Z"
    }
   },
   "execution_count": 40
  },
  {
   "cell_type": "code",
   "outputs": [],
   "source": [
    "x, num_inputs = read_mnist_images('mnist/train-images.idx3-ubyte')\n",
    "x = x.reshape((-1, 1, 28, 28))\n",
    "x = x / 255.\n",
    "y = one_hot_encode(read_mnist_labels('mnist/train-labels.idx1-ubyte'), 10)"
   ],
   "metadata": {
    "collapsed": false,
    "ExecuteTime": {
     "end_time": "2024-03-31T17:32:44.454948Z",
     "start_time": "2024-03-31T17:32:44.363549Z"
    }
   },
   "execution_count": 92
  },
  {
   "cell_type": "code",
   "outputs": [
    {
     "name": "stdout",
     "output_type": "stream",
     "text": [
      "epoch: 0, acc: 0.917, loss: 11.347\n",
      "epoch: 1, acc: 0.950, loss: 9.684\n",
      "epoch: 2, acc: 0.967, loss: 8.016\n",
      "epoch: 3, acc: 0.983, loss: 6.574\n",
      "epoch: 4, acc: 0.983, loss: 5.723\n",
      "epoch: 5, acc: 0.983, loss: 5.089\n",
      "epoch: 6, acc: 1.000, loss: 4.710\n",
      "epoch: 7, acc: 1.000, loss: 4.425\n",
      "epoch: 8, acc: 1.000, loss: 4.242\n",
      "epoch: 9, acc: 1.000, loss: 4.034\n",
      "epoch: 10, acc: 1.000, loss: 3.983\n",
      "epoch: 11, acc: 1.000, loss: 3.844\n",
      "epoch: 12, acc: 1.000, loss: 3.854\n",
      "epoch: 13, acc: 1.000, loss: 3.699\n",
      "epoch: 14, acc: 1.000, loss: 3.513\n",
      "epoch: 15, acc: 1.000, loss: 3.343\n",
      "epoch: 16, acc: 1.000, loss: 3.209\n",
      "epoch: 17, acc: 1.000, loss: 3.198\n",
      "epoch: 18, acc: 1.000, loss: 3.181\n",
      "epoch: 19, acc: 1.000, loss: 3.195\n",
      "epoch: 20, acc: 1.000, loss: 3.260\n"
     ]
    },
    {
     "ename": "KeyboardInterrupt",
     "evalue": "",
     "output_type": "error",
     "traceback": [
      "\u001B[0;31m---------------------------------------------------------------------------\u001B[0m",
      "\u001B[0;31mKeyboardInterrupt\u001B[0m                         Traceback (most recent call last)",
      "Cell \u001B[0;32mIn[117], line 10\u001B[0m\n\u001B[1;32m      8\u001B[0m batch_size \u001B[38;5;241m=\u001B[39m \u001B[38;5;241m60\u001B[39m\n\u001B[1;32m      9\u001B[0m x \u001B[38;5;241m=\u001B[39m x\u001B[38;5;241m.\u001B[39mreshape(\u001B[38;5;241m-\u001B[39m\u001B[38;5;241m1\u001B[39m, \u001B[38;5;241m784\u001B[39m)\n\u001B[0;32m---> 10\u001B[0m \u001B[43mnetwork1\u001B[49m\u001B[38;5;241;43m.\u001B[39;49m\u001B[43mtrain\u001B[49m\u001B[43m(\u001B[49m\u001B[43mx\u001B[49m\u001B[43m,\u001B[49m\u001B[43m \u001B[49m\u001B[43my\u001B[49m\u001B[43m,\u001B[49m\u001B[43m \u001B[49m\u001B[43mepochs\u001B[49m\u001B[43m,\u001B[49m\u001B[43m \u001B[49m\u001B[43mbatch_size\u001B[49m\u001B[43m)\u001B[49m\n",
      "Cell \u001B[0;32mIn[40], line 42\u001B[0m, in \u001B[0;36mNetwork.train\u001B[0;34m(self, x, y, epochs, batch_size)\u001B[0m\n\u001B[1;32m     40\u001B[0m y_batch \u001B[38;5;241m=\u001B[39m y[j:j\u001B[38;5;241m+\u001B[39mbatch_size]\n\u001B[1;32m     41\u001B[0m loss \u001B[38;5;241m=\u001B[39m \u001B[38;5;28mself\u001B[39m\u001B[38;5;241m.\u001B[39mforward_propagation(x_batch, y_batch)\n\u001B[0;32m---> 42\u001B[0m \u001B[38;5;28;43mself\u001B[39;49m\u001B[38;5;241;43m.\u001B[39;49m\u001B[43mback_propagation\u001B[49m\u001B[43m(\u001B[49m\u001B[43my_batch\u001B[49m\u001B[43m)\u001B[49m\n\u001B[1;32m     43\u001B[0m predictions \u001B[38;5;241m=\u001B[39m np\u001B[38;5;241m.\u001B[39margmax(\u001B[38;5;28mself\u001B[39m\u001B[38;5;241m.\u001B[39mlayers[\u001B[38;5;241m-\u001B[39m\u001B[38;5;241m1\u001B[39m]\u001B[38;5;241m.\u001B[39moutput, axis\u001B[38;5;241m=\u001B[39m\u001B[38;5;241m1\u001B[39m)\n\u001B[1;32m     44\u001B[0m accuracy \u001B[38;5;241m=\u001B[39m np\u001B[38;5;241m.\u001B[39mmean(predictions \u001B[38;5;241m==\u001B[39m np\u001B[38;5;241m.\u001B[39margmax(y_batch, axis\u001B[38;5;241m=\u001B[39m\u001B[38;5;241m1\u001B[39m))\n",
      "Cell \u001B[0;32mIn[40], line 28\u001B[0m, in \u001B[0;36mNetwork.back_propagation\u001B[0;34m(self, y_batch)\u001B[0m\n\u001B[1;32m     26\u001B[0m         layer\u001B[38;5;241m.\u001B[39mbackward(layer\u001B[38;5;241m.\u001B[39moutput, y_batch)\n\u001B[1;32m     27\u001B[0m     \u001B[38;5;28;01melse\u001B[39;00m:\n\u001B[0;32m---> 28\u001B[0m         \u001B[43mlayer\u001B[49m\u001B[38;5;241;43m.\u001B[39;49m\u001B[43mbackward\u001B[49m\u001B[43m(\u001B[49m\u001B[43mprev_layer\u001B[49m\u001B[38;5;241;43m.\u001B[39;49m\u001B[43mdinputs\u001B[49m\u001B[43m)\u001B[49m\n\u001B[1;32m     29\u001B[0m     prev_layer \u001B[38;5;241m=\u001B[39m layer\n\u001B[1;32m     30\u001B[0m \u001B[38;5;28mself\u001B[39m\u001B[38;5;241m.\u001B[39moptimizer\u001B[38;5;241m.\u001B[39mpre_update_params()\n",
      "Cell \u001B[0;32mIn[80], line 16\u001B[0m, in \u001B[0;36mLayerDense.backward\u001B[0;34m(self, d_values)\u001B[0m\n\u001B[1;32m     14\u001B[0m \u001B[38;5;28mself\u001B[39m\u001B[38;5;241m.\u001B[39mdweights \u001B[38;5;241m=\u001B[39m np\u001B[38;5;241m.\u001B[39mdot(\u001B[38;5;28mself\u001B[39m\u001B[38;5;241m.\u001B[39minputs\u001B[38;5;241m.\u001B[39mT, d_values) \u001B[38;5;241m/\u001B[39m \u001B[38;5;28mlen\u001B[39m(\u001B[38;5;28mself\u001B[39m\u001B[38;5;241m.\u001B[39minputs)\n\u001B[1;32m     15\u001B[0m \u001B[38;5;28mself\u001B[39m\u001B[38;5;241m.\u001B[39mdbiases \u001B[38;5;241m=\u001B[39m np\u001B[38;5;241m.\u001B[39msum(d_values, axis\u001B[38;5;241m=\u001B[39m\u001B[38;5;241m0\u001B[39m, keepdims\u001B[38;5;241m=\u001B[39m\u001B[38;5;28;01mTrue\u001B[39;00m) \u001B[38;5;241m/\u001B[39m \u001B[38;5;28mlen\u001B[39m(\u001B[38;5;28mself\u001B[39m\u001B[38;5;241m.\u001B[39minputs)\n\u001B[0;32m---> 16\u001B[0m \u001B[38;5;28mself\u001B[39m\u001B[38;5;241m.\u001B[39mdinputs \u001B[38;5;241m=\u001B[39m \u001B[43mnp\u001B[49m\u001B[38;5;241;43m.\u001B[39;49m\u001B[43mdot\u001B[49m\u001B[43m(\u001B[49m\u001B[43md_values\u001B[49m\u001B[43m,\u001B[49m\u001B[43m \u001B[49m\u001B[38;5;28;43mself\u001B[39;49m\u001B[38;5;241;43m.\u001B[39;49m\u001B[43mweights\u001B[49m\u001B[38;5;241;43m.\u001B[39;49m\u001B[43mT\u001B[49m\u001B[43m)\u001B[49m \u001B[38;5;241m/\u001B[39m \u001B[38;5;28mlen\u001B[39m(\u001B[38;5;28mself\u001B[39m\u001B[38;5;241m.\u001B[39minputs)\n",
      "\u001B[0;31mKeyboardInterrupt\u001B[0m: "
     ]
    }
   ],
   "source": [
    "network1 = Network([\n",
    "    LayerDense(784, 10),\n",
    "    ActivationReLU(),\n",
    "    LayerDense(10, 10),\n",
    "    ActivationSoftmaxLossCategoricalCrossentropy()\n",
    "], OptimizerSGD())\n",
    "epochs = 100\n",
    "batch_size = 60\n",
    "x = x.reshape(-1, 784)\n",
    "network1.train(x, y, epochs, batch_size)"
   ],
   "metadata": {
    "collapsed": false,
    "ExecuteTime": {
     "end_time": "2024-03-31T18:16:19.743216Z",
     "start_time": "2024-03-31T18:15:51.593179Z"
    }
   },
   "execution_count": 117
  },
  {
   "cell_type": "code",
   "outputs": [
    {
     "name": "stdout",
     "output_type": "stream",
     "text": [
      "612\n",
      "Network Prediction: 6\n",
      "Correct Prediction: 6\n"
     ]
    }
   ],
   "source": [
    "count = 0\n",
    "for test_sample_num in range(10000):\n",
    "    x_test, num_inputs = read_mnist_images('mnist/t10k-images.idx3-ubyte')\n",
    "    x_test_flat = x_test.reshape(-1, 784) / 255.\n",
    "    y_test = one_hot_encode(read_mnist_labels('mnist/t10k-labels.idx1-ubyte'), 10)\n",
    "    network1.forward_propagation(x_test_flat[test_sample_num:test_sample_num+1, :], y_test)\n",
    "    pred = np.argmax(network1.layers[-1].output)\n",
    "    correct = np.argmax(y_test[test_sample_num])\n",
    "    if pred != correct:\n",
    "        count += 1\n",
    "print(count)\n",
    "print(f'Network Prediction: {pred}')\n",
    "print(f'Correct Prediction: {correct}')\n",
    "#plt.imshow(x_test[test_sample_num], cmap='gray')\n"
   ],
   "metadata": {
    "collapsed": false,
    "ExecuteTime": {
     "end_time": "2024-03-31T18:19:35.567774Z",
     "start_time": "2024-03-31T18:17:54.285100Z"
    }
   },
   "execution_count": 119
  },
  {
   "cell_type": "code",
   "outputs": [
    {
     "data": {
      "text/plain": "0.0612"
     },
     "execution_count": 120,
     "metadata": {},
     "output_type": "execute_result"
    }
   ],
   "source": [
    "count/10000"
   ],
   "metadata": {
    "collapsed": false,
    "ExecuteTime": {
     "end_time": "2024-03-31T18:22:46.646618Z",
     "start_time": "2024-03-31T18:22:46.642479Z"
    }
   },
   "execution_count": 120
  },
  {
   "cell_type": "code",
   "outputs": [],
   "source": [
    "x_fashion, num_inputs_fashion = read_mnist_images('fashion_mnist/train-images-idx3-ubyte')\n",
    "x_fashion = x.reshape((-1, 1, 28, 28))\n",
    "x_fashion = x_fashion / 255.\n",
    "y_fashion = one_hot_encode(read_mnist_labels('fashion_mnist/train-labels-idx1-ubyte'), 10)"
   ],
   "metadata": {
    "collapsed": false,
    "ExecuteTime": {
     "end_time": "2024-03-31T18:22:48.988522Z",
     "start_time": "2024-03-31T18:22:48.920304Z"
    }
   },
   "execution_count": 121
  },
  {
   "cell_type": "code",
   "outputs": [
    {
     "name": "stdout",
     "output_type": "stream",
     "text": [
      "epoch: 0, acc: 0.100, loss: 46.448\n",
      "epoch: 1, acc: 0.100, loss: 46.449\n",
      "epoch: 2, acc: 0.100, loss: 46.450\n",
      "epoch: 3, acc: 0.100, loss: 46.450\n",
      "epoch: 4, acc: 0.100, loss: 46.451\n",
      "epoch: 5, acc: 0.100, loss: 46.452\n",
      "epoch: 6, acc: 0.100, loss: 46.453\n",
      "epoch: 7, acc: 0.100, loss: 46.453\n",
      "epoch: 8, acc: 0.100, loss: 46.454\n",
      "epoch: 9, acc: 0.100, loss: 46.455\n"
     ]
    }
   ],
   "source": [
    "network2 = Network([\n",
    "    LayerDense(784, 10),\n",
    "    ActivationReLU(),\n",
    "    LayerDense(10, 10),\n",
    "    ActivationReLU(),\n",
    "    LayerDense(10, 10),\n",
    "    ActivationReLU(),\n",
    "    LayerDense(10, 10),\n",
    "    ActivationReLU(),\n",
    "    LayerDense(10, 10),\n",
    "    ActivationReLU(),\n",
    "    LayerDense(10, 10),\n",
    "    ActivationReLU(),\n",
    "    LayerDense(10, 10),\n",
    "    ActivationSoftmaxLossCategoricalCrossentropy()\n",
    "], OptimizerSGD(learning_rate=3, decay=1e-6, momentum=0.5))\n",
    "epochs = 10\n",
    "batch_size = 20\n",
    "x_fashion = x_fashion.reshape(-1, 784)\n",
    "network2.train(x_fashion, y_fashion, epochs, batch_size)"
   ],
   "metadata": {
    "collapsed": false,
    "ExecuteTime": {
     "end_time": "2024-03-31T18:31:18.795583Z",
     "start_time": "2024-03-31T18:31:13.197051Z"
    }
   },
   "execution_count": 137
  },
  {
   "cell_type": "code",
   "outputs": [
    {
     "data": {
      "text/plain": "array([[ 5.40015758e-10,  1.93985573e-09,  4.50778452e-10,\n         2.71776572e-09, -2.32510670e-09, -1.19196658e-09,\n         1.15503157e-10, -7.10748111e-11,  2.20619853e-09,\n         1.24961535e-09],\n       [ 3.65612556e-09, -2.21012632e-09,  1.21946683e-09,\n        -2.08310923e-10, -3.53906493e-09,  2.00255896e-10,\n         1.19468686e-10, -2.55654814e-10, -1.22776210e-10,\n         8.82289486e-10],\n       [ 4.16500475e-09, -2.25809050e-09,  3.64687070e-09,\n         1.29429497e-09, -5.16973069e-09, -2.59214031e-10,\n        -7.81157640e-10, -2.15437459e-09,  1.92909293e-09,\n        -1.51569266e-09],\n       [ 1.69133494e-09,  8.32888332e-11,  9.30826996e-10,\n         1.02910390e-09, -3.12345350e-09, -1.39060369e-09,\n        -1.07830487e-09, -2.19481722e-09,  1.60251879e-09,\n         1.33297707e-10],\n       [-8.81268852e-10,  3.49571378e-10, -3.42641959e-10,\n         4.33942038e-09, -3.31986316e-09, -1.15164629e-09,\n        -3.14693144e-09, -3.35349380e-10,  2.88878417e-09,\n         1.93276022e-09],\n       [ 4.65868177e-09,  2.83483352e-09, -1.25853663e-09,\n         2.71708147e-10, -6.15627957e-09,  3.27945710e-10,\n        -1.22911610e-10, -5.47391688e-09,  1.07312309e-09,\n         9.78769918e-10],\n       [ 6.74685480e-09, -1.44134528e-09,  2.43210722e-09,\n         5.23123932e-10, -7.13725239e-09,  9.55693826e-10,\n         2.24950934e-10, -3.92588982e-09,  1.17809256e-09,\n        -7.81409943e-10],\n       [ 4.85472941e-09, -3.07693649e-09,  2.14747249e-09,\n         1.15382986e-09, -4.23343701e-09,  1.01759759e-09,\n         8.36093238e-10, -9.34597703e-10, -3.84774831e-10,\n        -6.90450997e-10],\n       [-1.52379181e-09,  6.25728238e-10,  2.85680668e-09,\n         3.53518189e-09, -1.81536892e-09, -3.36883456e-09,\n        -2.14840257e-09,  6.41657602e-11,  3.98339918e-09,\n        -3.90375573e-10],\n       [ 7.31131035e-10,  3.32290171e-09, -1.62044828e-09,\n         1.00916603e-09, -2.80715032e-09, -2.15680232e-09,\n        -1.01167665e-09, -2.63343722e-09,  2.32875207e-09,\n         2.69411860e-09],\n       [ 5.75187548e-10,  2.93220328e-09, -1.15083481e-09,\n         1.52938590e-09, -2.41068890e-09, -3.55894880e-10,\n        -2.30342001e-10, -2.28545961e-09,  9.03374383e-10,\n         4.69303778e-10],\n       [ 3.80564475e-10,  2.23366030e-09, -1.42720341e-09,\n        -1.50983260e-10, -1.17237523e-09, -5.32878578e-10,\n        -1.97316796e-10, -1.90193071e-09,  5.86400197e-10,\n         1.05239579e-09],\n       [-1.79787066e-09,  5.65499367e-10, -8.20298899e-10,\n         3.57545417e-09, -3.19726412e-09, -6.01532388e-10,\n        -4.46119079e-09, -2.06630988e-09,  2.42614979e-09,\n         4.17473490e-10],\n       [ 8.00116890e-10, -5.54474829e-10,  3.85370756e-11,\n         2.92167250e-10, -1.03150849e-09,  6.96996797e-11,\n        -3.43242619e-10, -4.49169276e-10,  8.71028362e-11,\n         2.47237039e-10],\n       [-9.21812400e-10,  8.81716771e-10, -1.33192234e-09,\n         6.05128113e-09, -5.69806635e-09, -2.28802183e-09,\n        -5.57744752e-09, -8.62810664e-10,  5.14676488e-09,\n         4.76453397e-09],\n       [-1.00786820e-09, -5.93393178e-10,  3.11066881e-09,\n         2.76745200e-09, -1.81157294e-09, -2.34884883e-09,\n        -3.42956221e-09, -1.30568760e-09,  2.33775533e-09,\n        -1.94913762e-09],\n       [ 9.50413351e-10,  3.93468403e-09,  1.73983552e-10,\n         2.75923174e-09, -3.22634650e-09, -4.56071968e-10,\n         6.89140704e-10, -2.11013889e-09,  1.73336301e-09,\n        -3.19233831e-10],\n       [-1.63345095e-10,  2.94659151e-09,  2.05239627e-10,\n         1.70671568e-09, -3.46493306e-09, -3.02747345e-09,\n        -2.83731372e-09, -2.58332593e-09,  4.55875681e-09,\n         2.08473797e-09],\n       [ 4.72948618e-09, -4.97685885e-10,  3.29603309e-10,\n        -9.29131695e-10, -3.97282030e-09,  8.66409521e-10,\n         1.42422582e-10, -3.35686843e-09, -5.23660005e-10,\n        -2.23572549e-11],\n       [ 6.21874383e-11,  2.07279581e-09,  9.41133708e-10,\n         2.29719596e-09, -2.01783175e-09, -7.49873117e-10,\n         7.12022761e-11, -8.69950305e-10,  1.79520506e-09,\n        -5.76672668e-10]])"
     },
     "execution_count": 148,
     "metadata": {},
     "output_type": "execute_result"
    }
   ],
   "source": [
    "network2.layers[3].inputs"
   ],
   "metadata": {
    "collapsed": false,
    "ExecuteTime": {
     "end_time": "2024-03-31T18:55:07.125658Z",
     "start_time": "2024-03-31T18:55:07.120189Z"
    }
   },
   "execution_count": 148
  },
  {
   "cell_type": "code",
   "outputs": [
    {
     "name": "stdout",
     "output_type": "stream",
     "text": [
      "Network Prediction: 4\n",
      "Correct Prediction: 6\n"
     ]
    },
    {
     "data": {
      "text/plain": "<matplotlib.image.AxesImage at 0x132da52d0>"
     },
     "execution_count": 49,
     "metadata": {},
     "output_type": "execute_result"
    },
    {
     "data": {
      "text/plain": "<Figure size 640x480 with 1 Axes>",
      "image/png": "[encoded data removed]"
     },
     "metadata": {},
     "output_type": "display_data"
    }
   ],
   "source": [
    "test_sample_num = 26\n",
    "x_test, num_inputs = read_mnist_images('fashion_mnist/t10k-images-idx3-ubyte')\n",
    "x_test_flat = x_test.reshape(-1, 784) / 255.\n",
    "y_test = one_hot_encode(read_mnist_labels('fashion_mnist/t10k-labels-idx1-ubyte'), 10)\n",
    "network2.forward_propagation(x_test_flat[test_sample_num:test_sample_num+1, :], y_test)\n",
    "print(f'Network Prediction: {np.argmax(network2.layers[-1].output)}')\n",
    "print(f'Correct Prediction: {np.argmax(y_test[test_sample_num])}')\n",
    "plt.imshow(x_test[test_sample_num], cmap='gray')\n"
   ],
   "metadata": {
    "collapsed": false,
    "ExecuteTime": {
     "end_time": "2024-03-31T17:05:08.766296Z",
     "start_time": "2024-03-31T17:05:08.694192Z"
    }
   },
   "execution_count": 49
  },
  {
   "cell_type": "code",
   "outputs": [],
   "source": [
    "x_fashion, num_inputs_fashion = read_mnist_images('fashion_mnist/train-images-idx3-ubyte')\n",
    "x_fashion = x.reshape((-1, 1, 28, 28))\n",
    "x_fashion = x_fashion / 255.\n",
    "y_fashion = one_hot_encode(read_mnist_labels('fashion_mnist/train-labels-idx1-ubyte'), 10)"
   ],
   "metadata": {
    "collapsed": false,
    "ExecuteTime": {
     "end_time": "2024-03-31T18:57:17.990013Z",
     "start_time": "2024-03-31T18:57:17.870149Z"
    }
   },
   "execution_count": 150
  },
  {
   "cell_type": "code",
   "outputs": [
    {
     "name": "stdout",
     "output_type": "stream",
     "text": [
      "epoch: 0, acc: 0.100, loss: 23.029\n",
      "epoch: 1, acc: 0.100, loss: 23.029\n"
     ]
    },
    {
     "ename": "KeyboardInterrupt",
     "evalue": "",
     "output_type": "error",
     "traceback": [
      "\u001B[0;31m---------------------------------------------------------------------------\u001B[0m",
      "\u001B[0;31mKeyboardInterrupt\u001B[0m                         Traceback (most recent call last)",
      "Cell \u001B[0;32mIn[151], line 18\u001B[0m\n\u001B[1;32m     15\u001B[0m epochs \u001B[38;5;241m=\u001B[39m \u001B[38;5;241m100\u001B[39m\n\u001B[1;32m     16\u001B[0m batch_size \u001B[38;5;241m=\u001B[39m \u001B[38;5;241m10\u001B[39m\n\u001B[0;32m---> 18\u001B[0m \u001B[43mnetwork\u001B[49m\u001B[38;5;241;43m.\u001B[39;49m\u001B[43mtrain\u001B[49m\u001B[43m(\u001B[49m\u001B[43mx_fashion\u001B[49m\u001B[43m,\u001B[49m\u001B[43m \u001B[49m\u001B[43my_fashion\u001B[49m\u001B[43m,\u001B[49m\u001B[43m \u001B[49m\u001B[43mepochs\u001B[49m\u001B[43m,\u001B[49m\u001B[43m \u001B[49m\u001B[43mbatch_size\u001B[49m\u001B[43m)\u001B[49m\n",
      "Cell \u001B[0;32mIn[40], line 41\u001B[0m, in \u001B[0;36mNetwork.train\u001B[0;34m(self, x, y, epochs, batch_size)\u001B[0m\n\u001B[1;32m     39\u001B[0m x_batch \u001B[38;5;241m=\u001B[39m x[j:j\u001B[38;5;241m+\u001B[39mbatch_size]\n\u001B[1;32m     40\u001B[0m y_batch \u001B[38;5;241m=\u001B[39m y[j:j\u001B[38;5;241m+\u001B[39mbatch_size]\n\u001B[0;32m---> 41\u001B[0m loss \u001B[38;5;241m=\u001B[39m \u001B[38;5;28;43mself\u001B[39;49m\u001B[38;5;241;43m.\u001B[39;49m\u001B[43mforward_propagation\u001B[49m\u001B[43m(\u001B[49m\u001B[43mx_batch\u001B[49m\u001B[43m,\u001B[49m\u001B[43m \u001B[49m\u001B[43my_batch\u001B[49m\u001B[43m)\u001B[49m\n\u001B[1;32m     42\u001B[0m \u001B[38;5;28mself\u001B[39m\u001B[38;5;241m.\u001B[39mback_propagation(y_batch)\n\u001B[1;32m     43\u001B[0m predictions \u001B[38;5;241m=\u001B[39m np\u001B[38;5;241m.\u001B[39margmax(\u001B[38;5;28mself\u001B[39m\u001B[38;5;241m.\u001B[39mlayers[\u001B[38;5;241m-\u001B[39m\u001B[38;5;241m1\u001B[39m]\u001B[38;5;241m.\u001B[39moutput, axis\u001B[38;5;241m=\u001B[39m\u001B[38;5;241m1\u001B[39m)\n",
      "Cell \u001B[0;32mIn[40], line 16\u001B[0m, in \u001B[0;36mNetwork.forward_propagation\u001B[0;34m(self, x_batch, y_batch)\u001B[0m\n\u001B[1;32m     14\u001B[0m         loss \u001B[38;5;241m=\u001B[39m layer\u001B[38;5;241m.\u001B[39mforward(layer_input, y_batch)\n\u001B[1;32m     15\u001B[0m     \u001B[38;5;28;01melse\u001B[39;00m:\n\u001B[0;32m---> 16\u001B[0m         \u001B[43mlayer\u001B[49m\u001B[38;5;241;43m.\u001B[39;49m\u001B[43mforward\u001B[49m\u001B[43m(\u001B[49m\u001B[43mlayer_input\u001B[49m\u001B[43m)\u001B[49m\n\u001B[1;32m     17\u001B[0m     prev_layer \u001B[38;5;241m=\u001B[39m layer\n\u001B[1;32m     18\u001B[0m \u001B[38;5;28;01mreturn\u001B[39;00m loss\n",
      "Cell \u001B[0;32mIn[149], line 25\u001B[0m, in \u001B[0;36mLayerConvolutional.forward\u001B[0;34m(self, inputs)\u001B[0m\n\u001B[1;32m     23\u001B[0m     \u001B[38;5;28mself\u001B[39m\u001B[38;5;241m.\u001B[39moutput \u001B[38;5;241m=\u001B[39m sp\u001B[38;5;241m.\u001B[39msignal\u001B[38;5;241m.\u001B[39mconvolve(\u001B[38;5;28mself\u001B[39m\u001B[38;5;241m.\u001B[39mpadded_inputs, [kernel], mode\u001B[38;5;241m=\u001B[39m\u001B[38;5;124m'\u001B[39m\u001B[38;5;124mvalid\u001B[39m\u001B[38;5;124m'\u001B[39m) \u001B[38;5;241m+\u001B[39m bias\n\u001B[1;32m     24\u001B[0m \u001B[38;5;28;01melse\u001B[39;00m:\n\u001B[0;32m---> 25\u001B[0m     \u001B[38;5;28mself\u001B[39m\u001B[38;5;241m.\u001B[39moutput \u001B[38;5;241m=\u001B[39m np\u001B[38;5;241m.\u001B[39mappend(\u001B[38;5;28mself\u001B[39m\u001B[38;5;241m.\u001B[39moutput, \u001B[43msp\u001B[49m\u001B[38;5;241;43m.\u001B[39;49m\u001B[43msignal\u001B[49m\u001B[38;5;241;43m.\u001B[39;49m\u001B[43mconvolve\u001B[49m\u001B[43m(\u001B[49m\u001B[38;5;28;43mself\u001B[39;49m\u001B[38;5;241;43m.\u001B[39;49m\u001B[43mpadded_inputs\u001B[49m\u001B[43m,\u001B[49m\u001B[43m \u001B[49m\u001B[43m[\u001B[49m\u001B[43mkernel\u001B[49m\u001B[43m]\u001B[49m\u001B[43m,\u001B[49m\u001B[43m \u001B[49m\u001B[43mmode\u001B[49m\u001B[38;5;241;43m=\u001B[39;49m\u001B[38;5;124;43m'\u001B[39;49m\u001B[38;5;124;43mvalid\u001B[39;49m\u001B[38;5;124;43m'\u001B[39;49m\u001B[43m)\u001B[49m \u001B[38;5;241m+\u001B[39m bias, axis\u001B[38;5;241m=\u001B[39m\u001B[38;5;241m1\u001B[39m)\n",
      "File \u001B[0;32m/opt/homebrew/anaconda3/envs/NNFS/lib/python3.11/site-packages/scipy/signal/_signaltools.py:1415\u001B[0m, in \u001B[0;36mconvolve\u001B[0;34m(in1, in2, mode, method)\u001B[0m\n\u001B[1;32m   1412\u001B[0m     method \u001B[38;5;241m=\u001B[39m choose_conv_method(volume, kernel, mode\u001B[38;5;241m=\u001B[39mmode)\n\u001B[1;32m   1414\u001B[0m \u001B[38;5;28;01mif\u001B[39;00m method \u001B[38;5;241m==\u001B[39m \u001B[38;5;124m'\u001B[39m\u001B[38;5;124mfft\u001B[39m\u001B[38;5;124m'\u001B[39m:\n\u001B[0;32m-> 1415\u001B[0m     out \u001B[38;5;241m=\u001B[39m \u001B[43mfftconvolve\u001B[49m\u001B[43m(\u001B[49m\u001B[43mvolume\u001B[49m\u001B[43m,\u001B[49m\u001B[43m \u001B[49m\u001B[43mkernel\u001B[49m\u001B[43m,\u001B[49m\u001B[43m \u001B[49m\u001B[43mmode\u001B[49m\u001B[38;5;241;43m=\u001B[39;49m\u001B[43mmode\u001B[49m\u001B[43m)\u001B[49m\n\u001B[1;32m   1416\u001B[0m     result_type \u001B[38;5;241m=\u001B[39m np\u001B[38;5;241m.\u001B[39mresult_type(volume, kernel)\n\u001B[1;32m   1417\u001B[0m     \u001B[38;5;28;01mif\u001B[39;00m result_type\u001B[38;5;241m.\u001B[39mkind \u001B[38;5;129;01min\u001B[39;00m {\u001B[38;5;124m'\u001B[39m\u001B[38;5;124mu\u001B[39m\u001B[38;5;124m'\u001B[39m, \u001B[38;5;124m'\u001B[39m\u001B[38;5;124mi\u001B[39m\u001B[38;5;124m'\u001B[39m}:\n",
      "File \u001B[0;32m/opt/homebrew/anaconda3/envs/NNFS/lib/python3.11/site-packages/scipy/signal/_signaltools.py:671\u001B[0m, in \u001B[0;36mfftconvolve\u001B[0;34m(in1, in2, mode, axes)\u001B[0m\n\u001B[1;32m    666\u001B[0m s2 \u001B[38;5;241m=\u001B[39m in2\u001B[38;5;241m.\u001B[39mshape\n\u001B[1;32m    668\u001B[0m shape \u001B[38;5;241m=\u001B[39m [\u001B[38;5;28mmax\u001B[39m((s1[i], s2[i])) \u001B[38;5;28;01mif\u001B[39;00m i \u001B[38;5;129;01mnot\u001B[39;00m \u001B[38;5;129;01min\u001B[39;00m axes \u001B[38;5;28;01melse\u001B[39;00m s1[i] \u001B[38;5;241m+\u001B[39m s2[i] \u001B[38;5;241m-\u001B[39m \u001B[38;5;241m1\u001B[39m\n\u001B[1;32m    669\u001B[0m          \u001B[38;5;28;01mfor\u001B[39;00m i \u001B[38;5;129;01min\u001B[39;00m \u001B[38;5;28mrange\u001B[39m(in1\u001B[38;5;241m.\u001B[39mndim)]\n\u001B[0;32m--> 671\u001B[0m ret \u001B[38;5;241m=\u001B[39m \u001B[43m_freq_domain_conv\u001B[49m\u001B[43m(\u001B[49m\u001B[43min1\u001B[49m\u001B[43m,\u001B[49m\u001B[43m \u001B[49m\u001B[43min2\u001B[49m\u001B[43m,\u001B[49m\u001B[43m \u001B[49m\u001B[43maxes\u001B[49m\u001B[43m,\u001B[49m\u001B[43m \u001B[49m\u001B[43mshape\u001B[49m\u001B[43m,\u001B[49m\u001B[43m \u001B[49m\u001B[43mcalc_fast_len\u001B[49m\u001B[38;5;241;43m=\u001B[39;49m\u001B[38;5;28;43;01mTrue\u001B[39;49;00m\u001B[43m)\u001B[49m\n\u001B[1;32m    673\u001B[0m \u001B[38;5;28;01mreturn\u001B[39;00m _apply_conv_mode(ret, s1, s2, mode, axes)\n",
      "File \u001B[0;32m/opt/homebrew/anaconda3/envs/NNFS/lib/python3.11/site-packages/scipy/signal/_signaltools.py:511\u001B[0m, in \u001B[0;36m_freq_domain_conv\u001B[0;34m(in1, in2, axes, shape, calc_fast_len)\u001B[0m\n\u001B[1;32m    508\u001B[0m sp1 \u001B[38;5;241m=\u001B[39m fft(in1, fshape, axes\u001B[38;5;241m=\u001B[39maxes)\n\u001B[1;32m    509\u001B[0m sp2 \u001B[38;5;241m=\u001B[39m fft(in2, fshape, axes\u001B[38;5;241m=\u001B[39maxes)\n\u001B[0;32m--> 511\u001B[0m ret \u001B[38;5;241m=\u001B[39m \u001B[43mifft\u001B[49m\u001B[43m(\u001B[49m\u001B[43msp1\u001B[49m\u001B[43m \u001B[49m\u001B[38;5;241;43m*\u001B[39;49m\u001B[43m \u001B[49m\u001B[43msp2\u001B[49m\u001B[43m,\u001B[49m\u001B[43m \u001B[49m\u001B[43mfshape\u001B[49m\u001B[43m,\u001B[49m\u001B[43m \u001B[49m\u001B[43maxes\u001B[49m\u001B[38;5;241;43m=\u001B[39;49m\u001B[43maxes\u001B[49m\u001B[43m)\u001B[49m\n\u001B[1;32m    513\u001B[0m \u001B[38;5;28;01mif\u001B[39;00m calc_fast_len:\n\u001B[1;32m    514\u001B[0m     fslice \u001B[38;5;241m=\u001B[39m \u001B[38;5;28mtuple\u001B[39m([\u001B[38;5;28mslice\u001B[39m(sz) \u001B[38;5;28;01mfor\u001B[39;00m sz \u001B[38;5;129;01min\u001B[39;00m shape])\n",
      "File \u001B[0;32m/opt/homebrew/anaconda3/envs/NNFS/lib/python3.11/site-packages/scipy/fft/_backend.py:28\u001B[0m, in \u001B[0;36m_ScipyBackend.__ua_function__\u001B[0;34m(method, args, kwargs)\u001B[0m\n\u001B[1;32m     26\u001B[0m \u001B[38;5;28;01mif\u001B[39;00m fn \u001B[38;5;129;01mis\u001B[39;00m \u001B[38;5;28;01mNone\u001B[39;00m:\n\u001B[1;32m     27\u001B[0m     \u001B[38;5;28;01mreturn\u001B[39;00m \u001B[38;5;28mNotImplemented\u001B[39m\n\u001B[0;32m---> 28\u001B[0m \u001B[38;5;28;01mreturn\u001B[39;00m \u001B[43mfn\u001B[49m\u001B[43m(\u001B[49m\u001B[38;5;241;43m*\u001B[39;49m\u001B[43margs\u001B[49m\u001B[43m,\u001B[49m\u001B[43m \u001B[49m\u001B[38;5;241;43m*\u001B[39;49m\u001B[38;5;241;43m*\u001B[39;49m\u001B[43mkwargs\u001B[49m\u001B[43m)\u001B[49m\n",
      "File \u001B[0;32m/opt/homebrew/anaconda3/envs/NNFS/lib/python3.11/site-packages/scipy/fft/_basic_backend.py:130\u001B[0m, in \u001B[0;36mirfftn\u001B[0;34m(x, s, axes, norm, overwrite_x, workers, plan)\u001B[0m\n\u001B[1;32m    128\u001B[0m \u001B[38;5;28;01mdef\u001B[39;00m \u001B[38;5;21mirfftn\u001B[39m(x, s\u001B[38;5;241m=\u001B[39m\u001B[38;5;28;01mNone\u001B[39;00m, axes\u001B[38;5;241m=\u001B[39m\u001B[38;5;28;01mNone\u001B[39;00m, norm\u001B[38;5;241m=\u001B[39m\u001B[38;5;28;01mNone\u001B[39;00m,\n\u001B[1;32m    129\u001B[0m            overwrite_x\u001B[38;5;241m=\u001B[39m\u001B[38;5;28;01mFalse\u001B[39;00m, workers\u001B[38;5;241m=\u001B[39m\u001B[38;5;28;01mNone\u001B[39;00m, \u001B[38;5;241m*\u001B[39m, plan\u001B[38;5;241m=\u001B[39m\u001B[38;5;28;01mNone\u001B[39;00m):\n\u001B[0;32m--> 130\u001B[0m     \u001B[38;5;28;01mreturn\u001B[39;00m \u001B[43m_execute_nD\u001B[49m\u001B[43m(\u001B[49m\u001B[38;5;124;43m'\u001B[39;49m\u001B[38;5;124;43mirfftn\u001B[39;49m\u001B[38;5;124;43m'\u001B[39;49m\u001B[43m,\u001B[49m\u001B[43m \u001B[49m\u001B[43m_pocketfft\u001B[49m\u001B[38;5;241;43m.\u001B[39;49m\u001B[43mirfftn\u001B[49m\u001B[43m,\u001B[49m\u001B[43m \u001B[49m\u001B[43mx\u001B[49m\u001B[43m,\u001B[49m\u001B[43m \u001B[49m\u001B[43ms\u001B[49m\u001B[38;5;241;43m=\u001B[39;49m\u001B[43ms\u001B[49m\u001B[43m,\u001B[49m\u001B[43m \u001B[49m\u001B[43maxes\u001B[49m\u001B[38;5;241;43m=\u001B[39;49m\u001B[43maxes\u001B[49m\u001B[43m,\u001B[49m\u001B[43m \u001B[49m\u001B[43mnorm\u001B[49m\u001B[38;5;241;43m=\u001B[39;49m\u001B[43mnorm\u001B[49m\u001B[43m,\u001B[49m\n\u001B[1;32m    131\u001B[0m \u001B[43m                       \u001B[49m\u001B[43moverwrite_x\u001B[49m\u001B[38;5;241;43m=\u001B[39;49m\u001B[43moverwrite_x\u001B[49m\u001B[43m,\u001B[49m\u001B[43m \u001B[49m\u001B[43mworkers\u001B[49m\u001B[38;5;241;43m=\u001B[39;49m\u001B[43mworkers\u001B[49m\u001B[43m,\u001B[49m\u001B[43m \u001B[49m\u001B[43mplan\u001B[49m\u001B[38;5;241;43m=\u001B[39;49m\u001B[43mplan\u001B[49m\u001B[43m)\u001B[49m\n",
      "File \u001B[0;32m/opt/homebrew/anaconda3/envs/NNFS/lib/python3.11/site-packages/scipy/fft/_basic_backend.py:45\u001B[0m, in \u001B[0;36m_execute_nD\u001B[0;34m(func_str, pocketfft_func, x, s, axes, norm, overwrite_x, workers, plan)\u001B[0m\n\u001B[1;32m     42\u001B[0m xp \u001B[38;5;241m=\u001B[39m array_namespace(x)\n\u001B[1;32m     44\u001B[0m \u001B[38;5;28;01mif\u001B[39;00m is_numpy(xp):\n\u001B[0;32m---> 45\u001B[0m     \u001B[38;5;28;01mreturn\u001B[39;00m \u001B[43mpocketfft_func\u001B[49m\u001B[43m(\u001B[49m\u001B[43mx\u001B[49m\u001B[43m,\u001B[49m\u001B[43m \u001B[49m\u001B[43ms\u001B[49m\u001B[38;5;241;43m=\u001B[39;49m\u001B[43ms\u001B[49m\u001B[43m,\u001B[49m\u001B[43m \u001B[49m\u001B[43maxes\u001B[49m\u001B[38;5;241;43m=\u001B[39;49m\u001B[43maxes\u001B[49m\u001B[43m,\u001B[49m\u001B[43m \u001B[49m\u001B[43mnorm\u001B[49m\u001B[38;5;241;43m=\u001B[39;49m\u001B[43mnorm\u001B[49m\u001B[43m,\u001B[49m\n\u001B[1;32m     46\u001B[0m \u001B[43m                          \u001B[49m\u001B[43moverwrite_x\u001B[49m\u001B[38;5;241;43m=\u001B[39;49m\u001B[43moverwrite_x\u001B[49m\u001B[43m,\u001B[49m\u001B[43m \u001B[49m\u001B[43mworkers\u001B[49m\u001B[38;5;241;43m=\u001B[39;49m\u001B[43mworkers\u001B[49m\u001B[43m,\u001B[49m\u001B[43m \u001B[49m\u001B[43mplan\u001B[49m\u001B[38;5;241;43m=\u001B[39;49m\u001B[43mplan\u001B[49m\u001B[43m)\u001B[49m\n\u001B[1;32m     48\u001B[0m norm \u001B[38;5;241m=\u001B[39m _validate_fft_args(workers, plan, norm)\n\u001B[1;32m     49\u001B[0m \u001B[38;5;28;01mif\u001B[39;00m \u001B[38;5;28mhasattr\u001B[39m(xp, \u001B[38;5;124m'\u001B[39m\u001B[38;5;124mfft\u001B[39m\u001B[38;5;124m'\u001B[39m):\n",
      "File \u001B[0;32m/opt/homebrew/anaconda3/envs/NNFS/lib/python3.11/site-packages/scipy/fft/_pocketfft/basic.py:218\u001B[0m, in \u001B[0;36mc2rn\u001B[0;34m(forward, x, s, axes, norm, overwrite_x, workers, plan)\u001B[0m\n\u001B[1;32m    215\u001B[0m tmp, _ \u001B[38;5;241m=\u001B[39m \u001B[38;5;28mtuple\u001B[39m(_fix_shape(tmp, shape, axes))\n\u001B[1;32m    217\u001B[0m \u001B[38;5;66;03m# Note: overwrite_x is not utilized\u001B[39;00m\n\u001B[0;32m--> 218\u001B[0m \u001B[38;5;28;01mreturn\u001B[39;00m \u001B[43mpfft\u001B[49m\u001B[38;5;241;43m.\u001B[39;49m\u001B[43mc2r\u001B[49m\u001B[43m(\u001B[49m\u001B[43mtmp\u001B[49m\u001B[43m,\u001B[49m\u001B[43m \u001B[49m\u001B[43maxes\u001B[49m\u001B[43m,\u001B[49m\u001B[43m \u001B[49m\u001B[43mlastsize\u001B[49m\u001B[43m,\u001B[49m\u001B[43m \u001B[49m\u001B[43mforward\u001B[49m\u001B[43m,\u001B[49m\u001B[43m \u001B[49m\u001B[43mnorm\u001B[49m\u001B[43m,\u001B[49m\u001B[43m \u001B[49m\u001B[38;5;28;43;01mNone\u001B[39;49;00m\u001B[43m,\u001B[49m\u001B[43m \u001B[49m\u001B[43mworkers\u001B[49m\u001B[43m)\u001B[49m\n",
      "\u001B[0;31mKeyboardInterrupt\u001B[0m: "
     ]
    }
   ],
   "source": [
    "network = Network([\n",
    "    LayerConvolutional(3, 1, 3),\n",
    "    ActivationReLU(),\n",
    "    LayerMaxPooling(),\n",
    "    LayerConvolutional(2, 3, 3),\n",
    "    ActivationReLU(),\n",
    "    LayerMaxPooling(),\n",
    "    LayerFlatten(),\n",
    "    LayerDense(98, 10),\n",
    "    ActivationReLU(),\n",
    "    LayerDense(10, 10),\n",
    "    ActivationSoftmaxLossCategoricalCrossentropy()\n",
    "], OptimizerSGD())\n",
    "\n",
    "epochs = 100\n",
    "batch_size = 10\n",
    "\n",
    "network.train(x_fashion, y_fashion, epochs, batch_size)"
   ],
   "metadata": {
    "collapsed": false,
    "ExecuteTime": {
     "end_time": "2024-03-31T19:00:52.190612Z",
     "start_time": "2024-03-31T18:57:18.714246Z"
    }
   },
   "execution_count": 151
  },
  {
   "cell_type": "code",
   "outputs": [
    {
     "data": {
      "text/plain": "array([[-7.07162184e-05, -7.07162184e-05, -7.07162184e-05,\n        -6.00118946e-05, -7.97855640e-05, -6.97639844e-05,\n        -2.44038287e-04, -2.73114177e-04, -7.07162184e-05,\n        -7.07162184e-05, -7.07162184e-05, -7.07162184e-05,\n        -6.57511339e-05, -6.46112539e-05],\n       [-7.07162184e-05, -7.07162184e-05, -7.07162184e-05,\n        -1.58905217e-04, -3.96781023e-04, -1.30038269e-04,\n        -6.02848639e-05, -3.66630465e-04, -7.07162184e-05,\n        -7.07162184e-05, -7.07162184e-05, -7.07162184e-05,\n        -6.57511339e-05, -6.46112539e-05],\n       [-7.07162184e-05, -7.07162184e-05, -7.07162184e-05,\n        -1.87503948e-04, -4.22047857e-04, -3.79526130e-04,\n        -7.08714367e-05, -4.06956012e-04, -7.07162184e-05,\n        -7.07162184e-05, -7.07162184e-05, -7.07162184e-05,\n        -6.57511339e-05, -6.46112539e-05],\n       [-7.07162184e-05, -7.07162184e-05, -7.07162184e-05,\n        -2.13060705e-04, -3.96020262e-04, -4.22265606e-04,\n        -6.77218928e-05, -4.31397713e-04, -7.07162184e-05,\n        -7.07162184e-05, -7.07162184e-05, -7.07162184e-05,\n        -6.57511339e-05, -6.46112539e-05],\n       [-7.07162184e-05, -7.07162184e-05, -7.07162184e-05,\n        -2.30868201e-04, -4.53584139e-04, -4.42859864e-04,\n        -8.11621474e-05, -4.07826454e-04, -7.07162184e-05,\n        -7.07162184e-05, -7.07162184e-05, -7.07162184e-05,\n        -6.57511339e-05, -6.46112539e-05],\n       [-7.07162184e-05, -7.07162184e-05, -7.07162184e-05,\n        -2.52984923e-04, -5.05152318e-04, -3.80445058e-04,\n        -2.03121256e-04, -2.86287089e-04, -7.07162184e-05,\n        -7.07162184e-05, -7.07162184e-05, -7.07162184e-05,\n        -6.57511339e-05, -6.46112539e-05],\n       [-7.07162184e-05, -7.07162184e-05, -6.98133057e-05,\n        -2.82574577e-04, -5.32174458e-04, -2.65897674e-04,\n        -3.82144318e-04, -1.25623635e-04, -7.07162184e-05,\n        -7.07162184e-05, -7.07162184e-05, -7.07162184e-05,\n        -6.57511339e-05, -6.46112539e-05],\n       [-7.07162184e-05, -7.07162184e-05, -7.49106659e-05,\n        -3.10227411e-04, -5.25247264e-04, -1.14713317e-04,\n        -4.96663354e-04, -7.73189195e-05, -7.07162184e-05,\n        -7.07162184e-05, -7.07162184e-05, -7.07162184e-05,\n        -6.57511339e-05, -6.46112539e-05],\n       [-7.07162184e-05, -7.07162184e-05, -1.21382770e-04,\n        -3.43649492e-04, -5.05610706e-04,  4.14493294e-07,\n        -5.04886879e-04, -7.09831228e-05, -7.07162184e-05,\n        -7.07162184e-05, -7.07162184e-05, -7.07162184e-05,\n        -6.57511339e-05, -6.46112539e-05],\n       [-7.07162184e-05, -7.07162184e-05, -1.22383233e-04,\n        -3.70643078e-04, -4.34499517e-04,  1.28813227e-04,\n        -3.26019992e-04, -6.49610067e-05, -7.07162184e-05,\n        -7.07162184e-05, -7.07162184e-05, -7.07162184e-05,\n        -6.57511339e-05, -6.46112539e-05],\n       [-7.07162184e-05, -7.07162184e-05, -8.41652964e-05,\n        -2.88122631e-04, -5.87298905e-04, -2.06289848e-04,\n        -2.16159275e-04, -7.80526952e-05, -7.07162184e-05,\n        -7.07162184e-05, -7.07162184e-05, -7.07162184e-05,\n        -6.57511339e-05, -6.46112539e-05],\n       [-7.07162184e-05, -7.07162184e-05, -7.07162184e-05,\n        -1.33971444e-04, -1.91563106e-04, -1.34102699e-04,\n        -1.74047471e-04, -8.49319381e-05, -7.07162184e-05,\n        -7.07162184e-05, -7.07162184e-05, -7.07162184e-05,\n        -6.57511339e-05, -6.46112539e-05],\n       [-7.40447006e-05, -7.40447006e-05, -7.40447006e-05,\n        -7.40447006e-05, -7.40447006e-05, -7.40447006e-05,\n        -7.40447006e-05, -7.40447006e-05, -7.40447006e-05,\n        -7.40447006e-05, -7.40447006e-05, -7.40447006e-05,\n        -6.87208046e-05, -6.55386371e-05],\n       [-6.64937121e-05, -6.64937121e-05, -6.64937121e-05,\n        -6.64937121e-05, -6.64937121e-05, -6.64937121e-05,\n        -6.64937121e-05, -6.64937121e-05, -6.64937121e-05,\n        -6.64937121e-05, -6.64937121e-05, -6.64937121e-05,\n        -6.47790572e-05, -6.46327398e-05]])"
     },
     "execution_count": 518,
     "metadata": {},
     "output_type": "execute_result"
    }
   ],
   "source": [
    "network.layers[3].output[0, 0]"
   ],
   "metadata": {
    "collapsed": false,
    "ExecuteTime": {
     "end_time": "2024-03-30T21:21:20.037150Z",
     "start_time": "2024-03-30T21:21:20.031780Z"
    }
   },
   "execution_count": 518
  },
  {
   "cell_type": "code",
   "outputs": [
    {
     "name": "stdout",
     "output_type": "stream",
     "text": [
      "1388\n",
      "Network Prediction: 6\n",
      "Correct Prediction: 6\n"
     ]
    }
   ],
   "source": [
    "count = 0\n",
    "for test_sample_num in range(10000):\n",
    "    x_test, num_inputs = read_mnist_images('mnist/t10k-images.idx3-ubyte')\n",
    "    x_test_flat = x_test.reshape(-1, 1, 28, 28) / 255.\n",
    "    y_test = one_hot_encode(read_mnist_labels('mnist/t10k-labels.idx1-ubyte'), 10)\n",
    "    network.forward_propagation(x_test_flat[test_sample_num:test_sample_num+1, :], y_test)\n",
    "    pred = np.argmax(network.layers[-1].output)\n",
    "    correct = np.argmax(y_test[test_sample_num])\n",
    "    if pred != correct:\n",
    "        count += 1\n",
    "print(count)\n",
    "print(f'Network Prediction: {pred}')\n",
    "print(f'Correct Prediction: {correct}')\n",
    "#plt.imshow(x_test[test_sample_num], cmap='gray')\n"
   ],
   "metadata": {
    "collapsed": false,
    "ExecuteTime": {
     "end_time": "2024-03-31T18:42:15.019648Z",
     "start_time": "2024-03-31T18:40:27.015712Z"
    }
   },
   "execution_count": 144
  },
  {
   "cell_type": "code",
   "outputs": [],
   "source": [],
   "metadata": {
    "collapsed": false
   }
  }
 ],
 "metadata": {
  "kernelspec": {
   "display_name": "Python 3 (ipykernel)",
   "language": "python",
   "name": "python3"
  },
  "language_info": {
   "codemirror_mode": {
    "name": "ipython",
    "version": 3
   },
   "file_extension": ".py",
   "mimetype": "text/x-python",
   "name": "python",
   "nbconvert_exporter": "python",
   "pygments_lexer": "ipython3",
   "version": "3.11.7"
  }
 },
 "nbformat": 4,
 "nbformat_minor": 0
}
