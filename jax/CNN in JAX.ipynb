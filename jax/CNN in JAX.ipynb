{
 "cells": [
  {
   "cell_type": "code",
   "execution_count": null,
   "metadata": {
    "collapsed": true,
    "id": "kwllFwvMEj-O"
   },
   "outputs": [],
   "source": [
    "import jax.numpy as jnp\n",
    "import jax.scipy as jsp\n",
    "from random import randint as rn\n",
    "from jax import random, grad, jit, vmap\n",
    "from jax.scipy.special import logsumexp\n",
    "import matplotlib.pyplot as plt"
   ]
  },
  {
   "cell_type": "code",
   "execution_count": null,
   "metadata": {
    "id": "RIN-6P3_Ej-Q"
   },
   "outputs": [],
   "source": [
    "def one_hot_encode(y, num_classes):\n",
    "    return jnp.eye(num_classes)[y]"
   ]
  },
  {
   "cell_type": "code",
   "execution_count": null,
   "metadata": {
    "id": "soygzkSkEj-Q"
   },
   "outputs": [],
   "source": [
    "# read mnist data\n",
    "def read_mnist_images(filename):\n",
    "    with open(filename, 'rb') as f:\n",
    "        data = f.read()\n",
    "        assert int.from_bytes(data[:4], byteorder='big') == 2051\n",
    "        n_images = int.from_bytes(data[4:8], byteorder='big')\n",
    "        n_rows = int.from_bytes(data[8:12], byteorder='big')\n",
    "        n_cols = int.from_bytes(data[12:16], byteorder='big')\n",
    "        images = jnp.frombuffer(data, dtype=jnp.uint8, offset=16)\n",
    "        return images, n_images, n_rows, n_cols\n",
    "\n",
    "\n",
    "def read_mnist_labels(filename):\n",
    "    with open(filename, 'rb') as f:\n",
    "        data = f.read()\n",
    "        assert int.from_bytes(data[:4], byteorder='big') == 2049\n",
    "        labels = jnp.frombuffer(data, dtype=jnp.uint8, offset=8)\n",
    "        return labels\n",
    "\n",
    "\n",
    "x, num_inputs, num_rows, num_cols = read_mnist_images('../mnist/train-images.idx3-ubyte')\n",
    "x = x / 255.\n",
    "x = x.reshape((-1, 1, 28, 28))\n",
    "y = one_hot_encode(read_mnist_labels('../mnist/train-labels.idx1-ubyte'), 10)"
   ]
  },
  {
   "cell_type": "code",
   "execution_count": null,
   "metadata": {
    "id": "953FkOU2Ej-R"
   },
   "outputs": [],
   "source": [
    "def init_dense_params(n_inputs, n_neurons):\n",
    "    rng = random.PRNGKey(rn(0, 10000))\n",
    "    variance = jnp.sqrt(6/(n_inputs + n_neurons))\n",
    "    weights = random.normal(key=rng, shape=(n_neurons, n_inputs)) * variance # xavier initialization from tensorflow\n",
    "    biases = jnp.zeros((n_neurons, ))\n",
    "    return weights, biases\n",
    "\n",
    "\n",
    "def dense_forward(weights, biases, inputs):\n",
    "    return jnp.dot(weights, inputs) + biases\n"
   ]
  },
  {
   "cell_type": "code",
   "execution_count": null,
   "metadata": {
    "id": "tYxLIJd2Ej-R"
   },
   "outputs": [],
   "source": [
    "def init_conv_params(num_kernels, num_channels, kernel_size):\n",
    "    rng = random.PRNGKey(rn(0, 10000))\n",
    "    variance = jnp.sqrt(6/(kernel_size*kernel_size*num_channels))\n",
    "    weights = random.normal(key=rng, shape=(num_kernels, num_channels, kernel_size, kernel_size)) * variance\n",
    "    biases = jnp.zeros((num_kernels,))\n",
    "    return weights, biases\n",
    "\n",
    "\n",
    "def conv_forward_single_kernel(kernel, bias, image, mode='valid'):\n",
    "    def convolve_single_channel(channel_kernel, bias, image_channel):\n",
    "        return jsp.signal.correlate(image_channel, channel_kernel, mode=mode) + bias\n",
    "    multichannel_convolve = vmap(convolve_single_channel, in_axes=(0, None, 0))\n",
    "    return jnp.sum(multichannel_convolve(kernel, bias, image), axis=0)\n",
    "\n",
    "\n",
    "def conv_forward_multi_kernel(kernels, biases, image, mode='valid'):\n",
    "    return jnp.stack([conv_forward_single_kernel(kernel, bias, image, mode=mode) for kernel, bias in zip(kernels, biases)], axis=0)\n"
   ]
  },
  {
   "cell_type": "code",
   "execution_count": null,
   "metadata": {
    "id": "phvZggqDEj-R"
   },
   "outputs": [],
   "source": [
    "def pool2d(input_channel, pool_size, stride):\n",
    "    p_h = pool_size\n",
    "    p_w = pool_size\n",
    "    Y = jnp.zeros(((input_channel.shape[0] - p_h)//stride + 1, (input_channel.shape[1] - p_w)//stride + 1))\n",
    "    for i in range(0, Y.shape[0]):\n",
    "        for j in range(0, Y.shape[1]):\n",
    "            max_of_window = input_channel[stride*i: stride*i + p_h, stride*j: stride*j + p_w].max()\n",
    "            Y = Y.at[i, j].set(max_of_window)\n",
    "    return Y\n",
    "\n",
    "def pool2d_channeled(image, pool_size, stride):\n",
    "    channeled_pool = vmap(pool2d, in_axes=(0, None, None))\n",
    "    return channeled_pool(image, pool_size, stride)"
   ]
  },
  {
   "cell_type": "code",
   "execution_count": null,
   "metadata": {
    "id": "btnput-YEj-R"
   },
   "outputs": [],
   "source": [
    "def flatten(inputs):\n",
    "    return inputs.reshape((inputs.shape[0] * inputs.shape[1] * inputs.shape[2]))"
   ]
  },
  {
   "cell_type": "code",
   "execution_count": null,
   "metadata": {
    "id": "EJz_5RTuEj-R"
   },
   "outputs": [],
   "source": [
    "def relu(inputs):\n",
    "    return jnp.maximum(0, inputs)"
   ]
  },
  {
   "cell_type": "code",
   "execution_count": null,
   "metadata": {
    "id": "haKxqxOqEj-R"
   },
   "outputs": [],
   "source": [
    "def softmax_cross_corr_loss(inputs):\n",
    "    return inputs - logsumexp(inputs)\n"
   ]
  },
  {
   "cell_type": "code",
   "execution_count": null,
   "metadata": {
    "id": "FAunk7kBEj-R"
   },
   "outputs": [],
   "source": [
    "def predict(params, image):\n",
    "    activation = image\n",
    "    params_conv = params[0]\n",
    "    params_dense = params[1]\n",
    "    for f, b in params_conv:\n",
    "        activation = conv_forward_multi_kernel(f, b, activation, mode='same')\n",
    "        activation = relu(activation)\n",
    "        activation = pool2d_channeled(activation, 2, 2)\n",
    "    activation = flatten(activation)\n",
    "    for w, b in params_dense[:-1]:\n",
    "        activation = dense_forward(w, b, activation)\n",
    "        activation = relu(activation)\n",
    "    last_w, last_b = params_dense[-1]\n",
    "    activation = dense_forward(last_w, last_b, activation)\n",
    "    return softmax_cross_corr_loss(activation)\n",
    "\n",
    "\n",
    "def batched_predict(params, images):\n",
    "    b_predict = vmap(predict, in_axes=(None, 0))\n",
    "    return b_predict(params, images)\n",
    "\n",
    "\n",
    "def loss(params, x, y):\n",
    "    preds = batched_predict(params, x)\n",
    "    return -jnp.mean(preds*y)\n",
    "\n",
    "@jit\n",
    "def optimize(params, x, y, learning_rate=1):\n",
    "    gradients = grad(loss)(params, x, y)\n",
    "    return [[(w - learning_rate*dw, b - learning_rate*db) for (dw, db), (w, b) in zip(gradients[i], params[i])] for i in range(len(gradients))]"
   ]
  },
  {
   "cell_type": "code",
   "execution_count": null,
   "metadata": {
    "id": "GeBqrP7zEj-S"
   },
   "outputs": [],
   "source": [
    "def accuracy(params, images, targets):\n",
    "  target_class = jnp.argmax(targets, axis=1)\n",
    "  predicted_class = jnp.argmax(batched_predict(params, images), axis=1)\n",
    "  return jnp.mean(predicted_class == target_class)"
   ]
  },
  {
   "cell_type": "code",
   "execution_count": null,
   "metadata": {
    "id": "y5_ztx7kEj-S"
   },
   "outputs": [],
   "source": [
    "def train(params, x, y, epochs, batch_size):\n",
    "    for i in range(epochs):\n",
    "        for j in range(0, len(x), batch_size):\n",
    "            x_batch = x[j:j+batch_size]\n",
    "            y_batch = y[j:j+batch_size]\n",
    "            params = optimize(params, x_batch, y_batch, learning_rate=0.1)\n",
    "\n",
    "        train_acc = accuracy(params, x, y)\n",
    "        train_loss = loss(params, x, y)\n",
    "        print(f'epoch: {i}, ' + f'acc: {train_acc:.3f}, ' + f'loss: {train_loss:.3f}')\n",
    "    return params\n"
   ]
  },
  {
   "cell_type": "markdown",
   "metadata": {
    "collapsed": false,
    "id": "Cphg5fOrEj-V"
   },
   "source": [
    "# Fashion MNIST model - CNN Architecture"
   ]
  },
  {
   "cell_type": "code",
   "execution_count": null,
   "metadata": {
    "id": "CHGnCC8zEj-S"
   },
   "outputs": [],
   "source": [
    "params = [\n",
    "    [\n",
    "        init_conv_params(3, 1, 3),\n",
    "        init_conv_params(2, 3, 3),\n",
    "        init_conv_params(2, 2, 3)\n",
    "    ],\n",
    "    [\n",
    "        init_dense_params(18, 10),\n",
    "        init_dense_params(10, 10),\n",
    "        init_dense_params(10, 10)\n",
    "    ]\n",
    "]"
   ]
  },
  {
   "cell_type": "code",
   "execution_count": null,
   "metadata": {
    "id": "Z_F4tBuFEj-U"
   },
   "outputs": [],
   "source": [
    "x_fashion, num_inputs_fashion, n_rows, n_cols = read_mnist_images('../fashion_mnist/train-images-idx3-ubyte')\n",
    "x_fashion = x_fashion.reshape((-1, 1, n_rows, n_cols)) / 255.\n",
    "y_fashion = one_hot_encode(read_mnist_labels('../fashion_mnist/train-labels-idx1-ubyte'), 10)"
   ]
  },
  {
   "cell_type": "code",
   "execution_count": null,
   "metadata": {
    "colab": {
     "background_save": true,
     "base_uri": "https://localhost:8080/"
    },
    "id": "12gnu6IKEj-U",
    "outputId": "9da2faeb-8439-4e3b-a0ec-bc79c902532e"
   },
   "outputs": [
    {
     "name": "stdout",
     "output_type": "stream",
     "text": [
      "epoch: 0, acc: 0.690, loss: 0.084\n",
      "epoch: 1, acc: 0.736, loss: 0.072\n",
      "epoch: 2, acc: 0.759, loss: 0.065\n",
      "epoch: 3, acc: 0.779, loss: 0.060\n",
      "epoch: 4, acc: 0.788, loss: 0.057\n",
      "epoch: 5, acc: 0.794, loss: 0.056\n",
      "epoch: 6, acc: 0.794, loss: 0.056\n",
      "epoch: 7, acc: 0.797, loss: 0.056\n",
      "epoch: 8, acc: 0.800, loss: 0.055\n",
      "epoch: 9, acc: 0.802, loss: 0.055\n",
      "epoch: 10, acc: 0.805, loss: 0.055\n",
      "epoch: 11, acc: 0.807, loss: 0.054\n",
      "epoch: 12, acc: 0.808, loss: 0.053\n",
      "epoch: 13, acc: 0.808, loss: 0.054\n",
      "epoch: 14, acc: 0.807, loss: 0.054\n",
      "epoch: 15, acc: 0.809, loss: 0.053\n",
      "epoch: 16, acc: 0.810, loss: 0.053\n",
      "epoch: 17, acc: 0.811, loss: 0.052\n",
      "epoch: 18, acc: 0.808, loss: 0.054\n",
      "epoch: 19, acc: 0.809, loss: 0.054\n",
      "epoch: 20, acc: 0.813, loss: 0.052\n",
      "epoch: 21, acc: 0.814, loss: 0.051\n",
      "epoch: 22, acc: 0.816, loss: 0.051\n",
      "epoch: 23, acc: 0.815, loss: 0.051\n",
      "epoch: 24, acc: 0.816, loss: 0.051\n",
      "epoch: 25, acc: 0.817, loss: 0.051\n",
      "epoch: 26, acc: 0.818, loss: 0.050\n",
      "epoch: 27, acc: 0.818, loss: 0.050\n",
      "epoch: 28, acc: 0.820, loss: 0.050\n",
      "epoch: 29, acc: 0.817, loss: 0.051\n"
     ]
    }
   ],
   "source": [
    "epochs = 30\n",
    "batch_size = 10\n",
    "\n",
    "params = train(params, x_fashion, y_fashion, epochs, batch_size)\n"
   ]
  },
  {
   "cell_type": "code",
   "execution_count": 23,
   "metadata": {
    "id": "yTFRJVRZEj-U"
   },
   "outputs": [],
   "source": [
    "fashion_interpretation_dict = {\n",
    "    0: 'T-shirt/top',\n",
    "    1:'Trouser',\n",
    "    2: 'Pullover',\n",
    "    3: 'Dress',\n",
    "    4: 'Coat',\n",
    "    5: 'Sandal',\n",
    "    6: 'Shirt',\n",
    "    7: 'Sneaker',\n",
    "    8: 'Bag',\n",
    "    9: 'Ankle boot'\n",
    "}"
   ]
  },
  {
   "cell_type": "code",
   "execution_count": 35,
   "metadata": {
    "id": "5oTgTMrSEj-V",
    "outputId": "88f8313c-4af1-4f8b-9142-1db686d7474b",
    "colab": {
     "base_uri": "https://localhost:8080/",
     "height": 482
    }
   },
   "outputs": [
    {
     "output_type": "stream",
     "name": "stdout",
     "text": [
      "Network Prediction: 8 - Bag\n",
      "Correct Prediction: 8 - Bag\n"
     ]
    },
    {
     "output_type": "execute_result",
     "data": {
      "text/plain": [
       "<matplotlib.image.AxesImage at 0x7845184081c0>"
      ]
     },
     "metadata": {},
     "execution_count": 35
    },
    {
     "output_type": "display_data",
     "data": {
      "text/plain": [
       "<Figure size 640x480 with 1 Axes>"
      ],
      "image/png": "[encoded data removed]"
     },
     "metadata": {}
    }
   ],
   "source": [
    "# Specific Sample Testing\n",
    "test_sample_num = 3302\n",
    "x_test_fashion, num_inputs_test_fashion, n_rows, n_cols = read_mnist_images('../fashion_mnist/t10k-images-idx3-ubyte')\n",
    "x_test_fashion = x_test_fashion.reshape(-1, 1, n_rows, n_cols) / 255.\n",
    "y_test_fashion = one_hot_encode(read_mnist_labels('../fashion_mnist/t10k-labels-idx1-ubyte'), 10)\n",
    "predicted_class = int(jnp.argmax(predict(params, x_test_fashion[test_sample_num])))\n",
    "print(f'Network Prediction: {predicted_class} - {fashion_interpretation_dict[predicted_class]}')\n",
    "print(f'Correct Prediction: {jnp.argmax(y_test_fashion[test_sample_num])} - {fashion_interpretation_dict[int(jnp.argmax(y_test_fashion[test_sample_num]))]}')\n",
    "plt.imshow(x_test_fashion[test_sample_num].reshape((28, 28)), cmap='gray')\n"
   ]
  },
  {
   "cell_type": "code",
   "execution_count": 29,
   "metadata": {
    "id": "7-23N1NwEj-V",
    "outputId": "98b155d9-4f3c-4e6d-cb6b-fe523060687d",
    "colab": {
     "base_uri": "https://localhost:8080/"
    }
   },
   "outputs": [
    {
     "output_type": "stream",
     "name": "stdout",
     "text": [
      "Accuracy on eval dataset: 0.809499979019165%\n"
     ]
    }
   ],
   "source": [
    "# General Evaluation\n",
    "print(f'Accuracy on eval dataset: {accuracy(params, x_test_fashion, y_test_fashion)}%')\n"
   ]
  }
 ],
 "metadata": {
  "accelerator": "GPU",
  "colab": {
   "gpuType": "T4",
   "provenance": []
  },
  "kernelspec": {
   "display_name": "Python 3",
   "name": "python3"
  },
  "language_info": {
   "codemirror_mode": {
    "name": "ipython",
    "version": 3
   },
   "file_extension": ".py",
   "mimetype": "text/x-python",
   "name": "python",
   "nbconvert_exporter": "python",
   "pygments_lexer": "ipython3",
   "version": "3.11.7"
  }
 },
 "nbformat": 4,
 "nbformat_minor": 0
}
