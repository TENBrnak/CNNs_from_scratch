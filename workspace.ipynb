{
 "cells": [
  {
   "cell_type": "code",
   "execution_count": 26,
   "metadata": {},
   "outputs": [],
   "source": [
    "from tensor import TensorSpec, Tensor, TensorShape\n",
    "from utils.index import Index\n",
    "from collections.dict import Dict, KeyElement\n",
    "from random import rand"
   ]
  },
  {
   "cell_type": "code",
   "execution_count": 27,
   "metadata": {},
   "outputs": [],
   "source": [
    "@value\n",
    "struct IntKey(KeyElement):\n",
    "    var n: Int\n",
    "\n",
    "    fn __init__(inout self, owned n: Int):\n",
    "        self.n = n\n",
    "\n",
    "    fn __hash__(self) -> Int:\n",
    "        return hash(self.n)\n",
    "\n",
    "    fn __eq__(self, other: Self) -> Bool:\n",
    "        return self.n == other.n\n",
    "\n",
    "\n",
    "let fashion_mnist_key = Dict[IntKey, String]()\n",
    "fashion_mnist_key[0] = \"T-shirt/top\"\n",
    "fashion_mnist_key[1] = \"Trouser\"\n",
    "fashion_mnist_key[2] = \"Pullover\"\n",
    "fashion_mnist_key[3] = \"Dress\"\n",
    "fashion_mnist_key[4] = \"Coat\"\n",
    "fashion_mnist_key[5] = \"Sandal\"\n",
    "fashion_mnist_key[6] = \"Shirt\"\n",
    "fashion_mnist_key[7] = \"Sneaker\"\n",
    "fashion_mnist_key[8] = \"Bag\"\n",
    "fashion_mnist_key[9] = \"Ankle boot\"\n"
   ]
  },
  {
   "cell_type": "code",
   "execution_count": 28,
   "metadata": {},
   "outputs": [],
   "source": [
    "fn uint8_to_int32(uint8_tensor: Tensor[DType.uint8]) raises -> SIMD[DType.int32, 1]:\n",
    "    let result = (\n",
    "        (uint8_tensor[0].to_int() << 24)\n",
    "        | (uint8_tensor[1].to_int() << 16)\n",
    "        | (uint8_tensor[2].to_int() << 8)\n",
    "        | uint8_tensor[3].to_int()\n",
    "    )\n",
    "    return SIMD[DType.int32, 1](result)\n"
   ]
  },
  {
   "cell_type": "code",
   "execution_count": 29,
   "metadata": {},
   "outputs": [],
   "source": [
    "fn get_slice[type: DType](tensor: Tensor[type], start_index: Int, end_index: Int) raises -> Tensor[type]:\n",
    "    if end_index < start_index:\n",
    "        raise \"End index more than start index.\"\n",
    "    elif end_index == start_index:\n",
    "        var output_tensor = Tensor[type](1)\n",
    "        output_tensor[0] = tensor[start_index]\n",
    "\n",
    "        return output_tensor\n",
    "    else:\n",
    "        var output_tensor = Tensor[type](end_index - start_index)\n",
    "        for i in range(start_index, end_index):\n",
    "            output_tensor[i - start_index] = tensor[i]\n",
    "        return output_tensor\n"
   ]
  },
  {
   "cell_type": "code",
   "execution_count": 30,
   "metadata": {},
   "outputs": [],
   "source": [
    "fn read_data_as_images(images_path: Path) raises -> Tensor[DType.uint8]:\n",
    "    if images_path.exists():\n",
    "        let image_file = images_path.read_bytes().astype[DType.uint8]()\n",
    "        let num_images = uint8_to_int32(get_slice[DType.uint8](image_file, 4, 8))\n",
    "        let width = uint8_to_int32(get_slice[DType.uint8](image_file, 8, 12))\n",
    "        let height = uint8_to_int32(get_slice[DType.uint8](image_file, 12, 16))\n",
    "\n",
    "        var image_data = get_slice(image_file, 16, image_file.num_elements())\n",
    "\n",
    "        let images_shape = TensorShape(\n",
    "            num_images.to_int(), height.to_int(), width.to_int()\n",
    "        )\n",
    "\n",
    "        let images = image_data.reshape(images_shape)\n",
    "        return images\n",
    "    raise \"The images directory does not exist.\"\n"
   ]
  },
  {
   "cell_type": "code",
   "execution_count": 31,
   "metadata": {},
   "outputs": [],
   "source": [
    "fn read_data_as_labels(labels_path: Path) raises -> Tensor[DType.uint8]:\n",
    "    if labels_path.exists():\n",
    "        let label_file = labels_path.read_bytes().astype[DType.uint8]()\n",
    "        let num_labels = uint8_to_int32(get_slice[DType.uint8](label_file, 4, 8))\n",
    "\n",
    "        let labels = get_slice(label_file, 8, num_labels.to_int() + 8)\n",
    "\n",
    "        return labels\n",
    "    raise \"The labels directory does not exist.\"\n"
   ]
  },
  {
   "cell_type": "code",
   "execution_count": 32,
   "metadata": {},
   "outputs": [],
   "source": [
    "fn tensor_print[type: DType](index: Int, tensor: Tensor[type]):\n",
    "    var cur_line: String\n",
    "\n",
    "    fn get_char_for_pixel(pixel_value: Int) -> String:\n",
    "        if pixel_value == 0:\n",
    "            return \" \"\n",
    "        elif pixel_value < 32:\n",
    "            return \".\"\n",
    "        elif pixel_value < 64:\n",
    "            return \",\"\n",
    "        elif pixel_value < 96:\n",
    "            return \":\"\n",
    "        elif pixel_value < 128:\n",
    "            return \";\"\n",
    "        elif pixel_value < 160:\n",
    "            return \"o\"\n",
    "        elif pixel_value < 192:\n",
    "            return \"O\"\n",
    "        elif pixel_value < 224:\n",
    "            return \"X\"\n",
    "        else:\n",
    "            return \"#\"\n",
    "\n",
    "    for j in range(tensor.shape()[1]):\n",
    "        cur_line = \"\"\n",
    "        for k in range(tensor.shape()[2]):\n",
    "            cur_line += get_char_for_pixel(tensor[Index(index, j, k)].to_int()) + \" \"\n",
    "        print(cur_line)\n"
   ]
  },
  {
   "cell_type": "code",
   "execution_count": 34,
   "metadata": {},
   "outputs": [],
   "source": [
    "let base_dir = \"/Users/tprazak/Documents/seminary_work_nn/MNIST_in_mojo/\"\n",
    "let image_path_mnist = base_dir + \"mnist/train-images.idx3-ubyte\"\n",
    "let labels_path_mnist = base_dir + \"mnist/train-labels.idx1-ubyte\"\n",
    "let image_path_fashion = base_dir + \"fashion_mnist/train-images-idx3-ubyte\"\n",
    "let labels_path_fashion = base_dir + \"fashion_mnist/train-labels-idx1-ubyte\"\n",
    "let images = read_data_as_images(image_path_mnist)\n",
    "let labels = read_data_as_labels(labels_path_mnist)\n",
    "let fashion_images = read_data_as_images(image_path_fashion)\n",
    "let fashion_labels = read_data_as_labels(labels_path_fashion)\n"
   ]
  },
  {
   "cell_type": "code",
   "execution_count": 35,
   "metadata": {},
   "outputs": [],
   "source": [
    "struct DenseLayer:\n",
    "    var weights: Tensor[DType.int16]\n",
    "    var biases: Tensor[DType.int16]\n",
    "\n",
    "    fn __init__(inout self, num_inputs: Int, num_neurons: Int):\n",
    "        self.weights = Tensor[DType.int16]()\n",
    "        self.biases = Tensor[DType.int16]()\n",
    "        "
   ]
  },
  {
   "cell_type": "code",
   "execution_count": 36,
   "metadata": {},
   "outputs": [
    {
     "name": "stdout",
     "output_type": "stream",
     "text": [
      "7\n"
     ]
    }
   ],
   "source": [
    "print(labels[911])\n"
   ]
  },
  {
   "cell_type": "code",
   "execution_count": null,
   "metadata": {},
   "outputs": [],
   "source": []
  }
 ],
 "metadata": {
  "kernelspec": {
   "display_name": "Mojo",
   "language": "mojo",
   "name": "mojo-jupyter-kernel"
  },
  "language_info": {
   "codemirror_mode": {
    "name": "mojo"
   },
   "file_extension": ".mojo",
   "mimetype": "text/x-mojo",
   "name": "mojo"
  }
 },
 "nbformat": 4,
 "nbformat_minor": 2
}
