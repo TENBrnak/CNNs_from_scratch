{
 "cells": [
  {
   "cell_type": "code",
   "execution_count": 21,
   "metadata": {},
   "outputs": [],
   "source": [
    "from tensor import TensorSpec, Tensor, TensorShape\n",
    "from utils.index import Index\n",
    "from collections.dict import Dict, KeyElement\n",
    "from random import rand\n",
    "alias type = DType.float32"
   ]
  },
  {
   "cell_type": "code",
   "execution_count": 22,
   "metadata": {},
   "outputs": [],
   "source": [
    "@value\n",
    "struct IntKey(KeyElement):\n",
    "    var n: Int\n",
    "\n",
    "    fn __init__(inout self, owned n: Int):\n",
    "        self.n = n\n",
    "\n",
    "    fn __hash__(self) -> Int:\n",
    "        return hash(self.n)\n",
    "\n",
    "    fn __eq__(self, other: Self) -> Bool:\n",
    "        return self.n == other.n\n",
    "\n",
    "\n",
    "let fashion_mnist_key = Dict[IntKey, String]()\n",
    "fashion_mnist_key[0] = \"T-shirt/top\"\n",
    "fashion_mnist_key[1] = \"Trouser\"\n",
    "fashion_mnist_key[2] = \"Pullover\"\n",
    "fashion_mnist_key[3] = \"Dress\"\n",
    "fashion_mnist_key[4] = \"Coat\"\n",
    "fashion_mnist_key[5] = \"Sandal\"\n",
    "fashion_mnist_key[6] = \"Shirt\"\n",
    "fashion_mnist_key[7] = \"Sneaker\"\n",
    "fashion_mnist_key[8] = \"Bag\"\n",
    "fashion_mnist_key[9] = \"Ankle boot\"\n"
   ]
  },
  {
   "cell_type": "code",
   "execution_count": 23,
   "metadata": {},
   "outputs": [],
   "source": [
    "fn uint8_to_int32(uint8_tensor: Tensor[DType.uint8]) raises -> SIMD[DType.int32, 1]:\n",
    "    let result = (\n",
    "        (uint8_tensor[0].to_int() << 24)\n",
    "        | (uint8_tensor[1].to_int() << 16)\n",
    "        | (uint8_tensor[2].to_int() << 8)\n",
    "        | uint8_tensor[3].to_int()\n",
    "    )\n",
    "    return SIMD[DType.int32, 1](result)\n"
   ]
  },
  {
   "cell_type": "code",
   "execution_count": 24,
   "metadata": {},
   "outputs": [],
   "source": [
    "fn get_slice[type: DType](tensor: Tensor[type], start_index: Int, end_index: Int) raises -> Tensor[type]:\n",
    "    if end_index < start_index:\n",
    "        raise \"End index more than start index.\"\n",
    "    elif end_index == start_index:\n",
    "        var output_tensor = Tensor[type](1)\n",
    "        output_tensor[0] = tensor[start_index]\n",
    "\n",
    "        return output_tensor\n",
    "    else:\n",
    "        var output_tensor = Tensor[type](end_index - start_index)\n",
    "        for i in range(start_index, end_index):\n",
    "            output_tensor[i - start_index] = tensor[i]\n",
    "        return output_tensor\n"
   ]
  },
  {
   "cell_type": "code",
   "execution_count": 25,
   "metadata": {},
   "outputs": [],
   "source": [
    "fn read_data_as_images(images_path: Path) raises -> Tensor[DType.uint8]:\n",
    "    if images_path.exists():\n",
    "        let image_file = images_path.read_bytes().astype[DType.uint8]()\n",
    "        let num_images = uint8_to_int32(get_slice[DType.uint8](image_file, 4, 8))\n",
    "        let width = uint8_to_int32(get_slice[DType.uint8](image_file, 8, 12))\n",
    "        let height = uint8_to_int32(get_slice[DType.uint8](image_file, 12, 16))\n",
    "\n",
    "        var image_data = get_slice(image_file, 16, image_file.num_elements())\n",
    "\n",
    "        let images_shape = TensorShape(\n",
    "            num_images.to_int(), height.to_int(), width.to_int()\n",
    "        )\n",
    "\n",
    "        let images = image_data.reshape(images_shape)\n",
    "        return images\n",
    "    raise \"The images directory does not exist.\"\n"
   ]
  },
  {
   "cell_type": "code",
   "execution_count": 26,
   "metadata": {},
   "outputs": [],
   "source": [
    "fn read_data_as_labels(labels_path: Path) raises -> Tensor[DType.uint8]:\n",
    "    if labels_path.exists():\n",
    "        let label_file = labels_path.read_bytes().astype[DType.uint8]()\n",
    "        let num_labels = uint8_to_int32(get_slice[DType.uint8](label_file, 4, 8))\n",
    "\n",
    "        let labels = get_slice(label_file, 8, num_labels.to_int() + 8)\n",
    "\n",
    "        return labels\n",
    "    raise \"The labels directory does not exist.\"\n"
   ]
  },
  {
   "cell_type": "code",
   "execution_count": 27,
   "metadata": {},
   "outputs": [],
   "source": [
    "fn tensor_print[type: DType](index: Int, tensor: Tensor[type]):\n",
    "    var cur_line: String\n",
    "\n",
    "    fn get_char_for_pixel(pixel_value: Int) -> String:\n",
    "        if pixel_value == 0:\n",
    "            return \" \"\n",
    "        elif pixel_value < 32:\n",
    "            return \".\"\n",
    "        elif pixel_value < 64:\n",
    "            return \",\"\n",
    "        elif pixel_value < 96:\n",
    "            return \":\"\n",
    "        elif pixel_value < 128:\n",
    "            return \";\"\n",
    "        elif pixel_value < 160:\n",
    "            return \"o\"\n",
    "        elif pixel_value < 192:\n",
    "            return \"O\"\n",
    "        elif pixel_value < 224:\n",
    "            return \"X\"\n",
    "        else:\n",
    "            return \"#\"\n",
    "\n",
    "    for j in range(tensor.shape()[1]):\n",
    "        cur_line = \"\"\n",
    "        for k in range(tensor.shape()[2]):\n",
    "            cur_line += get_char_for_pixel(tensor[Index(index, j, k)].to_int()) + \" \"\n",
    "        print(cur_line)\n"
   ]
  },
  {
   "cell_type": "code",
   "execution_count": 28,
   "metadata": {},
   "outputs": [],
   "source": [
    "let base_dir = \"/Users/tprazak/Documents/seminary_work_nn/MNIST_in_mojo/\"\n",
    "let image_path_mnist = base_dir + \"mnist/train-images.idx3-ubyte\"\n",
    "let labels_path_mnist = base_dir + \"mnist/train-labels.idx1-ubyte\"\n",
    "let image_path_fashion = base_dir + \"fashion_mnist/train-images-idx3-ubyte\"\n",
    "let labels_path_fashion = base_dir + \"fashion_mnist/train-labels-idx1-ubyte\"\n",
    "let images = read_data_as_images(image_path_mnist)\n",
    "let labels = read_data_as_labels(labels_path_mnist)\n",
    "let fashion_images = read_data_as_images(image_path_fashion)\n",
    "let fashion_labels = read_data_as_labels(labels_path_fashion)\n"
   ]
  },
  {
   "cell_type": "code",
   "execution_count": 29,
   "metadata": {},
   "outputs": [],
   "source": [
    "fn matmul(first_matrix: Tensor[type], second_matrix: Tensor[type]) raises -> Tensor[type]:\n",
    "    let f_m = first_matrix.astype[type]()\n",
    "    let s_m = second_matrix.astype[type]()\n",
    "    if first_matrix.rank() != 2 or second_matrix.rank() != 2:\n",
    "        raise 'At least one of the tensors is not a matrix'\n",
    "    if first_matrix.dim(1) != second_matrix.dim(0):\n",
    "        raise 'Then matrices are not compatible for matrix multiplication'\n",
    "\n",
    "    let o_m_rows = f_m.dim(0)\n",
    "    let o_m_columns = s_m.dim(1)\n",
    "    var o_m = Tensor[type](o_m_rows * o_m_columns)\n",
    "    for i in range(o_m_rows):\n",
    "        for j in range(f_m.dim(1)):\n",
    "            for k in range(o_m_columns):\n",
    "                o_m[i*o_m_columns+k] += f_m[i, j] * s_m[j, k]\n",
    "    return o_m.reshape(TensorShape(o_m_rows, o_m_columns))"
   ]
  },
  {
   "cell_type": "code",
   "execution_count": 30,
   "metadata": {},
   "outputs": [],
   "source": [
    "alias nelts = simdwidthof[type]()\n",
    "fn matmul_vectorized(first_matrix: Tensor[type], second_matrix: Tensor[type]) raises -> Tensor[type]:\n",
    "    let f_m = first_matrix.astype[type]()\n",
    "    let s_m = second_matrix.astype[type]()\n",
    "    if first_matrix.rank() != 2 or second_matrix.rank() != 2:\n",
    "        raise 'At least one of the tensors is not a matrix'\n",
    "    if first_matrix.dim(1) != second_matrix.dim(0):\n",
    "        raise 'Then matrices are not compatible for matrix multiplication'\n",
    "\n",
    "    let o_m_rows = f_m.dim(0)\n",
    "    let o_m_cols = s_m.dim(1)\n",
    "    var o_m = Tensor[type](o_m_rows * o_m_cols)\n",
    "    for i in range(o_m_rows):\n",
    "        for j in range(f_m.dim(1)):\n",
    "            for kv in range(0, nelts*(o_m_cols//nelts), nelts):\n",
    "                o_m.simd_store[nelts](i*o_m_cols+kv, o_m.simd_load[nelts](i*o_m_cols+kv) + f_m.simd_load[1](i*f_m.dim(1)+j) * s_m.simd_load[nelts](j*s_m.dim(1)+kv))\n",
    "            for k in range(nelts*(o_m_cols//nelts), o_m_cols):\n",
    "                o_m.simd_store[1](i*o_m_cols+k, o_m.simd_load[1](i*o_m_cols+k) + f_m.simd_load[1](i*f_m.dim(1)+j) * s_m.simd_load[1](j*s_m.dim(1)+k))\n",
    "    return o_m.reshape(TensorShape(o_m_rows, o_m_cols))"
   ]
  },
  {
   "cell_type": "code",
   "execution_count": 31,
   "metadata": {},
   "outputs": [],
   "source": [
    "fn add_biases(output: Tensor[type], biases: Tensor[type]) raises -> Tensor[type]:\n",
    "    let samples = output.dim(0)\n",
    "    let num_neurons = output.dim(1)\n",
    "\n",
    "    var biases_extended = Tensor[type](output.shape())\n",
    "    \n",
    "    if num_neurons != biases.num_elements():\n",
    "        raise 'Number of neurons does not match.'\n",
    "    for i in range(samples):\n",
    "        for j in range(0, nelts*(num_neurons//nelts), nelts):\n",
    "            biases_extended.simd_store[nelts](i*num_neurons+j, biases.simd_load[nelts](j))\n",
    "        for k in range(nelts*(num_neurons//nelts), num_neurons):\n",
    "            biases_extended.simd_store[1](i*num_neurons+k, biases.simd_load[1](k))\n",
    "    return output + biases_extended\n"
   ]
  },
  {
   "cell_type": "code",
   "execution_count": 32,
   "metadata": {},
   "outputs": [],
   "source": [
    "fn transpose(matrix: Tensor[type]) raises -> Tensor[type]:\n",
    "    if matrix.rank() != 2:\n",
    "        raise 'Not a 2D matrix'\n",
    "    var transposed_m = Tensor[type](TensorShape(matrix.dim(1), matrix.dim(0)))\n",
    "    for i in range(matrix.dim(0)):\n",
    "        for j in range(matrix.dim(1)):\n",
    "            transposed_m.simd_store[1](j*matrix.dim(0)+i, matrix.simd_load[1](i*matrix.dim(1)+j))\n",
    "    return transposed_m    "
   ]
  },
  {
   "cell_type": "code",
   "execution_count": 37,
   "metadata": {},
   "outputs": [],
   "source": [
    "fn sum_dvalues_on_cols(dvalues: Tensor[type]) -> Tensor[type]:\n",
    "    let rows = dvalues.dim(0)\n",
    "    let cols = dvalues.dim(1)\n",
    "\n",
    "    var sum_tensor = Tensor[type](cols)\n",
    "    \n",
    "\n",
    "    for i in range(rows):\n",
    "        for j in range(0, nelts*(cols//nelts), nelts):\n",
    "            sum_tensor.simd_store[nelts](j, dvalues.simd_load[nelts](i*cols+j) + sum_tensor.simd_load[nelts](j))\n",
    "        for k in range(nelts*(cols//nelts), cols):\n",
    "            sum_tensor.simd_store[1](k, dvalues.simd_load[1](i*cols+k) + sum_tensor.simd_load[1](k))\n",
    "    return sum_tensor"
   ]
  },
  {
   "cell_type": "code",
   "execution_count": 42,
   "metadata": {},
   "outputs": [],
   "source": [
    "struct LayerDense:\n",
    "    var input: Tensor[type]\n",
    "    var output: Tensor[type]\n",
    "    var weights: Tensor[type]\n",
    "    var biases: Tensor[type]\n",
    "    var dweights: Tensor[type]\n",
    "    var dbiases: Tensor[type]\n",
    "    var dinputs: Tensor[type]\n",
    "\n",
    "    fn __init__(inout self, num_inputs: Int, num_neurons: Int):\n",
    "        self.weights = 0.01 * rand[type](num_inputs, num_neurons)\n",
    "        self.biases = Tensor[type](1, num_neurons)\n",
    "        self.input = Tensor[type]()\n",
    "        self.output = Tensor[type]()\n",
    "        self.dweights = Tensor[type]()\n",
    "        self.dbiases = Tensor[type]()\n",
    "        self.dinputs = Tensor[type]()\n",
    "    \n",
    "    fn forward(inout self, inputs: Tensor[type]) raises:\n",
    "        self.output = matmul_vectorized(inputs, self.weights)\n",
    "        self.output = add_biases(self.output, self.biases)\n",
    "        self.input = inputs\n",
    "\n",
    "    \n",
    "    fn backward(inout self, dvalues: Tensor[type]) raises:\n",
    "        self.dweights = matmul_vectorized(transpose(self.input), dvalues)\n",
    "        self.dinputs = matmul_vectorized(dvalues, transpose(self.weights))\n",
    "        self.dbiases = sum_dvalues_on_cols(dvalues)"
   ]
  },
  {
   "cell_type": "code",
   "execution_count": 44,
   "metadata": {},
   "outputs": [],
   "source": [
    "fn tensor_max(input: Tensor[type], value: SIMD[type, 1]) -> Tensor[type]:\n",
    "    var output = Tensor[type](input.shape())\n",
    "    let cols = input.dim(1)\n",
    "    for i in range(input.dim(0)):\n",
    "        for j in range(0, nelts*(cols//nelts), nelts):\n",
    "            output.simd_store[nelts](i*cols+j, output.simd_load[nelts](i*cols+j).max(value))\n",
    "        for k in range(nelts*(cols//nelts), cols):\n",
    "            output.simd_store[1](i*cols+k, output.simd_load[1](i*cols+k).max(value))\n",
    "    return output"
   ]
  },
  {
   "cell_type": "code",
   "execution_count": null,
   "metadata": {},
   "outputs": [],
   "source": [
    "struct ActivationReLU:\n",
    "    var input: Tensor[type]\n",
    "    var output: Tensor[type]\n",
    "    var dinputs: Tensor[type]\n",
    "\n",
    "    fn __init__(inout self):\n",
    "        self.input = Tensor[type]()\n",
    "        self.output = Tensor[type]()\n",
    "        self.dinputs = Tensor[type]()\n",
    "\n",
    "    fn forward(inout self, inputs: Tensor[type]):\n",
    "        self.output = tensor_max(inputs, 0)\n",
    "        self.input = inputs\n",
    "\n",
    "    def backward(inout self, d_values: Tensor[type]):\n",
    "        pass"
   ]
  },
  {
   "cell_type": "code",
   "execution_count": 31,
   "metadata": {},
   "outputs": [
    {
     "name": "stdout",
     "output_type": "stream",
     "text": [
      "Tensor([[0.51701498031616211, 0.73513919115066528, 0.742706298828125, ..., 0.76813429594039917, 0.81904655694961548, 0.43459099531173706]], dtype=float32, shape=12)\n",
      "Tensor([[0.51701498031616211, 0.73513919115066528, 0.742706298828125],\n",
      "[0.31978964805603027, 0.17441794276237488, 0.6653144359588623],\n",
      "[0.25154781341552734, 0.38916084170341492, 0.54644107818603516],\n",
      "[0.76813429594039917, 0.81904655694961548, 0.43459099531173706]], dtype=float32, shape=4x3)\n",
      "4x5\n"
     ]
    }
   ],
   "source": [
    "var inputs = rand[type](12)\n",
    "print(inputs)\n",
    "inputs = inputs.reshape(TensorShape(4, 3))\n",
    "print(inputs)\n",
    "var d1 = LayerDense(3, 5)\n",
    "d1.forward(inputs)\n",
    "print(d1.output.shape())\n"
   ]
  },
  {
   "cell_type": "code",
   "execution_count": 43,
   "metadata": {},
   "outputs": [
    {
     "name": "stdout",
     "output_type": "stream",
     "text": [
      "[0.0, 3.0, 4.0, 0.0]\n"
     ]
    }
   ],
   "source": [
    "let a = SIMD[type, 4](-1, 3, 4, -5)\n",
    "let b = SIMD[type, 1](0)\n",
    "print(a.max(b))"
   ]
  },
  {
   "cell_type": "code",
   "execution_count": null,
   "metadata": {},
   "outputs": [],
   "source": []
  }
 ],
 "metadata": {
  "kernelspec": {
   "display_name": "Mojo",
   "language": "mojo",
   "name": "mojo-jupyter-kernel"
  },
  "language_info": {
   "codemirror_mode": {
    "name": "mojo"
   },
   "file_extension": ".mojo",
   "mimetype": "text/x-mojo",
   "name": "mojo"
  }
 },
 "nbformat": 4,
 "nbformat_minor": 2
}
