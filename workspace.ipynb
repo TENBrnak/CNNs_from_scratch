{
 "cells": [
  {
   "cell_type": "code",
   "execution_count": 40,
   "metadata": {},
   "outputs": [],
   "source": [
    "from tensor import TensorSpec, Tensor\n",
    "from utils.index import Index"
   ]
  },
  {
   "cell_type": "code",
   "execution_count": 41,
   "metadata": {},
   "outputs": [],
   "source": [
    "fn si8_to_ui8(int_tensor: Tensor[DType.int8]) raises -> Tensor[DType.uint8]:\n",
    "    let spec = TensorSpec(DType.uint8, int_tensor.shape())\n",
    "    var unsigned_ints = Tensor[DType.uint8](spec)\n",
    "    for i in range(int_tensor.num_elements()):\n",
    "        let signed_int = int_tensor[i]\n",
    "        let unsigned_int = signed_int.cast[DType.uint8]()\n",
    "        unsigned_ints[i] = unsigned_int\n",
    "    return unsigned_ints"
   ]
  },
  {
   "cell_type": "code",
   "execution_count": 42,
   "metadata": {},
   "outputs": [],
   "source": [
    "fn uint8_to_int32(uint8_tensor: Tensor[DType.uint8]) raises -> SIMD[DType.int32, 1]:\n",
    "    let result = (\n",
    "            (uint8_tensor[0].to_int() << 24) |\n",
    "            (uint8_tensor[1].to_int() << 16) |\n",
    "            (uint8_tensor[2].to_int() << 8) |\n",
    "            uint8_tensor[3].to_int()\n",
    "        )\n",
    "    return SIMD[DType.int32, 1](result)"
   ]
  },
  {
   "cell_type": "code",
   "execution_count": 43,
   "metadata": {},
   "outputs": [],
   "source": [
    "fn get_slice[type: DType](tensor: Tensor[type], start_index: Int, end_index: Int) raises -> Tensor[type]:\n",
    "    if end_index < start_index:\n",
    "        raise 'End index more than'\n",
    "    elif end_index == start_index:\n",
    "        var output_tensor = Tensor[type](1)\n",
    "        output_tensor[0] = tensor[start_index]\n",
    "        \n",
    "        return output_tensor\n",
    "    else:\n",
    "        var output_tensor = Tensor[type](end_index - start_index)\n",
    "        for i in range(start_index, end_index):\n",
    "            output_tensor[i - start_index] = tensor[i]\n",
    "        return output_tensor"
   ]
  },
  {
   "cell_type": "code",
   "execution_count": 44,
   "metadata": {},
   "outputs": [],
   "source": [
    "fn read_data_as_images(images_path: Path) raises -> Tensor[DType.uint8]:\n",
    "    if images_path.exists():\n",
    "\n",
    "        let image_file = si8_to_ui8(images_path.read_bytes())\n",
    "        let num_images = uint8_to_int32(get_slice[DType.uint8](image_file, 4, 8))\n",
    "        let width = uint8_to_int32(get_slice[DType.uint8](image_file, 8, 12))\n",
    "        let height = uint8_to_int32(get_slice[DType.uint8](image_file, 12, 16))\n",
    "\n",
    "        let image_data = get_slice(image_file, 16, image_file.num_elements())\n",
    "        \n",
    "        var images = Tensor[DType.uint8](num_images.to_int(), height.to_int(), width.to_int())\n",
    "\n",
    "        var sample_num = 0\n",
    "        var column_num = 0\n",
    "        var row_num = 0\n",
    "        for byte_num in range(image_data.num_elements()):\n",
    "            images[Index(sample_num, column_num, row_num)] = image_data[byte_num]\n",
    "            row_num += 1\n",
    "            if row_num >= width.to_int():\n",
    "                row_num = 0\n",
    "                column_num += 1\n",
    "            if column_num >= height.to_int():\n",
    "                column_num = 0\n",
    "                sample_num += 1\n",
    "        return images\n",
    "    raise 'The images directory does not exist.'"
   ]
  },
  {
   "cell_type": "code",
   "execution_count": 45,
   "metadata": {},
   "outputs": [],
   "source": [
    "fn read_data_as_labels(labels_path: Path) raises -> Tensor[DType.uint8]:\n",
    "    if labels_path.exists():\n",
    "        let label_file = si8_to_ui8(labels_path.read_bytes())\n",
    "        let num_labels = uint8_to_int32(get_slice[DType.uint8](label_file, 4, 8))\n",
    "\n",
    "        let labels = get_slice(label_file, 8, num_labels.to_int() + 8)\n",
    "        \n",
    "        return labels\n",
    "    raise 'The labels directory does not exist.'"
   ]
  },
  {
   "cell_type": "code",
   "execution_count": 51,
   "metadata": {},
   "outputs": [],
   "source": [
    "fn tensor_print[type: DType](index: Int, tensor: Tensor[type]):\n",
    "    var cur_line: String\n",
    "    fn get_char_for_pixel(pixel_value: Int) -> String:\n",
    "        if pixel_value == 0:\n",
    "            return ' '\n",
    "        elif pixel_value < 32:\n",
    "            return \".\"\n",
    "        elif pixel_value < 64:\n",
    "            return ','\n",
    "        elif pixel_value < 96:\n",
    "            return ':'\n",
    "        elif pixel_value < 128:\n",
    "            return ';'\n",
    "        elif pixel_value < 160:\n",
    "            return 'o'\n",
    "        elif pixel_value < 192:\n",
    "            return 'O'\n",
    "        elif pixel_value < 224:\n",
    "            return 'X'\n",
    "        else:\n",
    "            return '#'\n",
    "    for j in range(tensor.shape()[1]):\n",
    "        cur_line = '' \n",
    "        for k in range(tensor.shape()[2]):\n",
    "            cur_line += get_char_for_pixel(tensor[Index(index, j, k)].to_int()) + ' '\n",
    "        print(cur_line)"
   ]
  },
  {
   "cell_type": "code",
   "execution_count": 52,
   "metadata": {},
   "outputs": [],
   "source": [
    "let base_dir = '/Users/tprazak/Documents/seminary_work_nn/MNIST_in_mojo/'\n",
    "let image_path_mnist = base_dir + 'mnist/train-images.idx3-ubyte'\n",
    "let labels_path_mnist = base_dir + 'mnist/train-labels.idx1-ubyte'\n",
    "let image_path_fashion = base_dir + 'fashion_mnist/train-images-idx3-ubyte'\n",
    "let labels_path_fashion = base_dir + 'fashion_mnist/train-labels-idx1-ubyte'\n",
    "let images = read_data_as_images(image_path_mnist)\n",
    "let labels = read_data_as_labels(labels_path_mnist)\n",
    "let fashion_images = read_data_as_images(image_path_fashion)\n",
    "let fashion_labels = read_data_as_labels(labels_path_fashion)"
   ]
  },
  {
   "cell_type": "code",
   "execution_count": 61,
   "metadata": {},
   "outputs": [
    {
     "name": "stdout",
     "output_type": "stream",
     "text": [
      "                                                        \n",
      "                                                        \n",
      "                                                        \n",
      "                                                        \n",
      "                          : X # # X o                   \n",
      "                        : # # O : X # .                 \n",
      "                        X X ,     : # X                 \n",
      "                        : o       : # O                 \n",
      "                          .       : # ,                 \n",
      "                                . X #                   \n",
      "                                o # ,                   \n",
      "                              : # O                     \n",
      "                            . # # ,                     \n",
      "                            O # :                       \n",
      "                          o # o                         \n",
      "                        . # X                           \n",
      "                        O # ,                           \n",
      "                      ; # o                             \n",
      "                    , # ; .                             \n",
      "                  . X # : o o o ; . .                   \n",
      "                  : # # # # # # # # # ;                 \n",
      "                , X # # # O : : ; O O X                 \n",
      "                X # # O ,             .                 \n",
      "                O o . .                                 \n",
      "                                                        \n",
      "                                                        \n",
      "                                                        \n",
      "                                                        \n"
     ]
    }
   ],
   "source": [
    "tensor_print(5232, images)"
   ]
  },
  {
   "cell_type": "code",
   "execution_count": 58,
   "metadata": {},
   "outputs": [
    {
     "name": "stdout",
     "output_type": "stream",
     "text": [
      "1\n"
     ]
    }
   ],
   "source": [
    "print(labels[3])"
   ]
  },
  {
   "cell_type": "code",
   "execution_count": null,
   "metadata": {},
   "outputs": [],
   "source": []
  }
 ],
 "metadata": {
  "kernelspec": {
   "display_name": "Mojo",
   "language": "mojo",
   "name": "mojo-jupyter-kernel"
  },
  "language_info": {
   "codemirror_mode": {
    "name": "mojo"
   },
   "file_extension": ".mojo",
   "mimetype": "text/x-mojo",
   "name": "mojo"
  }
 },
 "nbformat": 4,
 "nbformat_minor": 2
}
