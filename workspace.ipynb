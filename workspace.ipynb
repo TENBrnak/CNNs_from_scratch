{
 "cells": [
  {
   "cell_type": "code",
   "execution_count": 2,
   "metadata": {},
   "outputs": [],
   "source": [
    "from tensor import TensorSpec, Tensor, TensorShape\n",
    "from utils.index import Index\n",
    "from collections.dict import Dict, KeyElement\n",
    "from random import rand"
   ]
  },
  {
   "cell_type": "code",
   "execution_count": 3,
   "metadata": {},
   "outputs": [],
   "source": [
    "@value\n",
    "struct IntKey(KeyElement):\n",
    "    var n: Int\n",
    "\n",
    "    fn __init__(inout self, owned n: Int):\n",
    "        self.n = n\n",
    "\n",
    "    fn __hash__(self) -> Int:\n",
    "        return hash(self.n)\n",
    "\n",
    "    fn __eq__(self, other: Self) -> Bool:\n",
    "        return self.n == other.n\n",
    "\n",
    "\n",
    "let fashion_mnist_key = Dict[IntKey, String]()\n",
    "fashion_mnist_key[0] = \"T-shirt/top\"\n",
    "fashion_mnist_key[1] = \"Trouser\"\n",
    "fashion_mnist_key[2] = \"Pullover\"\n",
    "fashion_mnist_key[3] = \"Dress\"\n",
    "fashion_mnist_key[4] = \"Coat\"\n",
    "fashion_mnist_key[5] = \"Sandal\"\n",
    "fashion_mnist_key[6] = \"Shirt\"\n",
    "fashion_mnist_key[7] = \"Sneaker\"\n",
    "fashion_mnist_key[8] = \"Bag\"\n",
    "fashion_mnist_key[9] = \"Ankle boot\"\n"
   ]
  },
  {
   "cell_type": "code",
   "execution_count": 4,
   "metadata": {},
   "outputs": [],
   "source": [
    "fn uint8_to_int32(uint8_tensor: Tensor[DType.uint8]) raises -> SIMD[DType.int32, 1]:\n",
    "    let result = (\n",
    "        (uint8_tensor[0].to_int() << 24)\n",
    "        | (uint8_tensor[1].to_int() << 16)\n",
    "        | (uint8_tensor[2].to_int() << 8)\n",
    "        | uint8_tensor[3].to_int()\n",
    "    )\n",
    "    return SIMD[DType.int32, 1](result)\n"
   ]
  },
  {
   "cell_type": "code",
   "execution_count": 5,
   "metadata": {},
   "outputs": [],
   "source": [
    "fn get_slice[type: DType](tensor: Tensor[type], start_index: Int, end_index: Int) raises -> Tensor[type]:\n",
    "    if end_index < start_index:\n",
    "        raise \"End index more than start index.\"\n",
    "    elif end_index == start_index:\n",
    "        var output_tensor = Tensor[type](1)\n",
    "        output_tensor[0] = tensor[start_index]\n",
    "\n",
    "        return output_tensor\n",
    "    else:\n",
    "        var output_tensor = Tensor[type](end_index - start_index)\n",
    "        for i in range(start_index, end_index):\n",
    "            output_tensor[i - start_index] = tensor[i]\n",
    "        return output_tensor\n"
   ]
  },
  {
   "cell_type": "code",
   "execution_count": 6,
   "metadata": {},
   "outputs": [],
   "source": [
    "fn read_data_as_images(images_path: Path) raises -> Tensor[DType.uint8]:\n",
    "    if images_path.exists():\n",
    "        let image_file = images_path.read_bytes().astype[DType.uint8]()\n",
    "        let num_images = uint8_to_int32(get_slice[DType.uint8](image_file, 4, 8))\n",
    "        let width = uint8_to_int32(get_slice[DType.uint8](image_file, 8, 12))\n",
    "        let height = uint8_to_int32(get_slice[DType.uint8](image_file, 12, 16))\n",
    "\n",
    "        var image_data = get_slice(image_file, 16, image_file.num_elements())\n",
    "\n",
    "        let images_shape = TensorShape(\n",
    "            num_images.to_int(), height.to_int(), width.to_int()\n",
    "        )\n",
    "\n",
    "        let images = image_data.reshape(images_shape)\n",
    "        return images\n",
    "    raise \"The images directory does not exist.\"\n"
   ]
  },
  {
   "cell_type": "code",
   "execution_count": 7,
   "metadata": {},
   "outputs": [],
   "source": [
    "fn read_data_as_labels(labels_path: Path) raises -> Tensor[DType.uint8]:\n",
    "    if labels_path.exists():\n",
    "        let label_file = labels_path.read_bytes().astype[DType.uint8]()\n",
    "        let num_labels = uint8_to_int32(get_slice[DType.uint8](label_file, 4, 8))\n",
    "\n",
    "        let labels = get_slice(label_file, 8, num_labels.to_int() + 8)\n",
    "\n",
    "        return labels\n",
    "    raise \"The labels directory does not exist.\"\n"
   ]
  },
  {
   "cell_type": "code",
   "execution_count": 8,
   "metadata": {},
   "outputs": [],
   "source": [
    "fn tensor_print[type: DType](index: Int, tensor: Tensor[type]):\n",
    "    var cur_line: String\n",
    "\n",
    "    fn get_char_for_pixel(pixel_value: Int) -> String:\n",
    "        if pixel_value == 0:\n",
    "            return \" \"\n",
    "        elif pixel_value < 32:\n",
    "            return \".\"\n",
    "        elif pixel_value < 64:\n",
    "            return \",\"\n",
    "        elif pixel_value < 96:\n",
    "            return \":\"\n",
    "        elif pixel_value < 128:\n",
    "            return \";\"\n",
    "        elif pixel_value < 160:\n",
    "            return \"o\"\n",
    "        elif pixel_value < 192:\n",
    "            return \"O\"\n",
    "        elif pixel_value < 224:\n",
    "            return \"X\"\n",
    "        else:\n",
    "            return \"#\"\n",
    "\n",
    "    for j in range(tensor.shape()[1]):\n",
    "        cur_line = \"\"\n",
    "        for k in range(tensor.shape()[2]):\n",
    "            cur_line += get_char_for_pixel(tensor[Index(index, j, k)].to_int()) + \" \"\n",
    "        print(cur_line)\n"
   ]
  },
  {
   "cell_type": "code",
   "execution_count": 9,
   "metadata": {},
   "outputs": [],
   "source": [
    "let base_dir = \"/Users/tprazak/Documents/seminary_work_nn/MNIST_in_mojo/\"\n",
    "let image_path_mnist = base_dir + \"mnist/train-images.idx3-ubyte\"\n",
    "let labels_path_mnist = base_dir + \"mnist/train-labels.idx1-ubyte\"\n",
    "let image_path_fashion = base_dir + \"fashion_mnist/train-images-idx3-ubyte\"\n",
    "let labels_path_fashion = base_dir + \"fashion_mnist/train-labels-idx1-ubyte\"\n",
    "let images = read_data_as_images(image_path_mnist)\n",
    "let labels = read_data_as_labels(labels_path_mnist)\n",
    "let fashion_images = read_data_as_images(image_path_fashion)\n",
    "let fashion_labels = read_data_as_labels(labels_path_fashion)\n"
   ]
  },
  {
   "cell_type": "code",
   "execution_count": 10,
   "metadata": {},
   "outputs": [],
   "source": [
    "fn matmul[type: DType](first_matrix: Tensor[type], second_matrix: Tensor[type]) raises -> Tensor[DType.float32]:\n",
    "    let f_m = first_matrix.astype[DType.float32]()\n",
    "    let s_m = second_matrix.astype[DType.float32]()\n",
    "    if first_matrix.rank() != 2 or second_matrix.rank() != 2:\n",
    "        raise 'At least one of the tensors is not a matrix'\n",
    "    if first_matrix.dim(1) != second_matrix.dim(0):\n",
    "        raise 'Then matrices are not compatible for matrix multiplication'\n",
    "\n",
    "    let o_m_rows = f_m.dim(0)\n",
    "    let o_m_columns = s_m.dim(1)\n",
    "    var o_m = Tensor[DType.float32](o_m_rows * o_m_columns)\n",
    "    for i in range(o_m_rows):\n",
    "        for j in range(f_m.dim(1)):\n",
    "            for k in range(o_m_columns):\n",
    "                o_m[i*o_m_columns+k] += f_m[i, j] * s_m[j, k]\n",
    "    return o_m.reshape(TensorShape(o_m_rows, o_m_columns))"
   ]
  },
  {
   "cell_type": "code",
   "execution_count": 11,
   "metadata": {},
   "outputs": [],
   "source": [
    "alias nelts = simdwidthof[DType.float32]()\n",
    "fn matmul_vectorized[type: DType](first_matrix: Tensor[type], second_matrix: Tensor[type]) raises -> Tensor[DType.float32]:\n",
    "    let f_m = first_matrix.astype[DType.float32]()\n",
    "    let s_m = second_matrix.astype[DType.float32]()\n",
    "    if first_matrix.rank() != 2 or second_matrix.rank() != 2:\n",
    "        raise 'At least one of the tensors is not a matrix'\n",
    "    if first_matrix.dim(1) != second_matrix.dim(0):\n",
    "        raise 'Then matrices are not compatible for matrix multiplication'\n",
    "\n",
    "    let o_m_rows = f_m.dim(0)\n",
    "    let o_m_cols = s_m.dim(1)\n",
    "    var o_m = Tensor[DType.float32](o_m_rows * o_m_cols)\n",
    "    for i in range(o_m_rows):\n",
    "        for j in range(f_m.dim(1)):\n",
    "            for kv in range(0, nelts*(o_m_cols//nelts), nelts):\n",
    "                o_m.simd_store[nelts](i*o_m_cols+kv, o_m.simd_load[nelts](i*o_m_cols+kv) + f_m.simd_load[1](i*f_m.dim(1)+j) * s_m.simd_load[nelts](j*s_m.dim(1)+kv))\n",
    "            for k in range(nelts*(o_m_cols//nelts), o_m_cols):\n",
    "                o_m.simd_store[1](i*o_m_cols+k, o_m.simd_load[1](i*o_m_cols+k) + f_m.simd_load[1](i*f_m.dim(1)+j) * s_m.simd_load[1](j*s_m.dim(1)+k))\n",
    "    return o_m.reshape(TensorShape(o_m_rows, o_m_cols))"
   ]
  },
  {
   "cell_type": "code",
   "execution_count": 22,
   "metadata": {},
   "outputs": [],
   "source": [
    "struct LayerDense:\n",
    "    var input: Tensor[DType.float32]\n",
    "    var output: Tensor[DType.float32]\n",
    "    var weights: Tensor[DType.float32]\n",
    "    var biases: Tensor[DType.float32]\n",
    "\n",
    "    fn __init__(inout self, num_inputs: Int, num_neurons: Int):\n",
    "        self.weights = 0.01 * rand[DType.float32](num_inputs, num_neurons)\n",
    "        self.biases = Tensor[DType.float32](1, num_neurons)\n",
    "        self.input = Tensor[DType.float32]()\n",
    "        self.output = Tensor[DType.float32]()\n",
    "    \n",
    "    fn forward(inout self, inputs: Tensor[DType.float32]) raises:\n",
    "        self.output = matmul_vectorized(inputs, self.weights)\n",
    "        self.input = inputs\n",
    "\n",
    "    \n",
    "        "
   ]
  },
  {
   "cell_type": "code",
   "execution_count": 25,
   "metadata": {},
   "outputs": [
    {
     "name": "stdout",
     "output_type": "stream",
     "text": [
      "Tensor([[0.063639961183071136, 0.22221310436725616, 0.61379098892211914, ..., 0.94909024238586426, 0.17877237498760223, 0.83520811796188354]], dtype=float32, shape=12)\n",
      "Tensor([[0.063639961183071136, 0.22221310436725616, 0.61379098892211914],\n",
      "[0.91744643449783325, 0.23601752519607544, 0.43634861707687378],\n",
      "[0.61380642652511597, 0.84160757064819336, 0.55225920677185059],\n",
      "[0.94909024238586426, 0.17877237498760223, 0.83520811796188354]], dtype=float32, shape=4x3)\n",
      "Tensor([[0.0072466549463570118, 0.0079225338995456696, 0.0063172997906804085, 0.0016481641214340925, 0.0047957035712897778],\n",
      "[0.0096768364310264587, 0.012567325495183468, 0.0063163670711219311, 0.0044222073629498482, 0.0039474521763622761],\n",
      "[0.01461403351277113, 0.017364505678415298, 0.0072549376636743546, 0.0042622163891792297, 0.0064770951867103577],\n",
      "[0.012569409795105457, 0.015667194500565529, 0.010263418778777122, 0.0052178371697664261, 0.0064408816397190094]], dtype=float32, shape=4x5)\n"
     ]
    }
   ],
   "source": [
    "var inputs = rand[DType.float32](12)\n",
    "print(inputs)\n",
    "inputs = inputs.reshape(TensorShape(4, 3))\n",
    "print(inputs)\n",
    "var d1 = LayerDense(3, 5)\n",
    "d1.forward(inputs)\n",
    "print(d1.output)\n"
   ]
  },
  {
   "cell_type": "code",
   "execution_count": null,
   "metadata": {},
   "outputs": [],
   "source": []
  }
 ],
 "metadata": {
  "kernelspec": {
   "display_name": "Mojo",
   "language": "mojo",
   "name": "mojo-jupyter-kernel"
  },
  "language_info": {
   "codemirror_mode": {
    "name": "mojo"
   },
   "file_extension": ".mojo",
   "mimetype": "text/x-mojo",
   "name": "mojo"
  }
 },
 "nbformat": 4,
 "nbformat_minor": 2
}
