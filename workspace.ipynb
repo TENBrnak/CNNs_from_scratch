{
 "cells": [
  {
   "cell_type": "code",
   "execution_count": 22,
   "metadata": {},
   "outputs": [],
   "source": [
    "from tensor import TensorSpec, Tensor\n",
    "\n",
    "struct Image:\n",
    "    var width: Int\n",
    "    var height: Int\n",
    "    var img_data: Tensor[DType.int16]\n",
    "    var label: Int\n",
    "\n",
    "    fn __init__(inout self, width: Int, height: Int, label: Int, data: Tensor[DType.int16]):\n",
    "        self.width = width\n",
    "        self.height = height\n",
    "        let spec = TensorSpec(DType.int16, self.width, self.height)\n",
    "        self.img_data = Tensor[DType.int16](spec)\n",
    "        self.label = label"
   ]
  },
  {
   "cell_type": "code",
   "execution_count": 36,
   "metadata": {},
   "outputs": [
    {
     "name": "stdout",
     "output_type": "stream",
     "text": [
      "-42\n",
      "11010110\n"
     ]
    }
   ],
   "source": [
    "fn int8_to_byte(signed_int: Int) raises -> String:\n",
    "    if not (-128 <= signed_int <= 127):\n",
    "        raise \"Input must be a signed 8-bit integer (-128 to 127)\"\n",
    "\n",
    "    var unsigned_int = signed_int % 256\n",
    "    var bit_string = String()\n",
    "\n",
    "    # Extract individual bits using bitwise operations\n",
    "    for _ in range(8):\n",
    "        let bit = unsigned_int & 1\n",
    "        bit_string = String(bit) + bit_string\n",
    "        unsigned_int >>= 1\n",
    "\n",
    "    return bit_string\n",
    "\n",
    "# Example usage:\n",
    "let signed_integer = -42  # Replace with your desired signed 8-bit integer\n",
    "let byte_representation = int8_to_byte(signed_integer)\n",
    "\n",
    "# Display the result\n",
    "print(signed_integer)\n",
    "print(byte_representation)"
   ]
  },
  {
   "cell_type": "code",
   "execution_count": 26,
   "metadata": {},
   "outputs": [],
   "source": [
    "fn read_data_as_images(images: Path, labels: Path) raises -> VariadicList[Image]:\n",
    "    if images.exists() and labels.exists():\n",
    "        let data = images.read_bytes()\n",
    "        return VariadicList[Image]()\n",
    "    raise 'Directory does not exist.'"
   ]
  },
  {
   "cell_type": "code",
   "execution_count": 34,
   "metadata": {},
   "outputs": [
    {
     "name": "stdout",
     "output_type": "stream",
     "text": [
      "Tensor([[0, 0, 8, ..., 0, 0, 0]], dtype=int8, shape=47040016)\n"
     ]
    }
   ],
   "source": [
    "let image_path = Path('/Users/tprazak/Documents/seminary_work_nn/MNIST_in_mojo/dataset/train-images.idx3-ubyte')\n",
    "let test = image_path.read_bytes()"
   ]
  },
  {
   "cell_type": "code",
   "execution_count": 27,
   "metadata": {},
   "outputs": [
    {
     "name": "stdout",
     "output_type": "stream",
     "text": [
      "Tensor([[0, 0, 8, ..., 0, 0, 0]], dtype=int8, shape=47040016)\n"
     ]
    }
   ],
   "source": [
    "let image_path = '/Users/tprazak/Documents/seminary_work_nn/MNIST_in_mojo/dataset/train-images.idx3-ubyte'\n",
    "let labels_path = '/Users/tprazak/Documents/seminary_work_nn/MNIST_in_mojo/dataset/train-labels.idx1-ubyte'\n",
    "let images = read_data_as_images(image_path, labels_path)"
   ]
  }
 ],
 "metadata": {
  "kernelspec": {
   "display_name": "Mojo",
   "language": "mojo",
   "name": "mojo-jupyter-kernel"
  },
  "language_info": {
   "codemirror_mode": {
    "name": "mojo"
   },
   "file_extension": ".mojo",
   "mimetype": "text/x-mojo",
   "name": "mojo"
  }
 },
 "nbformat": 4,
 "nbformat_minor": 2
}
