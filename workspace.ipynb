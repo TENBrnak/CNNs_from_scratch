{
 "cells": [
  {
   "cell_type": "code",
   "execution_count": 86,
   "metadata": {},
   "outputs": [],
   "source": [
    "from tensor import TensorSpec, Tensor\n",
    "\n",
    "struct Image:\n",
    "    var width: Int\n",
    "    var height: Int\n",
    "    var img_data: Tensor[DType.int16]\n",
    "    var label: Int\n",
    "\n",
    "    fn __init__(inout self, width: Int, height: Int, label: Int, data: Tensor[DType.int16]):\n",
    "        self.width = width\n",
    "        self.height = height\n",
    "        let spec = TensorSpec(DType.int16, self.width, self.height)\n",
    "        self.img_data = Tensor[DType.int16](spec)\n",
    "        self.label = label"
   ]
  },
  {
   "cell_type": "code",
   "execution_count": 87,
   "metadata": {},
   "outputs": [],
   "source": [
    "fn si8_to_ui8(int_tensor: Tensor[DType.int8]) raises -> Tensor[DType.uint8]:\n",
    "    let spec = TensorSpec(DType.uint8, int_tensor.shape())\n",
    "    var unsigned_ints = Tensor[DType.uint8](spec)\n",
    "    for i in range(int_tensor.num_elements()):\n",
    "        let signed_int = int_tensor[i]\n",
    "        let unsigned_int = signed_int.cast[DType.uint8]()\n",
    "        unsigned_ints[i] = unsigned_int\n",
    "    return unsigned_ints"
   ]
  },
  {
   "cell_type": "code",
   "execution_count": 88,
   "metadata": {},
   "outputs": [],
   "source": [
    "fn uint8_to_int32(uint8_tensor: Tensor[DType.uint8]) raises -> SIMD[DType.int32, 1]:\n",
    "    let result = (\n",
    "            (uint8_tensor[0].to_int() << 24) |\n",
    "            (uint8_tensor[1].to_int() << 16) |\n",
    "            (uint8_tensor[2].to_int() << 8) |\n",
    "            uint8_tensor[3].to_int()\n",
    "        )\n",
    "    return SIMD[DType.int32, 1](result)"
   ]
  },
  {
   "cell_type": "code",
   "execution_count": 89,
   "metadata": {},
   "outputs": [],
   "source": [
    "fn get_slice[type: DType](tensor: Tensor[type], start_index: Int, end_index: Int) raises -> Tensor[type]:\n",
    "    if end_index < start_index:\n",
    "        raise 'End index more than'\n",
    "    elif end_index == start_index:\n",
    "        var output_tensor = Tensor[type](1)\n",
    "        output_tensor[0] = tensor[start_index]\n",
    "        return output_tensor\n",
    "    else:\n",
    "        var output_tensor = Tensor[type](end_index - start_index)\n",
    "        for i in range(start_index, end_index):\n",
    "            output_tensor[i - start_index] = tensor[i]\n",
    "        return output_tensor"
   ]
  },
  {
   "cell_type": "code",
   "execution_count": 90,
   "metadata": {},
   "outputs": [
    {
     "name": "stderr",
     "output_type": "stream",
     "text": [
      "error: \u001b[0;1;31m\u001b[1mExpression [89]:17:9: \u001b[0m\u001b[1mcannot implicitly convert 'None' value to 'Tensor[ui16]' in return value\n",
      "\u001b[0m        return \n",
      "\u001b[0;1;32m        ^~~~~~\n",
      "\u001b[0m\u001b[0m\n",
      "expression failed to parse (no further compiler diagnostics)"
     ]
    }
   ],
   "source": [
    "fn read_data_as_images(images_path: Path) raises -> Tensor[DType.uint16]:\n",
    "    if images_path.exists():\n",
    "\n",
    "        let image_file = si8_to_ui8(images_path.read_bytes())\n",
    "        let num_images = uint8_to_int32(get_slice[DType.uint8](image_file, 4, 8))\n",
    "        let width = uint8_to_int32(get_slice[DType.uint8](image_file, 8, 12))\n",
    "        let height = uint8_to_int32(get_slice[DType.uint8](image_file, 12, 16))\n",
    "\n",
    "        let image_data = get_slice(image_file, 8, num_images.to_int() + 1)\n",
    "        \n",
    "        return \n",
    "    raise 'The images directory does not exist.'"
   ]
  },
  {
   "cell_type": "code",
   "execution_count": null,
   "metadata": {},
   "outputs": [],
   "source": [
    "fn read_data_as_labels(labels_path: Path) raises -> Tensor[DType.uint8]:\n",
    "    if labels_path.exists():\n",
    "        let labels = si8_to_ui8(labels_path.read_bytes())\n",
    "        let num_labels = uint8_to_int32(get_slice[DType.uint8](labels, 4, 8))\n",
    "\n",
    "        let label_data = get_slice(labels, 8, num_labels.to_int() + 1)\n",
    "        \n",
    "        return \n",
    "    raise 'The labels directory does not exist.'"
   ]
  },
  {
   "cell_type": "code",
   "execution_count": 91,
   "metadata": {},
   "outputs": [
    {
     "name": "stdout",
     "output_type": "stream",
     "text": [
      "Tensor([[0, 0, 0, 28]], dtype=uint8, shape=4) Tensor([[0, 0, 0, 28]], dtype=uint8, shape=4)\n",
      "28 28 60000\n"
     ]
    }
   ],
   "source": [
    "let image_path = '/Users/tprazak/Documents/seminary_work_nn/MNIST_in_mojo/mnist/train-images.idx3-ubyte'\n",
    "let labels_path = '/Users/tprazak/Documents/seminary_work_nn/MNIST_in_mojo/mnist/train-labels.idx1-ubyte'\n",
    "let imgs_and_labels = read_data_as_images(image_path, labels_path)\n",
    "let images = imgs_and_labels.get[0, Tensor[DType.uint16]]()\n"
   ]
  },
  {
   "cell_type": "code",
   "execution_count": 92,
   "metadata": {},
   "outputs": [
    {
     "name": "stdout",
     "output_type": "stream",
     "text": [
      "Tensor([[0, 0, 3]], dtype=uint8, shape=3)\n"
     ]
    }
   ],
   "source": [
    "let hey = Tensor[DType.uint8](7)\n",
    "hey[4] = 3\n",
    "print(get_slice(hey, 2, 5))"
   ]
  }
 ],
 "metadata": {
  "kernelspec": {
   "display_name": "Mojo",
   "language": "mojo",
   "name": "mojo-jupyter-kernel"
  },
  "language_info": {
   "codemirror_mode": {
    "name": "mojo"
   },
   "file_extension": ".mojo",
   "mimetype": "text/x-mojo",
   "name": "mojo"
  }
 },
 "nbformat": 4,
 "nbformat_minor": 2
}
